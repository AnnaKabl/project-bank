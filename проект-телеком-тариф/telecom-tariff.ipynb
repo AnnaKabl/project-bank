{
 "cells": [
  {
   "cell_type": "markdown",
   "metadata": {},
   "source": [
    "# Определение перспективного тарифа для телеком-компании\n",
    "\n",
    "   Клиентам предлагают два тарифных плана: «Смарт» и «Ультра». Чтобы скорректировать рекламный бюджет, коммерческий департамент хочет понять, какой тариф приносит больше денег.\n",
    "    \n",
    "   Нам предстоит сделать предварительный анализ тарифов на небольшой выборке клиентов. В нашем распоряжении данные 500 пользователей «Мегалайна»: кто они, откуда, каким тарифом пользуются, сколько звонков и сообщений каждый отправил за 2018 год. Нужно проанализировать поведение клиентов и сделать вывод — какой тариф лучше.\n",
    "   \n",
    "   Описание тарифов\n",
    "   \n",
    "Тариф «Смарт»\n",
    "* Ежемесячная плата: 550 рублей\n",
    "* Включено 500 минут разговора, 50 сообщений и 15 Гб интернет-трафика\n",
    "* Стоимость услуг сверх тарифного пакета:\n",
    "* минута разговора: 3 рубля\n",
    "* сообщение: 3 рубля\n",
    "* 1 Гб интернет-трафика: 200 рублей\n",
    "\n",
    "Тариф «Ультра»\n",
    "* Ежемесячная плата: 1950 рублей\n",
    "* Включено 3000 минут разговора, 1000 сообщений и 30 Гб интернет-трафика\n",
    "* Стоимость услуг сверх тарифного пакета:\n",
    "* минута разговора: 1 рубль\n",
    "* сообщение: 1 рубль\n",
    "* 1 Гб интернет-трафика: 150 рублей"
   ]
  },
  {
   "cell_type": "markdown",
   "metadata": {},
   "source": [
    "### Изучение данных из файла"
   ]
  },
  {
   "cell_type": "code",
   "execution_count": 1,
   "metadata": {},
   "outputs": [],
   "source": [
    "# подключим необходимые библиотеки для исследования \n",
    "import numpy as np\n",
    "import scipy.stats as stats\n",
    "\n",
    "from tqdm import tqdm\n",
    "\n",
    "%matplotlib inline\n",
    "%config InlineBackend.figure_format='retina'\n",
    "import matplotlib.pyplot as plt\n",
    "import seaborn as sns\n",
    "import pandas as pd"
   ]
  },
  {
   "cell_type": "markdown",
   "metadata": {},
   "source": [
    "Изучим таблицу о пользователях:"
   ]
  },
  {
   "cell_type": "code",
   "execution_count": 2,
   "metadata": {},
   "outputs": [
    {
     "data": {
      "text/html": [
       "<div>\n",
       "<style scoped>\n",
       "    .dataframe tbody tr th:only-of-type {\n",
       "        vertical-align: middle;\n",
       "    }\n",
       "\n",
       "    .dataframe tbody tr th {\n",
       "        vertical-align: top;\n",
       "    }\n",
       "\n",
       "    .dataframe thead th {\n",
       "        text-align: right;\n",
       "    }\n",
       "</style>\n",
       "<table border=\"1\" class=\"dataframe\">\n",
       "  <thead>\n",
       "    <tr style=\"text-align: right;\">\n",
       "      <th></th>\n",
       "      <th>user_id</th>\n",
       "      <th>age</th>\n",
       "      <th>churn_date</th>\n",
       "      <th>city</th>\n",
       "      <th>first_name</th>\n",
       "      <th>last_name</th>\n",
       "      <th>reg_date</th>\n",
       "      <th>tariff</th>\n",
       "    </tr>\n",
       "  </thead>\n",
       "  <tbody>\n",
       "    <tr>\n",
       "      <th>0</th>\n",
       "      <td>1000</td>\n",
       "      <td>52</td>\n",
       "      <td>NaN</td>\n",
       "      <td>Краснодар</td>\n",
       "      <td>Рафаил</td>\n",
       "      <td>Верещагин</td>\n",
       "      <td>2018-05-25</td>\n",
       "      <td>ultra</td>\n",
       "    </tr>\n",
       "    <tr>\n",
       "      <th>1</th>\n",
       "      <td>1001</td>\n",
       "      <td>41</td>\n",
       "      <td>NaN</td>\n",
       "      <td>Москва</td>\n",
       "      <td>Иван</td>\n",
       "      <td>Ежов</td>\n",
       "      <td>2018-11-01</td>\n",
       "      <td>smart</td>\n",
       "    </tr>\n",
       "    <tr>\n",
       "      <th>2</th>\n",
       "      <td>1002</td>\n",
       "      <td>59</td>\n",
       "      <td>NaN</td>\n",
       "      <td>Стерлитамак</td>\n",
       "      <td>Евгений</td>\n",
       "      <td>Абрамович</td>\n",
       "      <td>2018-06-17</td>\n",
       "      <td>smart</td>\n",
       "    </tr>\n",
       "    <tr>\n",
       "      <th>3</th>\n",
       "      <td>1003</td>\n",
       "      <td>23</td>\n",
       "      <td>NaN</td>\n",
       "      <td>Москва</td>\n",
       "      <td>Белла</td>\n",
       "      <td>Белякова</td>\n",
       "      <td>2018-08-17</td>\n",
       "      <td>ultra</td>\n",
       "    </tr>\n",
       "    <tr>\n",
       "      <th>4</th>\n",
       "      <td>1004</td>\n",
       "      <td>68</td>\n",
       "      <td>NaN</td>\n",
       "      <td>Новокузнецк</td>\n",
       "      <td>Татьяна</td>\n",
       "      <td>Авдеенко</td>\n",
       "      <td>2018-05-14</td>\n",
       "      <td>ultra</td>\n",
       "    </tr>\n",
       "    <tr>\n",
       "      <th>5</th>\n",
       "      <td>1005</td>\n",
       "      <td>67</td>\n",
       "      <td>NaN</td>\n",
       "      <td>Набережные Челны</td>\n",
       "      <td>Афанасий</td>\n",
       "      <td>Горлов</td>\n",
       "      <td>2018-01-25</td>\n",
       "      <td>smart</td>\n",
       "    </tr>\n",
       "    <tr>\n",
       "      <th>6</th>\n",
       "      <td>1006</td>\n",
       "      <td>21</td>\n",
       "      <td>NaN</td>\n",
       "      <td>Ульяновск</td>\n",
       "      <td>Леонид</td>\n",
       "      <td>Ермолаев</td>\n",
       "      <td>2018-02-26</td>\n",
       "      <td>smart</td>\n",
       "    </tr>\n",
       "    <tr>\n",
       "      <th>7</th>\n",
       "      <td>1007</td>\n",
       "      <td>65</td>\n",
       "      <td>NaN</td>\n",
       "      <td>Москва</td>\n",
       "      <td>Юна</td>\n",
       "      <td>Березина</td>\n",
       "      <td>2018-04-19</td>\n",
       "      <td>smart</td>\n",
       "    </tr>\n",
       "    <tr>\n",
       "      <th>8</th>\n",
       "      <td>1008</td>\n",
       "      <td>63</td>\n",
       "      <td>NaN</td>\n",
       "      <td>Челябинск</td>\n",
       "      <td>Рустэм</td>\n",
       "      <td>Пономарёв</td>\n",
       "      <td>2018-12-19</td>\n",
       "      <td>smart</td>\n",
       "    </tr>\n",
       "    <tr>\n",
       "      <th>9</th>\n",
       "      <td>1009</td>\n",
       "      <td>24</td>\n",
       "      <td>NaN</td>\n",
       "      <td>Пермь</td>\n",
       "      <td>Василиса</td>\n",
       "      <td>Блинова</td>\n",
       "      <td>2018-03-22</td>\n",
       "      <td>smart</td>\n",
       "    </tr>\n",
       "  </tbody>\n",
       "</table>\n",
       "</div>"
      ],
      "text/plain": [
       "   user_id  age churn_date              city first_name  last_name  \\\n",
       "0     1000   52        NaN         Краснодар     Рафаил  Верещагин   \n",
       "1     1001   41        NaN            Москва       Иван       Ежов   \n",
       "2     1002   59        NaN       Стерлитамак    Евгений  Абрамович   \n",
       "3     1003   23        NaN            Москва      Белла   Белякова   \n",
       "4     1004   68        NaN       Новокузнецк    Татьяна   Авдеенко   \n",
       "5     1005   67        NaN  Набережные Челны   Афанасий     Горлов   \n",
       "6     1006   21        NaN         Ульяновск     Леонид   Ермолаев   \n",
       "7     1007   65        NaN            Москва        Юна   Березина   \n",
       "8     1008   63        NaN         Челябинск     Рустэм  Пономарёв   \n",
       "9     1009   24        NaN             Пермь   Василиса    Блинова   \n",
       "\n",
       "     reg_date tariff  \n",
       "0  2018-05-25  ultra  \n",
       "1  2018-11-01  smart  \n",
       "2  2018-06-17  smart  \n",
       "3  2018-08-17  ultra  \n",
       "4  2018-05-14  ultra  \n",
       "5  2018-01-25  smart  \n",
       "6  2018-02-26  smart  \n",
       "7  2018-04-19  smart  \n",
       "8  2018-12-19  smart  \n",
       "9  2018-03-22  smart  "
      ]
     },
     "metadata": {},
     "output_type": "display_data"
    }
   ],
   "source": [
    "users=pd.read_csv('/datasets/users.csv')\n",
    "display(users.head(10))"
   ]
  },
  {
   "cell_type": "markdown",
   "metadata": {},
   "source": [
    "Таблица users (информация о пользователях):\n",
    "* user_id — уникальный идентификатор пользователя\n",
    "* first_name — имя пользователя\n",
    "* last_name — фамилия пользователя\n",
    "* age — возраст пользователя (годы)\n",
    "* reg_date — дата подключения тарифа (день, месяц, год)\n",
    "* churn_date — дата прекращения пользования тарифом (если значение пропущено, то тариф ещё действовал на момент выгрузки данных)\n",
    "* city — город проживания пользователя\n",
    "* tariff — название тарифного плана"
   ]
  },
  {
   "cell_type": "code",
   "execution_count": 3,
   "metadata": {},
   "outputs": [
    {
     "name": "stdout",
     "output_type": "stream",
     "text": [
      "<class 'pandas.core.frame.DataFrame'>\n",
      "RangeIndex: 500 entries, 0 to 499\n",
      "Data columns (total 8 columns):\n",
      " #   Column      Non-Null Count  Dtype \n",
      "---  ------      --------------  ----- \n",
      " 0   user_id     500 non-null    int64 \n",
      " 1   age         500 non-null    int64 \n",
      " 2   churn_date  38 non-null     object\n",
      " 3   city        500 non-null    object\n",
      " 4   first_name  500 non-null    object\n",
      " 5   last_name   500 non-null    object\n",
      " 6   reg_date    500 non-null    object\n",
      " 7   tariff      500 non-null    object\n",
      "dtypes: int64(2), object(6)\n",
      "memory usage: 31.4+ KB\n"
     ]
    }
   ],
   "source": [
    "# рассмотрим общую инфо (количество строк и тип данных, а также есть ли пропуски)\n",
    "users.info()"
   ]
  },
  {
   "cell_type": "markdown",
   "metadata": {},
   "source": [
    "Существуют пропуски в столбце дата прекращения пользования. Эти данные в исследовании использованы не будут, поэтому оставим данные как есть.\n",
    "\n",
    "Проверим данные на неявные дубли, для этого рассмотрим уникальные значения в столбцах тариф и город:"
   ]
  },
  {
   "cell_type": "code",
   "execution_count": 4,
   "metadata": {},
   "outputs": [
    {
     "data": {
      "text/plain": [
       "array(['ultra', 'smart'], dtype=object)"
      ]
     },
     "execution_count": 4,
     "metadata": {},
     "output_type": "execute_result"
    }
   ],
   "source": [
    "users['tariff'].unique()"
   ]
  },
  {
   "cell_type": "code",
   "execution_count": 5,
   "metadata": {},
   "outputs": [
    {
     "data": {
      "text/plain": [
       "array(['Краснодар', 'Москва', 'Стерлитамак', 'Новокузнецк',\n",
       "       'Набережные Челны', 'Ульяновск', 'Челябинск', 'Пермь', 'Тюмень',\n",
       "       'Самара', 'Санкт-Петербург', 'Иваново', 'Чебоксары', 'Омск', 'Уфа',\n",
       "       'Томск', 'Чита', 'Мурманск', 'Петрозаводск', 'Тверь',\n",
       "       'Екатеринбург', 'Махачкала', 'Вологда', 'Череповец', 'Ярославль',\n",
       "       'Сочи', 'Хабаровск', 'Ставрополь', 'Рязань', 'Улан-Удэ', 'Тула',\n",
       "       'Саратов', 'Ростов-на-Дону', 'Казань', 'Иркутск', 'Курск',\n",
       "       'Калуга', 'Якутск', 'Астрахань', 'Химки', 'Владикавказ',\n",
       "       'Волгоград', 'Саранск', 'Ижевск', 'Новосибирск', 'Брянск',\n",
       "       'Тольятти', 'Нижний Тагил', 'Орёл', 'Белгород', 'Воронеж',\n",
       "       'Волжский', 'Курган', 'Барнаул', 'Красноярск', 'Архангельск',\n",
       "       'Липецк', 'Кемерово', 'Киров', 'Сургут', 'Пенза', 'Магнитогорск',\n",
       "       'Нижний Новгород', 'Кострома', 'Владивосток', 'Тамбов', 'Балашиха',\n",
       "       'Севастополь', 'Калининград', 'Оренбург', 'Смоленск',\n",
       "       'Нижневартовск', 'Владимир', 'Новороссийск', 'Грозный', 'Подольск'],\n",
       "      dtype=object)"
      ]
     },
     "execution_count": 5,
     "metadata": {},
     "output_type": "execute_result"
    }
   ],
   "source": [
    "users['city'].unique()"
   ]
  },
  {
   "cell_type": "markdown",
   "metadata": {},
   "source": [
    "Визуально дублей не обнаружено.\n",
    "\n",
    "Теперь обработаем 'reg_date' в datetime, чтобы в дальнейшем выделить месяц:"
   ]
  },
  {
   "cell_type": "code",
   "execution_count": 6,
   "metadata": {},
   "outputs": [],
   "source": [
    "users['reg_date']=pd.to_datetime(users['reg_date'],format='%Y-%m-%d')\n",
    "#users.info()"
   ]
  },
  {
   "cell_type": "code",
   "execution_count": 7,
   "metadata": {},
   "outputs": [
    {
     "data": {
      "text/plain": [
       "0"
      ]
     },
     "execution_count": 7,
     "metadata": {},
     "output_type": "execute_result"
    }
   ],
   "source": [
    "# на всякий случай проверим на явные дубликаты\n",
    "users.duplicated().sum()"
   ]
  },
  {
   "cell_type": "markdown",
   "metadata": {},
   "source": [
    "Теперь посмотрим таблицу со звонками:"
   ]
  },
  {
   "cell_type": "code",
   "execution_count": 8,
   "metadata": {},
   "outputs": [
    {
     "data": {
      "text/html": [
       "<div>\n",
       "<style scoped>\n",
       "    .dataframe tbody tr th:only-of-type {\n",
       "        vertical-align: middle;\n",
       "    }\n",
       "\n",
       "    .dataframe tbody tr th {\n",
       "        vertical-align: top;\n",
       "    }\n",
       "\n",
       "    .dataframe thead th {\n",
       "        text-align: right;\n",
       "    }\n",
       "</style>\n",
       "<table border=\"1\" class=\"dataframe\">\n",
       "  <thead>\n",
       "    <tr style=\"text-align: right;\">\n",
       "      <th></th>\n",
       "      <th>id</th>\n",
       "      <th>call_date</th>\n",
       "      <th>duration</th>\n",
       "      <th>user_id</th>\n",
       "    </tr>\n",
       "  </thead>\n",
       "  <tbody>\n",
       "    <tr>\n",
       "      <th>0</th>\n",
       "      <td>1000_0</td>\n",
       "      <td>2018-07-25</td>\n",
       "      <td>0.00</td>\n",
       "      <td>1000</td>\n",
       "    </tr>\n",
       "    <tr>\n",
       "      <th>1</th>\n",
       "      <td>1000_1</td>\n",
       "      <td>2018-08-17</td>\n",
       "      <td>0.00</td>\n",
       "      <td>1000</td>\n",
       "    </tr>\n",
       "    <tr>\n",
       "      <th>2</th>\n",
       "      <td>1000_2</td>\n",
       "      <td>2018-06-11</td>\n",
       "      <td>2.85</td>\n",
       "      <td>1000</td>\n",
       "    </tr>\n",
       "    <tr>\n",
       "      <th>3</th>\n",
       "      <td>1000_3</td>\n",
       "      <td>2018-09-21</td>\n",
       "      <td>13.80</td>\n",
       "      <td>1000</td>\n",
       "    </tr>\n",
       "    <tr>\n",
       "      <th>4</th>\n",
       "      <td>1000_4</td>\n",
       "      <td>2018-12-15</td>\n",
       "      <td>5.18</td>\n",
       "      <td>1000</td>\n",
       "    </tr>\n",
       "  </tbody>\n",
       "</table>\n",
       "</div>"
      ],
      "text/plain": [
       "       id   call_date  duration  user_id\n",
       "0  1000_0  2018-07-25      0.00     1000\n",
       "1  1000_1  2018-08-17      0.00     1000\n",
       "2  1000_2  2018-06-11      2.85     1000\n",
       "3  1000_3  2018-09-21     13.80     1000\n",
       "4  1000_4  2018-12-15      5.18     1000"
      ]
     },
     "metadata": {},
     "output_type": "display_data"
    }
   ],
   "source": [
    "calls=pd.read_csv('/datasets/calls.csv')\n",
    "display(calls.head(5))"
   ]
  },
  {
   "cell_type": "markdown",
   "metadata": {},
   "source": [
    "Таблица calls (информация о звонках):\n",
    "* id — уникальный номер звонка\n",
    "* call_date — дата звонка\n",
    "* duration — длительность звонка в минутах\n",
    "* user_id — идентификатор пользователя, сделавшего звонок"
   ]
  },
  {
   "cell_type": "code",
   "execution_count": 9,
   "metadata": {},
   "outputs": [
    {
     "name": "stdout",
     "output_type": "stream",
     "text": [
      "<class 'pandas.core.frame.DataFrame'>\n",
      "RangeIndex: 202607 entries, 0 to 202606\n",
      "Data columns (total 4 columns):\n",
      " #   Column     Non-Null Count   Dtype  \n",
      "---  ------     --------------   -----  \n",
      " 0   id         202607 non-null  object \n",
      " 1   call_date  202607 non-null  object \n",
      " 2   duration   202607 non-null  float64\n",
      " 3   user_id    202607 non-null  int64  \n",
      "dtypes: float64(1), int64(1), object(2)\n",
      "memory usage: 6.2+ MB\n"
     ]
    }
   ],
   "source": [
    "calls.info()"
   ]
  },
  {
   "cell_type": "markdown",
   "metadata": {},
   "source": [
    "Пропусков нет, проверим на дубли:"
   ]
  },
  {
   "cell_type": "code",
   "execution_count": 10,
   "metadata": {},
   "outputs": [
    {
     "data": {
      "text/plain": [
       "0"
      ]
     },
     "execution_count": 10,
     "metadata": {},
     "output_type": "execute_result"
    }
   ],
   "source": [
    "calls.duplicated().sum()"
   ]
  },
  {
   "cell_type": "code",
   "execution_count": 11,
   "metadata": {},
   "outputs": [
    {
     "name": "stdout",
     "output_type": "stream",
     "text": [
      "<class 'pandas.core.frame.DataFrame'>\n",
      "RangeIndex: 202607 entries, 0 to 202606\n",
      "Data columns (total 4 columns):\n",
      " #   Column     Non-Null Count   Dtype         \n",
      "---  ------     --------------   -----         \n",
      " 0   id         202607 non-null  object        \n",
      " 1   call_date  202607 non-null  datetime64[ns]\n",
      " 2   duration   202607 non-null  float64       \n",
      " 3   user_id    202607 non-null  int64         \n",
      "dtypes: datetime64[ns](1), float64(1), int64(1), object(1)\n",
      "memory usage: 6.2+ MB\n"
     ]
    }
   ],
   "source": [
    "#преобразуем столбец с датой, для дальнейшего выделения месяца\n",
    "calls['call_date']=pd.to_datetime(calls['call_date'],format='%Y-%m-%d')\n",
    "calls.info()"
   ]
  },
  {
   "cell_type": "code",
   "execution_count": 12,
   "metadata": {},
   "outputs": [
    {
     "data": {
      "text/html": [
       "<div>\n",
       "<style scoped>\n",
       "    .dataframe tbody tr th:only-of-type {\n",
       "        vertical-align: middle;\n",
       "    }\n",
       "\n",
       "    .dataframe tbody tr th {\n",
       "        vertical-align: top;\n",
       "    }\n",
       "\n",
       "    .dataframe thead th {\n",
       "        text-align: right;\n",
       "    }\n",
       "</style>\n",
       "<table border=\"1\" class=\"dataframe\">\n",
       "  <thead>\n",
       "    <tr style=\"text-align: right;\">\n",
       "      <th></th>\n",
       "      <th>id</th>\n",
       "      <th>call_date</th>\n",
       "      <th>duration</th>\n",
       "      <th>user_id</th>\n",
       "      <th>month</th>\n",
       "    </tr>\n",
       "  </thead>\n",
       "  <tbody>\n",
       "    <tr>\n",
       "      <th>0</th>\n",
       "      <td>1000_0</td>\n",
       "      <td>2018-07-25</td>\n",
       "      <td>0.00</td>\n",
       "      <td>1000</td>\n",
       "      <td>7</td>\n",
       "    </tr>\n",
       "    <tr>\n",
       "      <th>1</th>\n",
       "      <td>1000_1</td>\n",
       "      <td>2018-08-17</td>\n",
       "      <td>0.00</td>\n",
       "      <td>1000</td>\n",
       "      <td>8</td>\n",
       "    </tr>\n",
       "    <tr>\n",
       "      <th>2</th>\n",
       "      <td>1000_2</td>\n",
       "      <td>2018-06-11</td>\n",
       "      <td>2.85</td>\n",
       "      <td>1000</td>\n",
       "      <td>6</td>\n",
       "    </tr>\n",
       "    <tr>\n",
       "      <th>3</th>\n",
       "      <td>1000_3</td>\n",
       "      <td>2018-09-21</td>\n",
       "      <td>13.80</td>\n",
       "      <td>1000</td>\n",
       "      <td>9</td>\n",
       "    </tr>\n",
       "    <tr>\n",
       "      <th>4</th>\n",
       "      <td>1000_4</td>\n",
       "      <td>2018-12-15</td>\n",
       "      <td>5.18</td>\n",
       "      <td>1000</td>\n",
       "      <td>12</td>\n",
       "    </tr>\n",
       "  </tbody>\n",
       "</table>\n",
       "</div>"
      ],
      "text/plain": [
       "       id  call_date  duration  user_id  month\n",
       "0  1000_0 2018-07-25      0.00     1000      7\n",
       "1  1000_1 2018-08-17      0.00     1000      8\n",
       "2  1000_2 2018-06-11      2.85     1000      6\n",
       "3  1000_3 2018-09-21     13.80     1000      9\n",
       "4  1000_4 2018-12-15      5.18     1000     12"
      ]
     },
     "metadata": {},
     "output_type": "display_data"
    }
   ],
   "source": [
    "#создаем новый столбец с номером месяца\n",
    "calls['month']=calls['call_date'].dt.month\n",
    "display(calls.head(5))"
   ]
  },
  {
   "cell_type": "code",
   "execution_count": 13,
   "metadata": {},
   "outputs": [
    {
     "data": {
      "text/html": [
       "<div>\n",
       "<style scoped>\n",
       "    .dataframe tbody tr th:only-of-type {\n",
       "        vertical-align: middle;\n",
       "    }\n",
       "\n",
       "    .dataframe tbody tr th {\n",
       "        vertical-align: top;\n",
       "    }\n",
       "\n",
       "    .dataframe thead th {\n",
       "        text-align: right;\n",
       "    }\n",
       "</style>\n",
       "<table border=\"1\" class=\"dataframe\">\n",
       "  <thead>\n",
       "    <tr style=\"text-align: right;\">\n",
       "      <th></th>\n",
       "      <th>id</th>\n",
       "      <th>call_date</th>\n",
       "      <th>duration</th>\n",
       "      <th>user_id</th>\n",
       "      <th>month</th>\n",
       "    </tr>\n",
       "  </thead>\n",
       "  <tbody>\n",
       "    <tr>\n",
       "      <th>0</th>\n",
       "      <td>1000_0</td>\n",
       "      <td>2018-07-25</td>\n",
       "      <td>0.0</td>\n",
       "      <td>1000</td>\n",
       "      <td>7</td>\n",
       "    </tr>\n",
       "    <tr>\n",
       "      <th>1</th>\n",
       "      <td>1000_1</td>\n",
       "      <td>2018-08-17</td>\n",
       "      <td>0.0</td>\n",
       "      <td>1000</td>\n",
       "      <td>8</td>\n",
       "    </tr>\n",
       "    <tr>\n",
       "      <th>2</th>\n",
       "      <td>1000_2</td>\n",
       "      <td>2018-06-11</td>\n",
       "      <td>3.0</td>\n",
       "      <td>1000</td>\n",
       "      <td>6</td>\n",
       "    </tr>\n",
       "    <tr>\n",
       "      <th>3</th>\n",
       "      <td>1000_3</td>\n",
       "      <td>2018-09-21</td>\n",
       "      <td>14.0</td>\n",
       "      <td>1000</td>\n",
       "      <td>9</td>\n",
       "    </tr>\n",
       "    <tr>\n",
       "      <th>4</th>\n",
       "      <td>1000_4</td>\n",
       "      <td>2018-12-15</td>\n",
       "      <td>6.0</td>\n",
       "      <td>1000</td>\n",
       "      <td>12</td>\n",
       "    </tr>\n",
       "  </tbody>\n",
       "</table>\n",
       "</div>"
      ],
      "text/plain": [
       "       id  call_date  duration  user_id  month\n",
       "0  1000_0 2018-07-25       0.0     1000      7\n",
       "1  1000_1 2018-08-17       0.0     1000      8\n",
       "2  1000_2 2018-06-11       3.0     1000      6\n",
       "3  1000_3 2018-09-21      14.0     1000      9\n",
       "4  1000_4 2018-12-15       6.0     1000     12"
      ]
     },
     "metadata": {},
     "output_type": "display_data"
    }
   ],
   "source": [
    "# округляем до целого вверх, тк «Мегалайн» всегда округляет секунды до минут\n",
    "calls['duration']=np.ceil(calls['duration'])\n",
    "display(calls.head(5))"
   ]
  },
  {
   "cell_type": "markdown",
   "metadata": {},
   "source": [
    "Изучим таблицу с инфо о сообщениях:"
   ]
  },
  {
   "cell_type": "code",
   "execution_count": 14,
   "metadata": {},
   "outputs": [
    {
     "data": {
      "text/html": [
       "<div>\n",
       "<style scoped>\n",
       "    .dataframe tbody tr th:only-of-type {\n",
       "        vertical-align: middle;\n",
       "    }\n",
       "\n",
       "    .dataframe tbody tr th {\n",
       "        vertical-align: top;\n",
       "    }\n",
       "\n",
       "    .dataframe thead th {\n",
       "        text-align: right;\n",
       "    }\n",
       "</style>\n",
       "<table border=\"1\" class=\"dataframe\">\n",
       "  <thead>\n",
       "    <tr style=\"text-align: right;\">\n",
       "      <th></th>\n",
       "      <th>id</th>\n",
       "      <th>message_date</th>\n",
       "      <th>user_id</th>\n",
       "    </tr>\n",
       "  </thead>\n",
       "  <tbody>\n",
       "    <tr>\n",
       "      <th>0</th>\n",
       "      <td>1000_0</td>\n",
       "      <td>2018-06-27</td>\n",
       "      <td>1000</td>\n",
       "    </tr>\n",
       "    <tr>\n",
       "      <th>1</th>\n",
       "      <td>1000_1</td>\n",
       "      <td>2018-10-08</td>\n",
       "      <td>1000</td>\n",
       "    </tr>\n",
       "    <tr>\n",
       "      <th>2</th>\n",
       "      <td>1000_2</td>\n",
       "      <td>2018-08-04</td>\n",
       "      <td>1000</td>\n",
       "    </tr>\n",
       "    <tr>\n",
       "      <th>3</th>\n",
       "      <td>1000_3</td>\n",
       "      <td>2018-06-16</td>\n",
       "      <td>1000</td>\n",
       "    </tr>\n",
       "    <tr>\n",
       "      <th>4</th>\n",
       "      <td>1000_4</td>\n",
       "      <td>2018-12-05</td>\n",
       "      <td>1000</td>\n",
       "    </tr>\n",
       "  </tbody>\n",
       "</table>\n",
       "</div>"
      ],
      "text/plain": [
       "       id message_date  user_id\n",
       "0  1000_0   2018-06-27     1000\n",
       "1  1000_1   2018-10-08     1000\n",
       "2  1000_2   2018-08-04     1000\n",
       "3  1000_3   2018-06-16     1000\n",
       "4  1000_4   2018-12-05     1000"
      ]
     },
     "metadata": {},
     "output_type": "display_data"
    }
   ],
   "source": [
    "messages=pd.read_csv('/datasets/messages.csv')\n",
    "display(messages.head(5))"
   ]
  },
  {
   "cell_type": "markdown",
   "metadata": {},
   "source": [
    "Таблица messages (информация о сообщениях):\n",
    "* id — уникальный номер сообщения\n",
    "* message_date — дата сообщения\n",
    "* user_id — идентификатор пользователя, отправившего сообщение"
   ]
  },
  {
   "cell_type": "code",
   "execution_count": 15,
   "metadata": {},
   "outputs": [
    {
     "name": "stdout",
     "output_type": "stream",
     "text": [
      "<class 'pandas.core.frame.DataFrame'>\n",
      "RangeIndex: 123036 entries, 0 to 123035\n",
      "Data columns (total 3 columns):\n",
      " #   Column        Non-Null Count   Dtype \n",
      "---  ------        --------------   ----- \n",
      " 0   id            123036 non-null  object\n",
      " 1   message_date  123036 non-null  object\n",
      " 2   user_id       123036 non-null  int64 \n",
      "dtypes: int64(1), object(2)\n",
      "memory usage: 2.8+ MB\n"
     ]
    }
   ],
   "source": [
    "messages.info()"
   ]
  },
  {
   "cell_type": "code",
   "execution_count": 16,
   "metadata": {},
   "outputs": [
    {
     "data": {
      "text/plain": [
       "0"
      ]
     },
     "execution_count": 16,
     "metadata": {},
     "output_type": "execute_result"
    }
   ],
   "source": [
    "messages.duplicated().sum()"
   ]
  },
  {
   "cell_type": "markdown",
   "metadata": {},
   "source": [
    "Пропусков нет и дубликатов тоже нет.\n",
    "\n",
    "Преобразуем дату и создадим новый столбец месяц:"
   ]
  },
  {
   "cell_type": "code",
   "execution_count": 17,
   "metadata": {},
   "outputs": [
    {
     "data": {
      "text/html": [
       "<div>\n",
       "<style scoped>\n",
       "    .dataframe tbody tr th:only-of-type {\n",
       "        vertical-align: middle;\n",
       "    }\n",
       "\n",
       "    .dataframe tbody tr th {\n",
       "        vertical-align: top;\n",
       "    }\n",
       "\n",
       "    .dataframe thead th {\n",
       "        text-align: right;\n",
       "    }\n",
       "</style>\n",
       "<table border=\"1\" class=\"dataframe\">\n",
       "  <thead>\n",
       "    <tr style=\"text-align: right;\">\n",
       "      <th></th>\n",
       "      <th>id</th>\n",
       "      <th>message_date</th>\n",
       "      <th>user_id</th>\n",
       "      <th>month</th>\n",
       "    </tr>\n",
       "  </thead>\n",
       "  <tbody>\n",
       "    <tr>\n",
       "      <th>0</th>\n",
       "      <td>1000_0</td>\n",
       "      <td>2018-06-27</td>\n",
       "      <td>1000</td>\n",
       "      <td>6</td>\n",
       "    </tr>\n",
       "    <tr>\n",
       "      <th>1</th>\n",
       "      <td>1000_1</td>\n",
       "      <td>2018-10-08</td>\n",
       "      <td>1000</td>\n",
       "      <td>10</td>\n",
       "    </tr>\n",
       "    <tr>\n",
       "      <th>2</th>\n",
       "      <td>1000_2</td>\n",
       "      <td>2018-08-04</td>\n",
       "      <td>1000</td>\n",
       "      <td>8</td>\n",
       "    </tr>\n",
       "    <tr>\n",
       "      <th>3</th>\n",
       "      <td>1000_3</td>\n",
       "      <td>2018-06-16</td>\n",
       "      <td>1000</td>\n",
       "      <td>6</td>\n",
       "    </tr>\n",
       "    <tr>\n",
       "      <th>4</th>\n",
       "      <td>1000_4</td>\n",
       "      <td>2018-12-05</td>\n",
       "      <td>1000</td>\n",
       "      <td>12</td>\n",
       "    </tr>\n",
       "  </tbody>\n",
       "</table>\n",
       "</div>"
      ],
      "text/plain": [
       "       id message_date  user_id  month\n",
       "0  1000_0   2018-06-27     1000      6\n",
       "1  1000_1   2018-10-08     1000     10\n",
       "2  1000_2   2018-08-04     1000      8\n",
       "3  1000_3   2018-06-16     1000      6\n",
       "4  1000_4   2018-12-05     1000     12"
      ]
     },
     "metadata": {},
     "output_type": "display_data"
    }
   ],
   "source": [
    "messages['message_date']=pd.to_datetime(messages['message_date'],format='%Y-%m-%d')\n",
    "messages['month']=messages['message_date'].dt.month\n",
    "display(messages.head(5))"
   ]
  },
  {
   "cell_type": "markdown",
   "metadata": {},
   "source": [
    "Теперь данные о потраченном интернет траффике:"
   ]
  },
  {
   "cell_type": "code",
   "execution_count": 18,
   "metadata": {},
   "outputs": [
    {
     "data": {
      "text/html": [
       "<div>\n",
       "<style scoped>\n",
       "    .dataframe tbody tr th:only-of-type {\n",
       "        vertical-align: middle;\n",
       "    }\n",
       "\n",
       "    .dataframe tbody tr th {\n",
       "        vertical-align: top;\n",
       "    }\n",
       "\n",
       "    .dataframe thead th {\n",
       "        text-align: right;\n",
       "    }\n",
       "</style>\n",
       "<table border=\"1\" class=\"dataframe\">\n",
       "  <thead>\n",
       "    <tr style=\"text-align: right;\">\n",
       "      <th></th>\n",
       "      <th>Unnamed: 0</th>\n",
       "      <th>id</th>\n",
       "      <th>mb_used</th>\n",
       "      <th>session_date</th>\n",
       "      <th>user_id</th>\n",
       "    </tr>\n",
       "  </thead>\n",
       "  <tbody>\n",
       "    <tr>\n",
       "      <th>0</th>\n",
       "      <td>0</td>\n",
       "      <td>1000_0</td>\n",
       "      <td>112.95</td>\n",
       "      <td>2018-11-25</td>\n",
       "      <td>1000</td>\n",
       "    </tr>\n",
       "    <tr>\n",
       "      <th>1</th>\n",
       "      <td>1</td>\n",
       "      <td>1000_1</td>\n",
       "      <td>1052.81</td>\n",
       "      <td>2018-09-07</td>\n",
       "      <td>1000</td>\n",
       "    </tr>\n",
       "    <tr>\n",
       "      <th>2</th>\n",
       "      <td>2</td>\n",
       "      <td>1000_2</td>\n",
       "      <td>1197.26</td>\n",
       "      <td>2018-06-25</td>\n",
       "      <td>1000</td>\n",
       "    </tr>\n",
       "    <tr>\n",
       "      <th>3</th>\n",
       "      <td>3</td>\n",
       "      <td>1000_3</td>\n",
       "      <td>550.27</td>\n",
       "      <td>2018-08-22</td>\n",
       "      <td>1000</td>\n",
       "    </tr>\n",
       "    <tr>\n",
       "      <th>4</th>\n",
       "      <td>4</td>\n",
       "      <td>1000_4</td>\n",
       "      <td>302.56</td>\n",
       "      <td>2018-09-24</td>\n",
       "      <td>1000</td>\n",
       "    </tr>\n",
       "  </tbody>\n",
       "</table>\n",
       "</div>"
      ],
      "text/plain": [
       "   Unnamed: 0      id  mb_used session_date  user_id\n",
       "0           0  1000_0   112.95   2018-11-25     1000\n",
       "1           1  1000_1  1052.81   2018-09-07     1000\n",
       "2           2  1000_2  1197.26   2018-06-25     1000\n",
       "3           3  1000_3   550.27   2018-08-22     1000\n",
       "4           4  1000_4   302.56   2018-09-24     1000"
      ]
     },
     "metadata": {},
     "output_type": "display_data"
    }
   ],
   "source": [
    "internet=pd.read_csv('/datasets/internet.csv')\n",
    "display(internet.head(5))"
   ]
  },
  {
   "cell_type": "markdown",
   "metadata": {},
   "source": [
    "Таблица internet (информация об интернет-сессиях):\n",
    "* id — уникальный номер сессии\n",
    "* mb_used — объём потраченного за сессию интернет-трафика (в мегабайтах)\n",
    "* session_date — дата интернет-сессии\n",
    "* user_id — идентификатор пользователя"
   ]
  },
  {
   "cell_type": "code",
   "execution_count": 19,
   "metadata": {},
   "outputs": [
    {
     "name": "stdout",
     "output_type": "stream",
     "text": [
      "<class 'pandas.core.frame.DataFrame'>\n",
      "RangeIndex: 149396 entries, 0 to 149395\n",
      "Data columns (total 5 columns):\n",
      " #   Column        Non-Null Count   Dtype  \n",
      "---  ------        --------------   -----  \n",
      " 0   Unnamed: 0    149396 non-null  int64  \n",
      " 1   id            149396 non-null  object \n",
      " 2   mb_used       149396 non-null  float64\n",
      " 3   session_date  149396 non-null  object \n",
      " 4   user_id       149396 non-null  int64  \n",
      "dtypes: float64(1), int64(2), object(2)\n",
      "memory usage: 5.7+ MB\n"
     ]
    }
   ],
   "source": [
    "internet.info()"
   ]
  },
  {
   "cell_type": "code",
   "execution_count": 20,
   "metadata": {},
   "outputs": [
    {
     "data": {
      "text/plain": [
       "0"
      ]
     },
     "execution_count": 20,
     "metadata": {},
     "output_type": "execute_result"
    }
   ],
   "source": [
    "internet.duplicated().sum()"
   ]
  },
  {
   "cell_type": "markdown",
   "metadata": {},
   "source": [
    "Пропусков нет и дубликатов тоже.\n",
    "\n",
    "Преобразуем дату и создаем столбец месяц:"
   ]
  },
  {
   "cell_type": "code",
   "execution_count": 21,
   "metadata": {},
   "outputs": [
    {
     "data": {
      "text/html": [
       "<div>\n",
       "<style scoped>\n",
       "    .dataframe tbody tr th:only-of-type {\n",
       "        vertical-align: middle;\n",
       "    }\n",
       "\n",
       "    .dataframe tbody tr th {\n",
       "        vertical-align: top;\n",
       "    }\n",
       "\n",
       "    .dataframe thead th {\n",
       "        text-align: right;\n",
       "    }\n",
       "</style>\n",
       "<table border=\"1\" class=\"dataframe\">\n",
       "  <thead>\n",
       "    <tr style=\"text-align: right;\">\n",
       "      <th></th>\n",
       "      <th>Unnamed: 0</th>\n",
       "      <th>id</th>\n",
       "      <th>mb_used</th>\n",
       "      <th>session_date</th>\n",
       "      <th>user_id</th>\n",
       "      <th>month</th>\n",
       "    </tr>\n",
       "  </thead>\n",
       "  <tbody>\n",
       "    <tr>\n",
       "      <th>0</th>\n",
       "      <td>0</td>\n",
       "      <td>1000_0</td>\n",
       "      <td>112.95</td>\n",
       "      <td>2018-11-25</td>\n",
       "      <td>1000</td>\n",
       "      <td>11</td>\n",
       "    </tr>\n",
       "    <tr>\n",
       "      <th>1</th>\n",
       "      <td>1</td>\n",
       "      <td>1000_1</td>\n",
       "      <td>1052.81</td>\n",
       "      <td>2018-09-07</td>\n",
       "      <td>1000</td>\n",
       "      <td>9</td>\n",
       "    </tr>\n",
       "    <tr>\n",
       "      <th>2</th>\n",
       "      <td>2</td>\n",
       "      <td>1000_2</td>\n",
       "      <td>1197.26</td>\n",
       "      <td>2018-06-25</td>\n",
       "      <td>1000</td>\n",
       "      <td>6</td>\n",
       "    </tr>\n",
       "    <tr>\n",
       "      <th>3</th>\n",
       "      <td>3</td>\n",
       "      <td>1000_3</td>\n",
       "      <td>550.27</td>\n",
       "      <td>2018-08-22</td>\n",
       "      <td>1000</td>\n",
       "      <td>8</td>\n",
       "    </tr>\n",
       "    <tr>\n",
       "      <th>4</th>\n",
       "      <td>4</td>\n",
       "      <td>1000_4</td>\n",
       "      <td>302.56</td>\n",
       "      <td>2018-09-24</td>\n",
       "      <td>1000</td>\n",
       "      <td>9</td>\n",
       "    </tr>\n",
       "  </tbody>\n",
       "</table>\n",
       "</div>"
      ],
      "text/plain": [
       "   Unnamed: 0      id  mb_used session_date  user_id  month\n",
       "0           0  1000_0   112.95   2018-11-25     1000     11\n",
       "1           1  1000_1  1052.81   2018-09-07     1000      9\n",
       "2           2  1000_2  1197.26   2018-06-25     1000      6\n",
       "3           3  1000_3   550.27   2018-08-22     1000      8\n",
       "4           4  1000_4   302.56   2018-09-24     1000      9"
      ]
     },
     "metadata": {},
     "output_type": "display_data"
    }
   ],
   "source": [
    "internet['session_date']=pd.to_datetime(internet['session_date'],format='%Y-%m-%d')\n",
    "internet['month']=internet['session_date'].dt.month\n",
    "display(internet.head(5))"
   ]
  },
  {
   "cell_type": "markdown",
   "metadata": {},
   "source": [
    "Вывод:\n",
    "\n",
    "    Изучили данные. Преобразовали дату и сздали в каждой таблице столбец \"месяц\". Проверили на явные и неявные дубли, проверили на пропуски. Переходим к следующими этапу.\n",
    "    \n",
    "### Предобработка данных\n",
    "\n",
    "Для начала сгруппируем и посчитаем количество сообщение по каждому пользователю и по месяцам, для этого используем groupby()"
   ]
  },
  {
   "cell_type": "code",
   "execution_count": 22,
   "metadata": {},
   "outputs": [
    {
     "data": {
      "text/html": [
       "<div>\n",
       "<style scoped>\n",
       "    .dataframe tbody tr th:only-of-type {\n",
       "        vertical-align: middle;\n",
       "    }\n",
       "\n",
       "    .dataframe tbody tr th {\n",
       "        vertical-align: top;\n",
       "    }\n",
       "\n",
       "    .dataframe thead th {\n",
       "        text-align: right;\n",
       "    }\n",
       "</style>\n",
       "<table border=\"1\" class=\"dataframe\">\n",
       "  <thead>\n",
       "    <tr style=\"text-align: right;\">\n",
       "      <th></th>\n",
       "      <th>user_id</th>\n",
       "      <th>month</th>\n",
       "      <th>id</th>\n",
       "    </tr>\n",
       "  </thead>\n",
       "  <tbody>\n",
       "    <tr>\n",
       "      <th>0</th>\n",
       "      <td>1000</td>\n",
       "      <td>5</td>\n",
       "      <td>22</td>\n",
       "    </tr>\n",
       "    <tr>\n",
       "      <th>1</th>\n",
       "      <td>1000</td>\n",
       "      <td>6</td>\n",
       "      <td>60</td>\n",
       "    </tr>\n",
       "    <tr>\n",
       "      <th>2</th>\n",
       "      <td>1000</td>\n",
       "      <td>7</td>\n",
       "      <td>75</td>\n",
       "    </tr>\n",
       "    <tr>\n",
       "      <th>3</th>\n",
       "      <td>1000</td>\n",
       "      <td>8</td>\n",
       "      <td>81</td>\n",
       "    </tr>\n",
       "    <tr>\n",
       "      <th>4</th>\n",
       "      <td>1000</td>\n",
       "      <td>9</td>\n",
       "      <td>57</td>\n",
       "    </tr>\n",
       "  </tbody>\n",
       "</table>\n",
       "</div>"
      ],
      "text/plain": [
       "   user_id  month  id\n",
       "0     1000      5  22\n",
       "1     1000      6  60\n",
       "2     1000      7  75\n",
       "3     1000      8  81\n",
       "4     1000      9  57"
      ]
     },
     "execution_count": 22,
     "metadata": {},
     "output_type": "execute_result"
    }
   ],
   "source": [
    "messages_group=messages.groupby(['user_id', 'month'])['id'].count().reset_index()\n",
    "messages_group.head(5)"
   ]
  },
  {
   "cell_type": "code",
   "execution_count": 23,
   "metadata": {},
   "outputs": [
    {
     "data": {
      "text/html": [
       "<div>\n",
       "<style scoped>\n",
       "    .dataframe tbody tr th:only-of-type {\n",
       "        vertical-align: middle;\n",
       "    }\n",
       "\n",
       "    .dataframe tbody tr th {\n",
       "        vertical-align: top;\n",
       "    }\n",
       "\n",
       "    .dataframe thead th {\n",
       "        text-align: right;\n",
       "    }\n",
       "</style>\n",
       "<table border=\"1\" class=\"dataframe\">\n",
       "  <thead>\n",
       "    <tr style=\"text-align: right;\">\n",
       "      <th></th>\n",
       "      <th>user_id</th>\n",
       "      <th>month</th>\n",
       "      <th>messages_sum</th>\n",
       "    </tr>\n",
       "  </thead>\n",
       "  <tbody>\n",
       "    <tr>\n",
       "      <th>0</th>\n",
       "      <td>1000</td>\n",
       "      <td>5</td>\n",
       "      <td>22</td>\n",
       "    </tr>\n",
       "    <tr>\n",
       "      <th>1</th>\n",
       "      <td>1000</td>\n",
       "      <td>6</td>\n",
       "      <td>60</td>\n",
       "    </tr>\n",
       "    <tr>\n",
       "      <th>2</th>\n",
       "      <td>1000</td>\n",
       "      <td>7</td>\n",
       "      <td>75</td>\n",
       "    </tr>\n",
       "    <tr>\n",
       "      <th>3</th>\n",
       "      <td>1000</td>\n",
       "      <td>8</td>\n",
       "      <td>81</td>\n",
       "    </tr>\n",
       "    <tr>\n",
       "      <th>4</th>\n",
       "      <td>1000</td>\n",
       "      <td>9</td>\n",
       "      <td>57</td>\n",
       "    </tr>\n",
       "  </tbody>\n",
       "</table>\n",
       "</div>"
      ],
      "text/plain": [
       "   user_id  month  messages_sum\n",
       "0     1000      5            22\n",
       "1     1000      6            60\n",
       "2     1000      7            75\n",
       "3     1000      8            81\n",
       "4     1000      9            57"
      ]
     },
     "execution_count": 23,
     "metadata": {},
     "output_type": "execute_result"
    }
   ],
   "source": [
    "# переименуем столбцы для удобства:\n",
    "messages_group = messages_group.rename(columns={'id':'messages_sum'})\n",
    "messages_group.head(5)"
   ]
  },
  {
   "cell_type": "code",
   "execution_count": 24,
   "metadata": {},
   "outputs": [
    {
     "data": {
      "text/html": [
       "<div>\n",
       "<style scoped>\n",
       "    .dataframe tbody tr th:only-of-type {\n",
       "        vertical-align: middle;\n",
       "    }\n",
       "\n",
       "    .dataframe tbody tr th {\n",
       "        vertical-align: top;\n",
       "    }\n",
       "\n",
       "    .dataframe thead tr th {\n",
       "        text-align: left;\n",
       "    }\n",
       "</style>\n",
       "<table border=\"1\" class=\"dataframe\">\n",
       "  <thead>\n",
       "    <tr>\n",
       "      <th></th>\n",
       "      <th>user_id</th>\n",
       "      <th>month</th>\n",
       "      <th colspan=\"2\" halign=\"left\">duration</th>\n",
       "    </tr>\n",
       "    <tr>\n",
       "      <th></th>\n",
       "      <th></th>\n",
       "      <th></th>\n",
       "      <th>sum</th>\n",
       "      <th>count</th>\n",
       "    </tr>\n",
       "  </thead>\n",
       "  <tbody>\n",
       "    <tr>\n",
       "      <th>0</th>\n",
       "      <td>1000</td>\n",
       "      <td>5</td>\n",
       "      <td>159.0</td>\n",
       "      <td>22</td>\n",
       "    </tr>\n",
       "    <tr>\n",
       "      <th>1</th>\n",
       "      <td>1000</td>\n",
       "      <td>6</td>\n",
       "      <td>172.0</td>\n",
       "      <td>43</td>\n",
       "    </tr>\n",
       "    <tr>\n",
       "      <th>2</th>\n",
       "      <td>1000</td>\n",
       "      <td>7</td>\n",
       "      <td>340.0</td>\n",
       "      <td>47</td>\n",
       "    </tr>\n",
       "    <tr>\n",
       "      <th>3</th>\n",
       "      <td>1000</td>\n",
       "      <td>8</td>\n",
       "      <td>408.0</td>\n",
       "      <td>52</td>\n",
       "    </tr>\n",
       "    <tr>\n",
       "      <th>4</th>\n",
       "      <td>1000</td>\n",
       "      <td>9</td>\n",
       "      <td>466.0</td>\n",
       "      <td>58</td>\n",
       "    </tr>\n",
       "  </tbody>\n",
       "</table>\n",
       "</div>"
      ],
      "text/plain": [
       "  user_id month duration      \n",
       "                     sum count\n",
       "0    1000     5    159.0    22\n",
       "1    1000     6    172.0    43\n",
       "2    1000     7    340.0    47\n",
       "3    1000     8    408.0    52\n",
       "4    1000     9    466.0    58"
      ]
     },
     "execution_count": 24,
     "metadata": {},
     "output_type": "execute_result"
    }
   ],
   "source": [
    "# сгруппируем даннные по звонкам и посчитаем для каждого пользователя по месяцам сумму звонков и количество\n",
    "calls_group=calls.groupby(['user_id', 'month']).agg({'duration': ['sum', 'count']}).reset_index()\n",
    "calls_group.head(5)"
   ]
  },
  {
   "cell_type": "code",
   "execution_count": 25,
   "metadata": {},
   "outputs": [
    {
     "data": {
      "text/html": [
       "<div>\n",
       "<style scoped>\n",
       "    .dataframe tbody tr th:only-of-type {\n",
       "        vertical-align: middle;\n",
       "    }\n",
       "\n",
       "    .dataframe tbody tr th {\n",
       "        vertical-align: top;\n",
       "    }\n",
       "\n",
       "    .dataframe thead th {\n",
       "        text-align: right;\n",
       "    }\n",
       "</style>\n",
       "<table border=\"1\" class=\"dataframe\">\n",
       "  <thead>\n",
       "    <tr style=\"text-align: right;\">\n",
       "      <th></th>\n",
       "      <th>user_id</th>\n",
       "      <th>month</th>\n",
       "      <th>calls_sum</th>\n",
       "      <th>calls_count</th>\n",
       "    </tr>\n",
       "  </thead>\n",
       "  <tbody>\n",
       "    <tr>\n",
       "      <th>0</th>\n",
       "      <td>1000</td>\n",
       "      <td>5</td>\n",
       "      <td>159.0</td>\n",
       "      <td>22</td>\n",
       "    </tr>\n",
       "    <tr>\n",
       "      <th>1</th>\n",
       "      <td>1000</td>\n",
       "      <td>6</td>\n",
       "      <td>172.0</td>\n",
       "      <td>43</td>\n",
       "    </tr>\n",
       "    <tr>\n",
       "      <th>2</th>\n",
       "      <td>1000</td>\n",
       "      <td>7</td>\n",
       "      <td>340.0</td>\n",
       "      <td>47</td>\n",
       "    </tr>\n",
       "    <tr>\n",
       "      <th>3</th>\n",
       "      <td>1000</td>\n",
       "      <td>8</td>\n",
       "      <td>408.0</td>\n",
       "      <td>52</td>\n",
       "    </tr>\n",
       "    <tr>\n",
       "      <th>4</th>\n",
       "      <td>1000</td>\n",
       "      <td>9</td>\n",
       "      <td>466.0</td>\n",
       "      <td>58</td>\n",
       "    </tr>\n",
       "  </tbody>\n",
       "</table>\n",
       "</div>"
      ],
      "text/plain": [
       "   user_id  month  calls_sum  calls_count\n",
       "0     1000      5      159.0           22\n",
       "1     1000      6      172.0           43\n",
       "2     1000      7      340.0           47\n",
       "3     1000      8      408.0           52\n",
       "4     1000      9      466.0           58"
      ]
     },
     "execution_count": 25,
     "metadata": {},
     "output_type": "execute_result"
    }
   ],
   "source": [
    "# переименуем столбцы для удобства:\n",
    "calls_group.columns=['user_id', 'month', 'calls_sum', 'calls_count']\n",
    "calls_group.head(5)"
   ]
  },
  {
   "cell_type": "code",
   "execution_count": 26,
   "metadata": {},
   "outputs": [
    {
     "data": {
      "text/html": [
       "<div>\n",
       "<style scoped>\n",
       "    .dataframe tbody tr th:only-of-type {\n",
       "        vertical-align: middle;\n",
       "    }\n",
       "\n",
       "    .dataframe tbody tr th {\n",
       "        vertical-align: top;\n",
       "    }\n",
       "\n",
       "    .dataframe thead th {\n",
       "        text-align: right;\n",
       "    }\n",
       "</style>\n",
       "<table border=\"1\" class=\"dataframe\">\n",
       "  <thead>\n",
       "    <tr style=\"text-align: right;\">\n",
       "      <th></th>\n",
       "      <th>user_id</th>\n",
       "      <th>month</th>\n",
       "      <th>mb_used</th>\n",
       "    </tr>\n",
       "  </thead>\n",
       "  <tbody>\n",
       "    <tr>\n",
       "      <th>0</th>\n",
       "      <td>1000</td>\n",
       "      <td>5</td>\n",
       "      <td>2253.49</td>\n",
       "    </tr>\n",
       "    <tr>\n",
       "      <th>1</th>\n",
       "      <td>1000</td>\n",
       "      <td>6</td>\n",
       "      <td>23233.77</td>\n",
       "    </tr>\n",
       "    <tr>\n",
       "      <th>2</th>\n",
       "      <td>1000</td>\n",
       "      <td>7</td>\n",
       "      <td>14003.64</td>\n",
       "    </tr>\n",
       "    <tr>\n",
       "      <th>3</th>\n",
       "      <td>1000</td>\n",
       "      <td>8</td>\n",
       "      <td>14055.93</td>\n",
       "    </tr>\n",
       "    <tr>\n",
       "      <th>4</th>\n",
       "      <td>1000</td>\n",
       "      <td>9</td>\n",
       "      <td>14568.91</td>\n",
       "    </tr>\n",
       "  </tbody>\n",
       "</table>\n",
       "</div>"
      ],
      "text/plain": [
       "   user_id  month   mb_used\n",
       "0     1000      5   2253.49\n",
       "1     1000      6  23233.77\n",
       "2     1000      7  14003.64\n",
       "3     1000      8  14055.93\n",
       "4     1000      9  14568.91"
      ]
     },
     "execution_count": 26,
     "metadata": {},
     "output_type": "execute_result"
    }
   ],
   "source": [
    "# сгруппируем даннные по расходу интернет траффика и посчитаем для каждого пользователя по месяцам сумму мегабайт\n",
    "internet_group=internet.groupby(['user_id', 'month'])['mb_used'].sum().reset_index()\n",
    "internet_group.head(5)"
   ]
  },
  {
   "cell_type": "markdown",
   "metadata": {},
   "source": [
    "«Мегалайн» всегда округляет мегабайты — до гигабайт. Для веб-трафика отдельные сессии не считаются. Вместо этого общая сумма за месяц округляется в бо́льшую сторону. Если абонент использует 1025 мегабайт в этом месяце, с него возьмут плату за 2 гигабайта.\n",
    "\n",
    "Для этого поделим каждое значение из сгруппированной таблицы на 1024 и округлим в большу сторону:"
   ]
  },
  {
   "cell_type": "code",
   "execution_count": 27,
   "metadata": {},
   "outputs": [
    {
     "data": {
      "text/html": [
       "<div>\n",
       "<style scoped>\n",
       "    .dataframe tbody tr th:only-of-type {\n",
       "        vertical-align: middle;\n",
       "    }\n",
       "\n",
       "    .dataframe tbody tr th {\n",
       "        vertical-align: top;\n",
       "    }\n",
       "\n",
       "    .dataframe thead th {\n",
       "        text-align: right;\n",
       "    }\n",
       "</style>\n",
       "<table border=\"1\" class=\"dataframe\">\n",
       "  <thead>\n",
       "    <tr style=\"text-align: right;\">\n",
       "      <th></th>\n",
       "      <th>user_id</th>\n",
       "      <th>month</th>\n",
       "      <th>mb_used</th>\n",
       "    </tr>\n",
       "  </thead>\n",
       "  <tbody>\n",
       "    <tr>\n",
       "      <th>0</th>\n",
       "      <td>1000</td>\n",
       "      <td>5</td>\n",
       "      <td>3.0</td>\n",
       "    </tr>\n",
       "    <tr>\n",
       "      <th>1</th>\n",
       "      <td>1000</td>\n",
       "      <td>6</td>\n",
       "      <td>23.0</td>\n",
       "    </tr>\n",
       "    <tr>\n",
       "      <th>2</th>\n",
       "      <td>1000</td>\n",
       "      <td>7</td>\n",
       "      <td>14.0</td>\n",
       "    </tr>\n",
       "    <tr>\n",
       "      <th>3</th>\n",
       "      <td>1000</td>\n",
       "      <td>8</td>\n",
       "      <td>14.0</td>\n",
       "    </tr>\n",
       "    <tr>\n",
       "      <th>4</th>\n",
       "      <td>1000</td>\n",
       "      <td>9</td>\n",
       "      <td>15.0</td>\n",
       "    </tr>\n",
       "  </tbody>\n",
       "</table>\n",
       "</div>"
      ],
      "text/plain": [
       "   user_id  month  mb_used\n",
       "0     1000      5      3.0\n",
       "1     1000      6     23.0\n",
       "2     1000      7     14.0\n",
       "3     1000      8     14.0\n",
       "4     1000      9     15.0"
      ]
     },
     "execution_count": 27,
     "metadata": {},
     "output_type": "execute_result"
    }
   ],
   "source": [
    "# \n",
    "def get_score(s):\n",
    "    return np.ceil(s / 1024)\n",
    " \n",
    "internet_group['mb_used'] = internet_group['mb_used'].apply(get_score)\n",
    "internet_group.head(5)"
   ]
  },
  {
   "cell_type": "code",
   "execution_count": 28,
   "metadata": {},
   "outputs": [
    {
     "data": {
      "text/html": [
       "<div>\n",
       "<style scoped>\n",
       "    .dataframe tbody tr th:only-of-type {\n",
       "        vertical-align: middle;\n",
       "    }\n",
       "\n",
       "    .dataframe tbody tr th {\n",
       "        vertical-align: top;\n",
       "    }\n",
       "\n",
       "    .dataframe thead th {\n",
       "        text-align: right;\n",
       "    }\n",
       "</style>\n",
       "<table border=\"1\" class=\"dataframe\">\n",
       "  <thead>\n",
       "    <tr style=\"text-align: right;\">\n",
       "      <th></th>\n",
       "      <th>user_id</th>\n",
       "      <th>month</th>\n",
       "      <th>gb_summ</th>\n",
       "    </tr>\n",
       "  </thead>\n",
       "  <tbody>\n",
       "    <tr>\n",
       "      <th>0</th>\n",
       "      <td>1000</td>\n",
       "      <td>5</td>\n",
       "      <td>3.0</td>\n",
       "    </tr>\n",
       "    <tr>\n",
       "      <th>1</th>\n",
       "      <td>1000</td>\n",
       "      <td>6</td>\n",
       "      <td>23.0</td>\n",
       "    </tr>\n",
       "    <tr>\n",
       "      <th>2</th>\n",
       "      <td>1000</td>\n",
       "      <td>7</td>\n",
       "      <td>14.0</td>\n",
       "    </tr>\n",
       "    <tr>\n",
       "      <th>3</th>\n",
       "      <td>1000</td>\n",
       "      <td>8</td>\n",
       "      <td>14.0</td>\n",
       "    </tr>\n",
       "    <tr>\n",
       "      <th>4</th>\n",
       "      <td>1000</td>\n",
       "      <td>9</td>\n",
       "      <td>15.0</td>\n",
       "    </tr>\n",
       "  </tbody>\n",
       "</table>\n",
       "</div>"
      ],
      "text/plain": [
       "   user_id  month  gb_summ\n",
       "0     1000      5      3.0\n",
       "1     1000      6     23.0\n",
       "2     1000      7     14.0\n",
       "3     1000      8     14.0\n",
       "4     1000      9     15.0"
      ]
     },
     "execution_count": 28,
     "metadata": {},
     "output_type": "execute_result"
    }
   ],
   "source": [
    "# переименуем названия столбцов\n",
    "internet_group=internet_group.rename(columns={'mb_used':'gb_summ'})\n",
    "internet_group.head(5)"
   ]
  },
  {
   "cell_type": "markdown",
   "metadata": {},
   "source": [
    "# Соединяем все в одну таблицу"
   ]
  },
  {
   "cell_type": "code",
   "execution_count": 29,
   "metadata": {},
   "outputs": [
    {
     "data": {
      "text/html": [
       "<div>\n",
       "<style scoped>\n",
       "    .dataframe tbody tr th:only-of-type {\n",
       "        vertical-align: middle;\n",
       "    }\n",
       "\n",
       "    .dataframe tbody tr th {\n",
       "        vertical-align: top;\n",
       "    }\n",
       "\n",
       "    .dataframe thead th {\n",
       "        text-align: right;\n",
       "    }\n",
       "</style>\n",
       "<table border=\"1\" class=\"dataframe\">\n",
       "  <thead>\n",
       "    <tr style=\"text-align: right;\">\n",
       "      <th></th>\n",
       "      <th>user_id</th>\n",
       "      <th>month</th>\n",
       "      <th>calls_sum</th>\n",
       "      <th>calls_count</th>\n",
       "      <th>gb_summ</th>\n",
       "      <th>messages_sum</th>\n",
       "    </tr>\n",
       "  </thead>\n",
       "  <tbody>\n",
       "    <tr>\n",
       "      <th>0</th>\n",
       "      <td>1000</td>\n",
       "      <td>5</td>\n",
       "      <td>159.0</td>\n",
       "      <td>22.0</td>\n",
       "      <td>3.0</td>\n",
       "      <td>22.0</td>\n",
       "    </tr>\n",
       "    <tr>\n",
       "      <th>1</th>\n",
       "      <td>1000</td>\n",
       "      <td>6</td>\n",
       "      <td>172.0</td>\n",
       "      <td>43.0</td>\n",
       "      <td>23.0</td>\n",
       "      <td>60.0</td>\n",
       "    </tr>\n",
       "    <tr>\n",
       "      <th>2</th>\n",
       "      <td>1000</td>\n",
       "      <td>7</td>\n",
       "      <td>340.0</td>\n",
       "      <td>47.0</td>\n",
       "      <td>14.0</td>\n",
       "      <td>75.0</td>\n",
       "    </tr>\n",
       "    <tr>\n",
       "      <th>3</th>\n",
       "      <td>1000</td>\n",
       "      <td>8</td>\n",
       "      <td>408.0</td>\n",
       "      <td>52.0</td>\n",
       "      <td>14.0</td>\n",
       "      <td>81.0</td>\n",
       "    </tr>\n",
       "    <tr>\n",
       "      <th>4</th>\n",
       "      <td>1000</td>\n",
       "      <td>9</td>\n",
       "      <td>466.0</td>\n",
       "      <td>58.0</td>\n",
       "      <td>15.0</td>\n",
       "      <td>57.0</td>\n",
       "    </tr>\n",
       "  </tbody>\n",
       "</table>\n",
       "</div>"
      ],
      "text/plain": [
       "   user_id  month  calls_sum  calls_count  gb_summ  messages_sum\n",
       "0     1000      5      159.0         22.0      3.0          22.0\n",
       "1     1000      6      172.0         43.0     23.0          60.0\n",
       "2     1000      7      340.0         47.0     14.0          75.0\n",
       "3     1000      8      408.0         52.0     14.0          81.0\n",
       "4     1000      9      466.0         58.0     15.0          57.0"
      ]
     },
     "execution_count": 29,
     "metadata": {},
     "output_type": "execute_result"
    }
   ],
   "source": [
    "df=calls_group.merge(internet_group, on=['user_id','month'], how='outer')\n",
    "df=df.merge(messages_group, on=['user_id','month'], how='outer')\n",
    "df.head()"
   ]
  },
  {
   "cell_type": "markdown",
   "metadata": {},
   "source": [
    "Теперь нам надо в полученную таблицу добавить название трафика. Для этого из таблицы с данными об абонентах создадим своего рода словарь и потом его объединим методом merge() "
   ]
  },
  {
   "cell_type": "code",
   "execution_count": 30,
   "metadata": {},
   "outputs": [
    {
     "data": {
      "text/html": [
       "<div>\n",
       "<style scoped>\n",
       "    .dataframe tbody tr th:only-of-type {\n",
       "        vertical-align: middle;\n",
       "    }\n",
       "\n",
       "    .dataframe tbody tr th {\n",
       "        vertical-align: top;\n",
       "    }\n",
       "\n",
       "    .dataframe thead th {\n",
       "        text-align: right;\n",
       "    }\n",
       "</style>\n",
       "<table border=\"1\" class=\"dataframe\">\n",
       "  <thead>\n",
       "    <tr style=\"text-align: right;\">\n",
       "      <th></th>\n",
       "      <th>user_id</th>\n",
       "      <th>tariff</th>\n",
       "    </tr>\n",
       "  </thead>\n",
       "  <tbody>\n",
       "    <tr>\n",
       "      <th>0</th>\n",
       "      <td>1000</td>\n",
       "      <td>ultra</td>\n",
       "    </tr>\n",
       "    <tr>\n",
       "      <th>1</th>\n",
       "      <td>1001</td>\n",
       "      <td>smart</td>\n",
       "    </tr>\n",
       "    <tr>\n",
       "      <th>2</th>\n",
       "      <td>1002</td>\n",
       "      <td>smart</td>\n",
       "    </tr>\n",
       "    <tr>\n",
       "      <th>3</th>\n",
       "      <td>1003</td>\n",
       "      <td>ultra</td>\n",
       "    </tr>\n",
       "    <tr>\n",
       "      <th>4</th>\n",
       "      <td>1004</td>\n",
       "      <td>ultra</td>\n",
       "    </tr>\n",
       "  </tbody>\n",
       "</table>\n",
       "</div>"
      ],
      "text/plain": [
       "   user_id tariff\n",
       "0     1000  ultra\n",
       "1     1001  smart\n",
       "2     1002  smart\n",
       "3     1003  ultra\n",
       "4     1004  ultra"
      ]
     },
     "execution_count": 30,
     "metadata": {},
     "output_type": "execute_result"
    }
   ],
   "source": [
    "users1=users[['user_id', 'tariff']]\n",
    "users1.head()"
   ]
  },
  {
   "cell_type": "code",
   "execution_count": 31,
   "metadata": {},
   "outputs": [
    {
     "data": {
      "text/html": [
       "<div>\n",
       "<style scoped>\n",
       "    .dataframe tbody tr th:only-of-type {\n",
       "        vertical-align: middle;\n",
       "    }\n",
       "\n",
       "    .dataframe tbody tr th {\n",
       "        vertical-align: top;\n",
       "    }\n",
       "\n",
       "    .dataframe thead th {\n",
       "        text-align: right;\n",
       "    }\n",
       "</style>\n",
       "<table border=\"1\" class=\"dataframe\">\n",
       "  <thead>\n",
       "    <tr style=\"text-align: right;\">\n",
       "      <th></th>\n",
       "      <th>user_id</th>\n",
       "      <th>month</th>\n",
       "      <th>calls_sum</th>\n",
       "      <th>calls_count</th>\n",
       "      <th>gb_summ</th>\n",
       "      <th>messages_sum</th>\n",
       "      <th>tariff</th>\n",
       "    </tr>\n",
       "  </thead>\n",
       "  <tbody>\n",
       "    <tr>\n",
       "      <th>0</th>\n",
       "      <td>1000</td>\n",
       "      <td>5</td>\n",
       "      <td>159.0</td>\n",
       "      <td>22.0</td>\n",
       "      <td>3.0</td>\n",
       "      <td>22.0</td>\n",
       "      <td>ultra</td>\n",
       "    </tr>\n",
       "    <tr>\n",
       "      <th>1</th>\n",
       "      <td>1000</td>\n",
       "      <td>6</td>\n",
       "      <td>172.0</td>\n",
       "      <td>43.0</td>\n",
       "      <td>23.0</td>\n",
       "      <td>60.0</td>\n",
       "      <td>ultra</td>\n",
       "    </tr>\n",
       "    <tr>\n",
       "      <th>2</th>\n",
       "      <td>1000</td>\n",
       "      <td>7</td>\n",
       "      <td>340.0</td>\n",
       "      <td>47.0</td>\n",
       "      <td>14.0</td>\n",
       "      <td>75.0</td>\n",
       "      <td>ultra</td>\n",
       "    </tr>\n",
       "    <tr>\n",
       "      <th>3</th>\n",
       "      <td>1000</td>\n",
       "      <td>8</td>\n",
       "      <td>408.0</td>\n",
       "      <td>52.0</td>\n",
       "      <td>14.0</td>\n",
       "      <td>81.0</td>\n",
       "      <td>ultra</td>\n",
       "    </tr>\n",
       "    <tr>\n",
       "      <th>4</th>\n",
       "      <td>1000</td>\n",
       "      <td>9</td>\n",
       "      <td>466.0</td>\n",
       "      <td>58.0</td>\n",
       "      <td>15.0</td>\n",
       "      <td>57.0</td>\n",
       "      <td>ultra</td>\n",
       "    </tr>\n",
       "    <tr>\n",
       "      <th>...</th>\n",
       "      <td>...</td>\n",
       "      <td>...</td>\n",
       "      <td>...</td>\n",
       "      <td>...</td>\n",
       "      <td>...</td>\n",
       "      <td>...</td>\n",
       "      <td>...</td>\n",
       "    </tr>\n",
       "    <tr>\n",
       "      <th>3209</th>\n",
       "      <td>1489</td>\n",
       "      <td>8</td>\n",
       "      <td>NaN</td>\n",
       "      <td>NaN</td>\n",
       "      <td>11.0</td>\n",
       "      <td>17.0</td>\n",
       "      <td>smart</td>\n",
       "    </tr>\n",
       "    <tr>\n",
       "      <th>3210</th>\n",
       "      <td>1489</td>\n",
       "      <td>9</td>\n",
       "      <td>NaN</td>\n",
       "      <td>NaN</td>\n",
       "      <td>17.0</td>\n",
       "      <td>32.0</td>\n",
       "      <td>smart</td>\n",
       "    </tr>\n",
       "    <tr>\n",
       "      <th>3211</th>\n",
       "      <td>1489</td>\n",
       "      <td>10</td>\n",
       "      <td>NaN</td>\n",
       "      <td>NaN</td>\n",
       "      <td>20.0</td>\n",
       "      <td>21.0</td>\n",
       "      <td>smart</td>\n",
       "    </tr>\n",
       "    <tr>\n",
       "      <th>3212</th>\n",
       "      <td>1489</td>\n",
       "      <td>11</td>\n",
       "      <td>NaN</td>\n",
       "      <td>NaN</td>\n",
       "      <td>18.0</td>\n",
       "      <td>20.0</td>\n",
       "      <td>smart</td>\n",
       "    </tr>\n",
       "    <tr>\n",
       "      <th>3213</th>\n",
       "      <td>1489</td>\n",
       "      <td>12</td>\n",
       "      <td>NaN</td>\n",
       "      <td>NaN</td>\n",
       "      <td>17.0</td>\n",
       "      <td>35.0</td>\n",
       "      <td>smart</td>\n",
       "    </tr>\n",
       "  </tbody>\n",
       "</table>\n",
       "<p>3214 rows × 7 columns</p>\n",
       "</div>"
      ],
      "text/plain": [
       "      user_id  month  calls_sum  calls_count  gb_summ  messages_sum tariff\n",
       "0        1000      5      159.0         22.0      3.0          22.0  ultra\n",
       "1        1000      6      172.0         43.0     23.0          60.0  ultra\n",
       "2        1000      7      340.0         47.0     14.0          75.0  ultra\n",
       "3        1000      8      408.0         52.0     14.0          81.0  ultra\n",
       "4        1000      9      466.0         58.0     15.0          57.0  ultra\n",
       "...       ...    ...        ...          ...      ...           ...    ...\n",
       "3209     1489      8        NaN          NaN     11.0          17.0  smart\n",
       "3210     1489      9        NaN          NaN     17.0          32.0  smart\n",
       "3211     1489     10        NaN          NaN     20.0          21.0  smart\n",
       "3212     1489     11        NaN          NaN     18.0          20.0  smart\n",
       "3213     1489     12        NaN          NaN     17.0          35.0  smart\n",
       "\n",
       "[3214 rows x 7 columns]"
      ]
     },
     "execution_count": 31,
     "metadata": {},
     "output_type": "execute_result"
    }
   ],
   "source": [
    "df=df.merge(users1, on='user_id', how='left')\n",
    "df"
   ]
  },
  {
   "cell_type": "code",
   "execution_count": 32,
   "metadata": {},
   "outputs": [
    {
     "data": {
      "text/html": [
       "<div>\n",
       "<style scoped>\n",
       "    .dataframe tbody tr th:only-of-type {\n",
       "        vertical-align: middle;\n",
       "    }\n",
       "\n",
       "    .dataframe tbody tr th {\n",
       "        vertical-align: top;\n",
       "    }\n",
       "\n",
       "    .dataframe thead th {\n",
       "        text-align: right;\n",
       "    }\n",
       "</style>\n",
       "<table border=\"1\" class=\"dataframe\">\n",
       "  <thead>\n",
       "    <tr style=\"text-align: right;\">\n",
       "      <th></th>\n",
       "      <th>user_id</th>\n",
       "      <th>month</th>\n",
       "      <th>calls_sum</th>\n",
       "      <th>calls_count</th>\n",
       "      <th>gb_summ</th>\n",
       "      <th>messages_sum</th>\n",
       "      <th>tariff</th>\n",
       "    </tr>\n",
       "  </thead>\n",
       "  <tbody>\n",
       "    <tr>\n",
       "      <th>0</th>\n",
       "      <td>1000</td>\n",
       "      <td>5</td>\n",
       "      <td>159.0</td>\n",
       "      <td>22.0</td>\n",
       "      <td>3.0</td>\n",
       "      <td>22.0</td>\n",
       "      <td>ultra</td>\n",
       "    </tr>\n",
       "    <tr>\n",
       "      <th>1</th>\n",
       "      <td>1000</td>\n",
       "      <td>6</td>\n",
       "      <td>172.0</td>\n",
       "      <td>43.0</td>\n",
       "      <td>23.0</td>\n",
       "      <td>60.0</td>\n",
       "      <td>ultra</td>\n",
       "    </tr>\n",
       "    <tr>\n",
       "      <th>2</th>\n",
       "      <td>1000</td>\n",
       "      <td>7</td>\n",
       "      <td>340.0</td>\n",
       "      <td>47.0</td>\n",
       "      <td>14.0</td>\n",
       "      <td>75.0</td>\n",
       "      <td>ultra</td>\n",
       "    </tr>\n",
       "    <tr>\n",
       "      <th>3</th>\n",
       "      <td>1000</td>\n",
       "      <td>8</td>\n",
       "      <td>408.0</td>\n",
       "      <td>52.0</td>\n",
       "      <td>14.0</td>\n",
       "      <td>81.0</td>\n",
       "      <td>ultra</td>\n",
       "    </tr>\n",
       "    <tr>\n",
       "      <th>4</th>\n",
       "      <td>1000</td>\n",
       "      <td>9</td>\n",
       "      <td>466.0</td>\n",
       "      <td>58.0</td>\n",
       "      <td>15.0</td>\n",
       "      <td>57.0</td>\n",
       "      <td>ultra</td>\n",
       "    </tr>\n",
       "    <tr>\n",
       "      <th>...</th>\n",
       "      <td>...</td>\n",
       "      <td>...</td>\n",
       "      <td>...</td>\n",
       "      <td>...</td>\n",
       "      <td>...</td>\n",
       "      <td>...</td>\n",
       "      <td>...</td>\n",
       "    </tr>\n",
       "    <tr>\n",
       "      <th>3209</th>\n",
       "      <td>1489</td>\n",
       "      <td>8</td>\n",
       "      <td>0.0</td>\n",
       "      <td>0.0</td>\n",
       "      <td>11.0</td>\n",
       "      <td>17.0</td>\n",
       "      <td>smart</td>\n",
       "    </tr>\n",
       "    <tr>\n",
       "      <th>3210</th>\n",
       "      <td>1489</td>\n",
       "      <td>9</td>\n",
       "      <td>0.0</td>\n",
       "      <td>0.0</td>\n",
       "      <td>17.0</td>\n",
       "      <td>32.0</td>\n",
       "      <td>smart</td>\n",
       "    </tr>\n",
       "    <tr>\n",
       "      <th>3211</th>\n",
       "      <td>1489</td>\n",
       "      <td>10</td>\n",
       "      <td>0.0</td>\n",
       "      <td>0.0</td>\n",
       "      <td>20.0</td>\n",
       "      <td>21.0</td>\n",
       "      <td>smart</td>\n",
       "    </tr>\n",
       "    <tr>\n",
       "      <th>3212</th>\n",
       "      <td>1489</td>\n",
       "      <td>11</td>\n",
       "      <td>0.0</td>\n",
       "      <td>0.0</td>\n",
       "      <td>18.0</td>\n",
       "      <td>20.0</td>\n",
       "      <td>smart</td>\n",
       "    </tr>\n",
       "    <tr>\n",
       "      <th>3213</th>\n",
       "      <td>1489</td>\n",
       "      <td>12</td>\n",
       "      <td>0.0</td>\n",
       "      <td>0.0</td>\n",
       "      <td>17.0</td>\n",
       "      <td>35.0</td>\n",
       "      <td>smart</td>\n",
       "    </tr>\n",
       "  </tbody>\n",
       "</table>\n",
       "<p>3214 rows × 7 columns</p>\n",
       "</div>"
      ],
      "text/plain": [
       "      user_id  month  calls_sum  calls_count  gb_summ  messages_sum tariff\n",
       "0        1000      5      159.0         22.0      3.0          22.0  ultra\n",
       "1        1000      6      172.0         43.0     23.0          60.0  ultra\n",
       "2        1000      7      340.0         47.0     14.0          75.0  ultra\n",
       "3        1000      8      408.0         52.0     14.0          81.0  ultra\n",
       "4        1000      9      466.0         58.0     15.0          57.0  ultra\n",
       "...       ...    ...        ...          ...      ...           ...    ...\n",
       "3209     1489      8        0.0          0.0     11.0          17.0  smart\n",
       "3210     1489      9        0.0          0.0     17.0          32.0  smart\n",
       "3211     1489     10        0.0          0.0     20.0          21.0  smart\n",
       "3212     1489     11        0.0          0.0     18.0          20.0  smart\n",
       "3213     1489     12        0.0          0.0     17.0          35.0  smart\n",
       "\n",
       "[3214 rows x 7 columns]"
      ]
     },
     "execution_count": 32,
     "metadata": {},
     "output_type": "execute_result"
    }
   ],
   "source": [
    "# заменим все NaN на 0, т.к в данном случаем NaN означает, что аббонент не пользовался, например, сообщениями в каком то из месяцев \n",
    "df=df.fillna(0)\n",
    "df"
   ]
  },
  {
   "cell_type": "markdown",
   "metadata": {},
   "source": [
    "По каждому пользователю нам необходимо посчитать помесячную выручку, для этого посмотрим что входит в пакет по каждому тарифу:"
   ]
  },
  {
   "cell_type": "code",
   "execution_count": 33,
   "metadata": {},
   "outputs": [
    {
     "data": {
      "text/html": [
       "<div>\n",
       "<style scoped>\n",
       "    .dataframe tbody tr th:only-of-type {\n",
       "        vertical-align: middle;\n",
       "    }\n",
       "\n",
       "    .dataframe tbody tr th {\n",
       "        vertical-align: top;\n",
       "    }\n",
       "\n",
       "    .dataframe thead th {\n",
       "        text-align: right;\n",
       "    }\n",
       "</style>\n",
       "<table border=\"1\" class=\"dataframe\">\n",
       "  <thead>\n",
       "    <tr style=\"text-align: right;\">\n",
       "      <th></th>\n",
       "      <th>messages_included</th>\n",
       "      <th>mb_per_month_included</th>\n",
       "      <th>minutes_included</th>\n",
       "      <th>rub_monthly_fee</th>\n",
       "      <th>rub_per_gb</th>\n",
       "      <th>rub_per_message</th>\n",
       "      <th>rub_per_minute</th>\n",
       "      <th>tariff_name</th>\n",
       "    </tr>\n",
       "  </thead>\n",
       "  <tbody>\n",
       "    <tr>\n",
       "      <th>0</th>\n",
       "      <td>50</td>\n",
       "      <td>15360</td>\n",
       "      <td>500</td>\n",
       "      <td>550</td>\n",
       "      <td>200</td>\n",
       "      <td>3</td>\n",
       "      <td>3</td>\n",
       "      <td>smart</td>\n",
       "    </tr>\n",
       "    <tr>\n",
       "      <th>1</th>\n",
       "      <td>1000</td>\n",
       "      <td>30720</td>\n",
       "      <td>3000</td>\n",
       "      <td>1950</td>\n",
       "      <td>150</td>\n",
       "      <td>1</td>\n",
       "      <td>1</td>\n",
       "      <td>ultra</td>\n",
       "    </tr>\n",
       "  </tbody>\n",
       "</table>\n",
       "</div>"
      ],
      "text/plain": [
       "   messages_included  mb_per_month_included  minutes_included  \\\n",
       "0                 50                  15360               500   \n",
       "1               1000                  30720              3000   \n",
       "\n",
       "   rub_monthly_fee  rub_per_gb  rub_per_message  rub_per_minute tariff_name  \n",
       "0              550         200                3               3       smart  \n",
       "1             1950         150                1               1       ultra  "
      ]
     },
     "execution_count": 33,
     "metadata": {},
     "output_type": "execute_result"
    }
   ],
   "source": [
    "# посмотрим, что входит в пакет тарифа\n",
    "tariffs=pd.read_csv('/datasets/tariffs.csv')\n",
    "tariffs"
   ]
  },
  {
   "cell_type": "markdown",
   "metadata": {},
   "source": [
    "Для того чтобы посчитать выручку, нам необходимо создать функцию для расчета и применить ее к нашей таблице:"
   ]
  },
  {
   "cell_type": "code",
   "execution_count": 34,
   "metadata": {},
   "outputs": [
    {
     "data": {
      "text/html": [
       "<div>\n",
       "<style scoped>\n",
       "    .dataframe tbody tr th:only-of-type {\n",
       "        vertical-align: middle;\n",
       "    }\n",
       "\n",
       "    .dataframe tbody tr th {\n",
       "        vertical-align: top;\n",
       "    }\n",
       "\n",
       "    .dataframe thead th {\n",
       "        text-align: right;\n",
       "    }\n",
       "</style>\n",
       "<table border=\"1\" class=\"dataframe\">\n",
       "  <thead>\n",
       "    <tr style=\"text-align: right;\">\n",
       "      <th></th>\n",
       "      <th>user_id</th>\n",
       "      <th>month</th>\n",
       "      <th>calls_sum</th>\n",
       "      <th>calls_count</th>\n",
       "      <th>gb_summ</th>\n",
       "      <th>messages_sum</th>\n",
       "      <th>tariff</th>\n",
       "      <th>profit_month</th>\n",
       "    </tr>\n",
       "  </thead>\n",
       "  <tbody>\n",
       "    <tr>\n",
       "      <th>0</th>\n",
       "      <td>1000</td>\n",
       "      <td>5</td>\n",
       "      <td>159.0</td>\n",
       "      <td>22.0</td>\n",
       "      <td>3.0</td>\n",
       "      <td>22.0</td>\n",
       "      <td>ultra</td>\n",
       "      <td>2254.0</td>\n",
       "    </tr>\n",
       "    <tr>\n",
       "      <th>1</th>\n",
       "      <td>1000</td>\n",
       "      <td>6</td>\n",
       "      <td>172.0</td>\n",
       "      <td>43.0</td>\n",
       "      <td>23.0</td>\n",
       "      <td>60.0</td>\n",
       "      <td>ultra</td>\n",
       "      <td>5254.0</td>\n",
       "    </tr>\n",
       "    <tr>\n",
       "      <th>2</th>\n",
       "      <td>1000</td>\n",
       "      <td>7</td>\n",
       "      <td>340.0</td>\n",
       "      <td>47.0</td>\n",
       "      <td>14.0</td>\n",
       "      <td>75.0</td>\n",
       "      <td>ultra</td>\n",
       "      <td>3904.0</td>\n",
       "    </tr>\n",
       "    <tr>\n",
       "      <th>3</th>\n",
       "      <td>1000</td>\n",
       "      <td>8</td>\n",
       "      <td>408.0</td>\n",
       "      <td>52.0</td>\n",
       "      <td>14.0</td>\n",
       "      <td>81.0</td>\n",
       "      <td>ultra</td>\n",
       "      <td>3904.0</td>\n",
       "    </tr>\n",
       "    <tr>\n",
       "      <th>4</th>\n",
       "      <td>1000</td>\n",
       "      <td>9</td>\n",
       "      <td>466.0</td>\n",
       "      <td>58.0</td>\n",
       "      <td>15.0</td>\n",
       "      <td>57.0</td>\n",
       "      <td>ultra</td>\n",
       "      <td>4054.0</td>\n",
       "    </tr>\n",
       "    <tr>\n",
       "      <th>...</th>\n",
       "      <td>...</td>\n",
       "      <td>...</td>\n",
       "      <td>...</td>\n",
       "      <td>...</td>\n",
       "      <td>...</td>\n",
       "      <td>...</td>\n",
       "      <td>...</td>\n",
       "      <td>...</td>\n",
       "    </tr>\n",
       "    <tr>\n",
       "      <th>3209</th>\n",
       "      <td>1489</td>\n",
       "      <td>8</td>\n",
       "      <td>0.0</td>\n",
       "      <td>0.0</td>\n",
       "      <td>11.0</td>\n",
       "      <td>17.0</td>\n",
       "      <td>smart</td>\n",
       "      <td>2741.0</td>\n",
       "    </tr>\n",
       "    <tr>\n",
       "      <th>3210</th>\n",
       "      <td>1489</td>\n",
       "      <td>9</td>\n",
       "      <td>0.0</td>\n",
       "      <td>0.0</td>\n",
       "      <td>17.0</td>\n",
       "      <td>32.0</td>\n",
       "      <td>smart</td>\n",
       "      <td>3941.0</td>\n",
       "    </tr>\n",
       "    <tr>\n",
       "      <th>3211</th>\n",
       "      <td>1489</td>\n",
       "      <td>10</td>\n",
       "      <td>0.0</td>\n",
       "      <td>0.0</td>\n",
       "      <td>20.0</td>\n",
       "      <td>21.0</td>\n",
       "      <td>smart</td>\n",
       "      <td>4541.0</td>\n",
       "    </tr>\n",
       "    <tr>\n",
       "      <th>3212</th>\n",
       "      <td>1489</td>\n",
       "      <td>11</td>\n",
       "      <td>0.0</td>\n",
       "      <td>0.0</td>\n",
       "      <td>18.0</td>\n",
       "      <td>20.0</td>\n",
       "      <td>smart</td>\n",
       "      <td>4141.0</td>\n",
       "    </tr>\n",
       "    <tr>\n",
       "      <th>3213</th>\n",
       "      <td>1489</td>\n",
       "      <td>12</td>\n",
       "      <td>0.0</td>\n",
       "      <td>0.0</td>\n",
       "      <td>17.0</td>\n",
       "      <td>35.0</td>\n",
       "      <td>smart</td>\n",
       "      <td>3941.0</td>\n",
       "    </tr>\n",
       "  </tbody>\n",
       "</table>\n",
       "<p>3214 rows × 8 columns</p>\n",
       "</div>"
      ],
      "text/plain": [
       "      user_id  month  calls_sum  calls_count  gb_summ  messages_sum tariff  \\\n",
       "0        1000      5      159.0         22.0      3.0          22.0  ultra   \n",
       "1        1000      6      172.0         43.0     23.0          60.0  ultra   \n",
       "2        1000      7      340.0         47.0     14.0          75.0  ultra   \n",
       "3        1000      8      408.0         52.0     14.0          81.0  ultra   \n",
       "4        1000      9      466.0         58.0     15.0          57.0  ultra   \n",
       "...       ...    ...        ...          ...      ...           ...    ...   \n",
       "3209     1489      8        0.0          0.0     11.0          17.0  smart   \n",
       "3210     1489      9        0.0          0.0     17.0          32.0  smart   \n",
       "3211     1489     10        0.0          0.0     20.0          21.0  smart   \n",
       "3212     1489     11        0.0          0.0     18.0          20.0  smart   \n",
       "3213     1489     12        0.0          0.0     17.0          35.0  smart   \n",
       "\n",
       "      profit_month  \n",
       "0           2254.0  \n",
       "1           5254.0  \n",
       "2           3904.0  \n",
       "3           3904.0  \n",
       "4           4054.0  \n",
       "...            ...  \n",
       "3209        2741.0  \n",
       "3210        3941.0  \n",
       "3211        4541.0  \n",
       "3212        4141.0  \n",
       "3213        3941.0  \n",
       "\n",
       "[3214 rows x 8 columns]"
      ]
     },
     "execution_count": 34,
     "metadata": {},
     "output_type": "execute_result"
    }
   ],
   "source": [
    "def month_profit(row):\n",
    "    if row['tariff'] == 'smart' :\n",
    "        \n",
    "        if row['calls_sum']>tariffs.loc[0, 'minutes_included']:\n",
    "            cost_min=(row['calls_sum']-tariffs.loc[0, 'minutes_included'])*3            \n",
    "        else:\n",
    "            cost_min=0\n",
    "        \n",
    "        if row['messages_sum']>tariffs.loc[0, 'messages_included']:\n",
    "            cost_mes=(row['messages_sum']-tariffs.loc[0, 'messages_included'])*3            \n",
    "        else:\n",
    "            cost_mes=0\n",
    "            \n",
    "        if row['gb_summ']>(tariffs.loc[0, 'messages_included']/1024):\n",
    "            cost_gb=(row['gb_summ']-(tariffs.loc[0, 'messages_included']/1024))*200            \n",
    "        else:\n",
    "            cost_gb=0\n",
    "      \n",
    "        return np.ceil(cost_min+tariffs.loc[0, 'rub_monthly_fee']+cost_mes+cost_gb)\n",
    "    \n",
    "    if row['tariff'] == 'ultra' :\n",
    "        if row['calls_sum']>tariffs.loc[1, 'minutes_included']:\n",
    "            cost_min=(row['calls_sum']-tariffs.loc[1, 'minutes_included'])            \n",
    "        else:\n",
    "            cost_min=0\n",
    "        \n",
    "        if row['messages_sum']>tariffs.loc[1, 'messages_included']:\n",
    "            cost_mes=(row['messages_sum']-tariffs.loc[1, 'messages_included'])            \n",
    "        else:\n",
    "            cost_mes=0\n",
    "            \n",
    "        if row['gb_summ']>(tariffs.loc[1, 'messages_included']/1024):\n",
    "            cost_gb=(row['gb_summ']-(tariffs.loc[1, 'messages_included']/1024))*150            \n",
    "        else:\n",
    "            cost_gb=0\n",
    "      \n",
    "        return np.ceil(cost_min+tariffs.loc[1, 'rub_monthly_fee']+cost_mes+cost_gb)\n",
    "\n",
    "    \n",
    "df['profit_month']=df.apply(month_profit, axis=1)\n",
    "df"
   ]
  },
  {
   "cell_type": "markdown",
   "metadata": {},
   "source": [
    "### Анализируем полученные данные\n",
    "\n",
    "Посчитаем сколько минут разговора, сколько сообщений и какой объём интернет-трафика требуется пользователям каждого тарифа в месяц. \n",
    "\n",
    "Для этого сначала сгруппируем данные по звонкам:"
   ]
  },
  {
   "cell_type": "code",
   "execution_count": 35,
   "metadata": {},
   "outputs": [
    {
     "data": {
      "text/html": [
       "<div>\n",
       "<style scoped>\n",
       "    .dataframe tbody tr th:only-of-type {\n",
       "        vertical-align: middle;\n",
       "    }\n",
       "\n",
       "    .dataframe tbody tr th {\n",
       "        vertical-align: top;\n",
       "    }\n",
       "\n",
       "    .dataframe thead th {\n",
       "        text-align: right;\n",
       "    }\n",
       "</style>\n",
       "<table border=\"1\" class=\"dataframe\">\n",
       "  <thead>\n",
       "    <tr style=\"text-align: right;\">\n",
       "      <th></th>\n",
       "      <th>month</th>\n",
       "      <th>mean_smart</th>\n",
       "      <th>mean_ultra</th>\n",
       "      <th>var_smart</th>\n",
       "      <th>var_ultra</th>\n",
       "      <th>std_smart</th>\n",
       "      <th>std_ultra</th>\n",
       "    </tr>\n",
       "  </thead>\n",
       "  <tbody>\n",
       "    <tr>\n",
       "      <th>0</th>\n",
       "      <td>1</td>\n",
       "      <td>204.0</td>\n",
       "      <td>428.0</td>\n",
       "      <td>23787.0</td>\n",
       "      <td>72769.0</td>\n",
       "      <td>154.0</td>\n",
       "      <td>270.0</td>\n",
       "    </tr>\n",
       "    <tr>\n",
       "      <th>1</th>\n",
       "      <td>2</td>\n",
       "      <td>299.0</td>\n",
       "      <td>297.0</td>\n",
       "      <td>36412.0</td>\n",
       "      <td>87920.0</td>\n",
       "      <td>191.0</td>\n",
       "      <td>297.0</td>\n",
       "    </tr>\n",
       "    <tr>\n",
       "      <th>2</th>\n",
       "      <td>3</td>\n",
       "      <td>390.0</td>\n",
       "      <td>490.0</td>\n",
       "      <td>36823.0</td>\n",
       "      <td>111385.0</td>\n",
       "      <td>192.0</td>\n",
       "      <td>334.0</td>\n",
       "    </tr>\n",
       "    <tr>\n",
       "      <th>3</th>\n",
       "      <td>4</td>\n",
       "      <td>367.0</td>\n",
       "      <td>458.0</td>\n",
       "      <td>34778.0</td>\n",
       "      <td>71654.0</td>\n",
       "      <td>186.0</td>\n",
       "      <td>268.0</td>\n",
       "    </tr>\n",
       "    <tr>\n",
       "      <th>4</th>\n",
       "      <td>5</td>\n",
       "      <td>387.0</td>\n",
       "      <td>510.0</td>\n",
       "      <td>34820.0</td>\n",
       "      <td>83870.0</td>\n",
       "      <td>187.0</td>\n",
       "      <td>290.0</td>\n",
       "    </tr>\n",
       "    <tr>\n",
       "      <th>5</th>\n",
       "      <td>6</td>\n",
       "      <td>396.0</td>\n",
       "      <td>480.0</td>\n",
       "      <td>30743.0</td>\n",
       "      <td>91536.0</td>\n",
       "      <td>175.0</td>\n",
       "      <td>303.0</td>\n",
       "    </tr>\n",
       "    <tr>\n",
       "      <th>6</th>\n",
       "      <td>7</td>\n",
       "      <td>408.0</td>\n",
       "      <td>546.0</td>\n",
       "      <td>32250.0</td>\n",
       "      <td>94322.0</td>\n",
       "      <td>180.0</td>\n",
       "      <td>307.0</td>\n",
       "    </tr>\n",
       "    <tr>\n",
       "      <th>7</th>\n",
       "      <td>8</td>\n",
       "      <td>421.0</td>\n",
       "      <td>511.0</td>\n",
       "      <td>34794.0</td>\n",
       "      <td>97956.0</td>\n",
       "      <td>187.0</td>\n",
       "      <td>313.0</td>\n",
       "    </tr>\n",
       "    <tr>\n",
       "      <th>8</th>\n",
       "      <td>9</td>\n",
       "      <td>429.0</td>\n",
       "      <td>539.0</td>\n",
       "      <td>33535.0</td>\n",
       "      <td>105717.0</td>\n",
       "      <td>183.0</td>\n",
       "      <td>325.0</td>\n",
       "    </tr>\n",
       "    <tr>\n",
       "      <th>9</th>\n",
       "      <td>10</td>\n",
       "      <td>426.0</td>\n",
       "      <td>558.0</td>\n",
       "      <td>35392.0</td>\n",
       "      <td>106465.0</td>\n",
       "      <td>188.0</td>\n",
       "      <td>326.0</td>\n",
       "    </tr>\n",
       "    <tr>\n",
       "      <th>10</th>\n",
       "      <td>11</td>\n",
       "      <td>435.0</td>\n",
       "      <td>541.0</td>\n",
       "      <td>31605.0</td>\n",
       "      <td>96570.0</td>\n",
       "      <td>178.0</td>\n",
       "      <td>311.0</td>\n",
       "    </tr>\n",
       "    <tr>\n",
       "      <th>11</th>\n",
       "      <td>12</td>\n",
       "      <td>479.0</td>\n",
       "      <td>593.0</td>\n",
       "      <td>39699.0</td>\n",
       "      <td>117276.0</td>\n",
       "      <td>199.0</td>\n",
       "      <td>342.0</td>\n",
       "    </tr>\n",
       "  </tbody>\n",
       "</table>\n",
       "</div>"
      ],
      "text/plain": [
       "    month  mean_smart  mean_ultra  var_smart  var_ultra  std_smart  std_ultra\n",
       "0       1       204.0       428.0    23787.0    72769.0      154.0      270.0\n",
       "1       2       299.0       297.0    36412.0    87920.0      191.0      297.0\n",
       "2       3       390.0       490.0    36823.0   111385.0      192.0      334.0\n",
       "3       4       367.0       458.0    34778.0    71654.0      186.0      268.0\n",
       "4       5       387.0       510.0    34820.0    83870.0      187.0      290.0\n",
       "5       6       396.0       480.0    30743.0    91536.0      175.0      303.0\n",
       "6       7       408.0       546.0    32250.0    94322.0      180.0      307.0\n",
       "7       8       421.0       511.0    34794.0    97956.0      187.0      313.0\n",
       "8       9       429.0       539.0    33535.0   105717.0      183.0      325.0\n",
       "9      10       426.0       558.0    35392.0   106465.0      188.0      326.0\n",
       "10     11       435.0       541.0    31605.0    96570.0      178.0      311.0\n",
       "11     12       479.0       593.0    39699.0   117276.0      199.0      342.0"
      ]
     },
     "execution_count": 35,
     "metadata": {},
     "output_type": "execute_result"
    }
   ],
   "source": [
    "# сгруппируем данные по месяцам по всем аббонентам и посчитаем среднее, дисперсию и стандартное отклонение\n",
    "df_month=pd.pivot_table(df, index=['month'], columns=['tariff'], values=['calls_sum'], aggfunc=['mean', np.var, np.std]).reset_index().round()\n",
    "df_month.columns=['month', 'mean_smart', 'mean_ultra', 'var_smart', 'var_ultra', 'std_smart', 'std_ultra']\n",
    "df_month"
   ]
  },
  {
   "cell_type": "code",
   "execution_count": 36,
   "metadata": {
    "scrolled": true
   },
   "outputs": [
    {
     "data": {
      "image/png": "[encoded data removed]",
      "text/plain": [
       "<Figure size 1080x360 with 2 Axes>"
      ]
     },
     "metadata": {
      "image/png": {
       "height": 351,
       "width": 1073
      },
      "needs_background": "light"
     },
     "output_type": "display_data"
    }
   ],
   "source": [
    "fig1, ax1 = plt.subplots(nrows=1, ncols=2, figsize=(15,5))\n",
    "\n",
    "ax1[0].set_title('среднее')\n",
    "ax1[0].bar(df_month['month'], df_month['mean_ultra'], label='ultra', alpha=0.5)\n",
    "ax1[0].bar(df_month['month'], df_month['mean_smart'],color='green', label='smart')\n",
    "ax1[0].legend()\n",
    "\n",
    "\n",
    "ax1[1].set_title('среднее')\n",
    "ax1[1].hist(df_month['mean_ultra'], 10, label='ultra')\n",
    "ax1[1].hist(df_month['mean_smart'], 10, color='green', label='smart', alpha=0.5)\n",
    "ax1[1].legend()\n",
    "\n",
    "fig1.tight_layout()\n"
   ]
  },
  {
   "cell_type": "markdown",
   "metadata": {},
   "source": [
    "Из полученных данных мы видим следующее:\n",
    "\n",
    "    * из столбчатой диаграммы видно, что в феврале самое низкое значение по двум тарифам\n",
    "    * по тарифу ультра среднее значение суммарного количества звонков примерно 480 мин, а по тарифу смарт ниже и равно 380 минт\n",
    "    * максимальное количество минут в декабре по двум тарифам\n",
    "    * по гистограмме можно сделать вывод, график тарифа ультра смещен в право относительно тарифа смарт"
   ]
  },
  {
   "cell_type": "code",
   "execution_count": 37,
   "metadata": {},
   "outputs": [
    {
     "data": {
      "image/png": "[encoded data removed]",
      "text/plain": [
       "<Figure size 432x288 with 1 Axes>"
      ]
     },
     "metadata": {
      "image/png": {
       "height": 263,
       "width": 369
      },
      "needs_background": "light"
     },
     "output_type": "display_data"
    }
   ],
   "source": [
    "df_month['std_ultra'].hist(bins=6,color='green', label='ultra').set_title('Стандартное отклонение по звонкам')\n",
    "df_month['std_smart'].hist(bins=6, label='smart', alpha=0.5)\n",
    "plt.legend()\n",
    "plt.show()"
   ]
  },
  {
   "cell_type": "markdown",
   "metadata": {},
   "source": [
    "По графику стандартного отклонения видно, что \"ультра\" смещен правее, это говорит о том что разброс данных в этом тарифе больше.  \n",
    "\n",
    "Теперь посмотрим как выглядят метрики по интернет трафику. Сгруппируем данные и посчитаем среднее, дисперсию и стандартное отклонение: "
   ]
  },
  {
   "cell_type": "code",
   "execution_count": 38,
   "metadata": {},
   "outputs": [
    {
     "data": {
      "text/html": [
       "<div>\n",
       "<style scoped>\n",
       "    .dataframe tbody tr th:only-of-type {\n",
       "        vertical-align: middle;\n",
       "    }\n",
       "\n",
       "    .dataframe tbody tr th {\n",
       "        vertical-align: top;\n",
       "    }\n",
       "\n",
       "    .dataframe thead th {\n",
       "        text-align: right;\n",
       "    }\n",
       "</style>\n",
       "<table border=\"1\" class=\"dataframe\">\n",
       "  <thead>\n",
       "    <tr style=\"text-align: right;\">\n",
       "      <th></th>\n",
       "      <th>month</th>\n",
       "      <th>mean_smart</th>\n",
       "      <th>mean_ultra</th>\n",
       "      <th>var_smart</th>\n",
       "      <th>var_ultra</th>\n",
       "      <th>std_smart</th>\n",
       "      <th>std_ultra</th>\n",
       "    </tr>\n",
       "  </thead>\n",
       "  <tbody>\n",
       "    <tr>\n",
       "      <th>0</th>\n",
       "      <td>1</td>\n",
       "      <td>9.0</td>\n",
       "      <td>13.0</td>\n",
       "      <td>39.0</td>\n",
       "      <td>44.0</td>\n",
       "      <td>6.0</td>\n",
       "      <td>7.0</td>\n",
       "    </tr>\n",
       "    <tr>\n",
       "      <th>1</th>\n",
       "      <td>2</td>\n",
       "      <td>12.0</td>\n",
       "      <td>12.0</td>\n",
       "      <td>37.0</td>\n",
       "      <td>109.0</td>\n",
       "      <td>6.0</td>\n",
       "      <td>10.0</td>\n",
       "    </tr>\n",
       "    <tr>\n",
       "      <th>2</th>\n",
       "      <td>3</td>\n",
       "      <td>15.0</td>\n",
       "      <td>18.0</td>\n",
       "      <td>33.0</td>\n",
       "      <td>114.0</td>\n",
       "      <td>6.0</td>\n",
       "      <td>11.0</td>\n",
       "    </tr>\n",
       "    <tr>\n",
       "      <th>3</th>\n",
       "      <td>4</td>\n",
       "      <td>14.0</td>\n",
       "      <td>17.0</td>\n",
       "      <td>31.0</td>\n",
       "      <td>89.0</td>\n",
       "      <td>6.0</td>\n",
       "      <td>9.0</td>\n",
       "    </tr>\n",
       "    <tr>\n",
       "      <th>4</th>\n",
       "      <td>5</td>\n",
       "      <td>16.0</td>\n",
       "      <td>19.0</td>\n",
       "      <td>34.0</td>\n",
       "      <td>96.0</td>\n",
       "      <td>6.0</td>\n",
       "      <td>10.0</td>\n",
       "    </tr>\n",
       "    <tr>\n",
       "      <th>5</th>\n",
       "      <td>6</td>\n",
       "      <td>16.0</td>\n",
       "      <td>19.0</td>\n",
       "      <td>32.0</td>\n",
       "      <td>82.0</td>\n",
       "      <td>6.0</td>\n",
       "      <td>9.0</td>\n",
       "    </tr>\n",
       "    <tr>\n",
       "      <th>6</th>\n",
       "      <td>7</td>\n",
       "      <td>16.0</td>\n",
       "      <td>21.0</td>\n",
       "      <td>33.0</td>\n",
       "      <td>96.0</td>\n",
       "      <td>6.0</td>\n",
       "      <td>10.0</td>\n",
       "    </tr>\n",
       "    <tr>\n",
       "      <th>7</th>\n",
       "      <td>8</td>\n",
       "      <td>17.0</td>\n",
       "      <td>20.0</td>\n",
       "      <td>30.0</td>\n",
       "      <td>105.0</td>\n",
       "      <td>5.0</td>\n",
       "      <td>10.0</td>\n",
       "    </tr>\n",
       "    <tr>\n",
       "      <th>8</th>\n",
       "      <td>9</td>\n",
       "      <td>16.0</td>\n",
       "      <td>19.0</td>\n",
       "      <td>26.0</td>\n",
       "      <td>86.0</td>\n",
       "      <td>5.0</td>\n",
       "      <td>9.0</td>\n",
       "    </tr>\n",
       "    <tr>\n",
       "      <th>9</th>\n",
       "      <td>10</td>\n",
       "      <td>17.0</td>\n",
       "      <td>20.0</td>\n",
       "      <td>33.0</td>\n",
       "      <td>91.0</td>\n",
       "      <td>6.0</td>\n",
       "      <td>10.0</td>\n",
       "    </tr>\n",
       "    <tr>\n",
       "      <th>10</th>\n",
       "      <td>11</td>\n",
       "      <td>17.0</td>\n",
       "      <td>20.0</td>\n",
       "      <td>27.0</td>\n",
       "      <td>94.0</td>\n",
       "      <td>5.0</td>\n",
       "      <td>10.0</td>\n",
       "    </tr>\n",
       "    <tr>\n",
       "      <th>11</th>\n",
       "      <td>12</td>\n",
       "      <td>18.0</td>\n",
       "      <td>22.0</td>\n",
       "      <td>30.0</td>\n",
       "      <td>103.0</td>\n",
       "      <td>5.0</td>\n",
       "      <td>10.0</td>\n",
       "    </tr>\n",
       "  </tbody>\n",
       "</table>\n",
       "</div>"
      ],
      "text/plain": [
       "    month  mean_smart  mean_ultra  var_smart  var_ultra  std_smart  std_ultra\n",
       "0       1         9.0        13.0       39.0       44.0        6.0        7.0\n",
       "1       2        12.0        12.0       37.0      109.0        6.0       10.0\n",
       "2       3        15.0        18.0       33.0      114.0        6.0       11.0\n",
       "3       4        14.0        17.0       31.0       89.0        6.0        9.0\n",
       "4       5        16.0        19.0       34.0       96.0        6.0       10.0\n",
       "5       6        16.0        19.0       32.0       82.0        6.0        9.0\n",
       "6       7        16.0        21.0       33.0       96.0        6.0       10.0\n",
       "7       8        17.0        20.0       30.0      105.0        5.0       10.0\n",
       "8       9        16.0        19.0       26.0       86.0        5.0        9.0\n",
       "9      10        17.0        20.0       33.0       91.0        6.0       10.0\n",
       "10     11        17.0        20.0       27.0       94.0        5.0       10.0\n",
       "11     12        18.0        22.0       30.0      103.0        5.0       10.0"
      ]
     },
     "execution_count": 38,
     "metadata": {},
     "output_type": "execute_result"
    }
   ],
   "source": [
    "df_month_gb=pd.pivot_table(df, index=['month'], columns=['tariff'], values=['gb_summ'], aggfunc=['mean', np.var, np.std]).reset_index().round()\n",
    "df_month_gb.columns=['month', 'mean_smart', 'mean_ultra', 'var_smart', 'var_ultra', 'std_smart', 'std_ultra']\n",
    "df_month_gb"
   ]
  },
  {
   "cell_type": "code",
   "execution_count": 39,
   "metadata": {},
   "outputs": [
    {
     "data": {
      "image/png": "[encoded data removed]",
      "text/plain": [
       "<Figure size 1080x360 with 2 Axes>"
      ]
     },
     "metadata": {
      "image/png": {
       "height": 351,
       "width": 1072
      },
      "needs_background": "light"
     },
     "output_type": "display_data"
    }
   ],
   "source": [
    "fig1, ax1 = plt.subplots(nrows=1, ncols=2, figsize=(15,5))\n",
    "\n",
    "ax1[0].set_title('среднее')\n",
    "ax1[0].bar(df_month_gb['month'], df_month_gb['mean_ultra'], label='ultra', alpha=0.5)\n",
    "ax1[0].bar(df_month_gb['month'], df_month_gb['mean_smart'],color='green', label='smart')\n",
    "ax1[0].legend()\n",
    "\n",
    "\n",
    "ax1[1].set_title('среднее')\n",
    "ax1[1].hist(df_month_gb['mean_ultra'], 10, label='ultra')\n",
    "ax1[1].hist(df_month_gb['mean_smart'], 10, color='green', label='smart', alpha=0.5)\n",
    "ax1[1].legend()\n",
    "\n",
    "fig1.tight_layout()\n"
   ]
  },
  {
   "cell_type": "markdown",
   "metadata": {},
   "source": [
    "Из полученных данных мы видим следующее:\n",
    "\n",
    "    * из столбчатой диаграммы видно, что в феврале так же как и по звонкам одинаковый средний расход\n",
    "    * минимальное значение по двум тарифам в январе и макимальное по двум тарифам в декабре\n",
    "    * среднее значение по ультра 19 Гб, а у смарт в районе 16 Гб.\n",
    "    * на гистограмме ультра смещен правее, что и доказывает столбчатая диаграмма. "
   ]
  },
  {
   "cell_type": "code",
   "execution_count": 40,
   "metadata": {},
   "outputs": [
    {
     "data": {
      "image/png": "[encoded data removed]",
      "text/plain": [
       "<Figure size 432x288 with 1 Axes>"
      ]
     },
     "metadata": {
      "image/png": {
       "height": 263,
       "width": 362
      },
      "needs_background": "light"
     },
     "output_type": "display_data"
    }
   ],
   "source": [
    "df_month_gb['std_ultra'].hist(bins=5,color='green', label='ultra').set_title('Стандартное отклонение интернет траффик')\n",
    "df_month_gb['std_smart'].hist(bins=5, label='smart', alpha=0.5)\n",
    "plt.legend()\n",
    "plt.show()"
   ]
  },
  {
   "cell_type": "markdown",
   "metadata": {},
   "source": [
    "Стандартное отклонение показывает, что у тарифа смарт есть два значения 5 и 6, а у тарифа ультра график смещен правее ( соответственно разброс данных больше) и имеет максимальное отклонение 10.\n",
    "\n",
    "Теперь посмотрим как распределяются сообщения:"
   ]
  },
  {
   "cell_type": "code",
   "execution_count": 41,
   "metadata": {},
   "outputs": [
    {
     "data": {
      "text/html": [
       "<div>\n",
       "<style scoped>\n",
       "    .dataframe tbody tr th:only-of-type {\n",
       "        vertical-align: middle;\n",
       "    }\n",
       "\n",
       "    .dataframe tbody tr th {\n",
       "        vertical-align: top;\n",
       "    }\n",
       "\n",
       "    .dataframe thead th {\n",
       "        text-align: right;\n",
       "    }\n",
       "</style>\n",
       "<table border=\"1\" class=\"dataframe\">\n",
       "  <thead>\n",
       "    <tr style=\"text-align: right;\">\n",
       "      <th></th>\n",
       "      <th>month</th>\n",
       "      <th>mean_smart</th>\n",
       "      <th>mean_ultra</th>\n",
       "      <th>var_smart</th>\n",
       "      <th>var_ultra</th>\n",
       "      <th>std_smart</th>\n",
       "      <th>std_ultra</th>\n",
       "    </tr>\n",
       "  </thead>\n",
       "  <tbody>\n",
       "    <tr>\n",
       "      <th>0</th>\n",
       "      <td>1</td>\n",
       "      <td>18.0</td>\n",
       "      <td>34.0</td>\n",
       "      <td>262.0</td>\n",
       "      <td>941.0</td>\n",
       "      <td>16.0</td>\n",
       "      <td>31.0</td>\n",
       "    </tr>\n",
       "    <tr>\n",
       "      <th>1</th>\n",
       "      <td>2</td>\n",
       "      <td>24.0</td>\n",
       "      <td>22.0</td>\n",
       "      <td>473.0</td>\n",
       "      <td>717.0</td>\n",
       "      <td>22.0</td>\n",
       "      <td>27.0</td>\n",
       "    </tr>\n",
       "    <tr>\n",
       "      <th>2</th>\n",
       "      <td>3</td>\n",
       "      <td>32.0</td>\n",
       "      <td>32.0</td>\n",
       "      <td>718.0</td>\n",
       "      <td>1732.0</td>\n",
       "      <td>27.0</td>\n",
       "      <td>42.0</td>\n",
       "    </tr>\n",
       "    <tr>\n",
       "      <th>3</th>\n",
       "      <td>4</td>\n",
       "      <td>31.0</td>\n",
       "      <td>32.0</td>\n",
       "      <td>602.0</td>\n",
       "      <td>1407.0</td>\n",
       "      <td>25.0</td>\n",
       "      <td>38.0</td>\n",
       "    </tr>\n",
       "    <tr>\n",
       "      <th>4</th>\n",
       "      <td>5</td>\n",
       "      <td>34.0</td>\n",
       "      <td>38.0</td>\n",
       "      <td>731.0</td>\n",
       "      <td>1625.0</td>\n",
       "      <td>27.0</td>\n",
       "      <td>40.0</td>\n",
       "    </tr>\n",
       "    <tr>\n",
       "      <th>5</th>\n",
       "      <td>6</td>\n",
       "      <td>33.0</td>\n",
       "      <td>42.0</td>\n",
       "      <td>807.0</td>\n",
       "      <td>1986.0</td>\n",
       "      <td>28.0</td>\n",
       "      <td>45.0</td>\n",
       "    </tr>\n",
       "    <tr>\n",
       "      <th>6</th>\n",
       "      <td>7</td>\n",
       "      <td>34.0</td>\n",
       "      <td>50.0</td>\n",
       "      <td>800.0</td>\n",
       "      <td>2372.0</td>\n",
       "      <td>28.0</td>\n",
       "      <td>49.0</td>\n",
       "    </tr>\n",
       "    <tr>\n",
       "      <th>7</th>\n",
       "      <td>8</td>\n",
       "      <td>34.0</td>\n",
       "      <td>48.0</td>\n",
       "      <td>838.0</td>\n",
       "      <td>2172.0</td>\n",
       "      <td>29.0</td>\n",
       "      <td>47.0</td>\n",
       "    </tr>\n",
       "    <tr>\n",
       "      <th>8</th>\n",
       "      <td>9</td>\n",
       "      <td>34.0</td>\n",
       "      <td>52.0</td>\n",
       "      <td>791.0</td>\n",
       "      <td>2153.0</td>\n",
       "      <td>28.0</td>\n",
       "      <td>46.0</td>\n",
       "    </tr>\n",
       "    <tr>\n",
       "      <th>9</th>\n",
       "      <td>10</td>\n",
       "      <td>34.0</td>\n",
       "      <td>58.0</td>\n",
       "      <td>816.0</td>\n",
       "      <td>2697.0</td>\n",
       "      <td>29.0</td>\n",
       "      <td>52.0</td>\n",
       "    </tr>\n",
       "    <tr>\n",
       "      <th>10</th>\n",
       "      <td>11</td>\n",
       "      <td>34.0</td>\n",
       "      <td>56.0</td>\n",
       "      <td>806.0</td>\n",
       "      <td>2477.0</td>\n",
       "      <td>28.0</td>\n",
       "      <td>50.0</td>\n",
       "    </tr>\n",
       "    <tr>\n",
       "      <th>11</th>\n",
       "      <td>12</td>\n",
       "      <td>36.0</td>\n",
       "      <td>61.0</td>\n",
       "      <td>935.0</td>\n",
       "      <td>2682.0</td>\n",
       "      <td>31.0</td>\n",
       "      <td>52.0</td>\n",
       "    </tr>\n",
       "  </tbody>\n",
       "</table>\n",
       "</div>"
      ],
      "text/plain": [
       "    month  mean_smart  mean_ultra  var_smart  var_ultra  std_smart  std_ultra\n",
       "0       1        18.0        34.0      262.0      941.0       16.0       31.0\n",
       "1       2        24.0        22.0      473.0      717.0       22.0       27.0\n",
       "2       3        32.0        32.0      718.0     1732.0       27.0       42.0\n",
       "3       4        31.0        32.0      602.0     1407.0       25.0       38.0\n",
       "4       5        34.0        38.0      731.0     1625.0       27.0       40.0\n",
       "5       6        33.0        42.0      807.0     1986.0       28.0       45.0\n",
       "6       7        34.0        50.0      800.0     2372.0       28.0       49.0\n",
       "7       8        34.0        48.0      838.0     2172.0       29.0       47.0\n",
       "8       9        34.0        52.0      791.0     2153.0       28.0       46.0\n",
       "9      10        34.0        58.0      816.0     2697.0       29.0       52.0\n",
       "10     11        34.0        56.0      806.0     2477.0       28.0       50.0\n",
       "11     12        36.0        61.0      935.0     2682.0       31.0       52.0"
      ]
     },
     "execution_count": 41,
     "metadata": {},
     "output_type": "execute_result"
    }
   ],
   "source": [
    "df_month_mes=pd.pivot_table(df, index=['month'], columns=['tariff'], values=['messages_sum'], aggfunc=['mean', np.var, np.std]).reset_index().round()\n",
    "df_month_mes.columns=['month', 'mean_smart', 'mean_ultra', 'var_smart', 'var_ultra', 'std_smart', 'std_ultra']\n",
    "df_month_mes"
   ]
  },
  {
   "cell_type": "code",
   "execution_count": 42,
   "metadata": {},
   "outputs": [
    {
     "data": {
      "image/png": "[encoded data removed]",
      "text/plain": [
       "<Figure size 1080x360 with 2 Axes>"
      ]
     },
     "metadata": {
      "image/png": {
       "height": 351,
       "width": 1072
      },
      "needs_background": "light"
     },
     "output_type": "display_data"
    }
   ],
   "source": [
    "fig1, ax1 = plt.subplots(nrows=1, ncols=2, figsize=(15,5))\n",
    "\n",
    "ax1[0].set_title('среднее')\n",
    "ax1[0].bar(df_month_mes['month'], df_month_mes['mean_ultra'], label='ultra', alpha=0.5)\n",
    "ax1[0].bar(df_month_mes['month'], df_month_mes['mean_smart'],color='green', label='smart')\n",
    "ax1[0].legend()\n",
    "\n",
    "\n",
    "ax1[1].set_title('среднее')\n",
    "ax1[1].hist(df_month_mes['mean_ultra'], 10, label='ultra')\n",
    "ax1[1].hist(df_month_mes['mean_smart'], 10, color='green', label='smart', alpha=0.5)\n",
    "ax1[1].legend()\n",
    "\n",
    "fig1.tight_layout()"
   ]
  },
  {
   "cell_type": "markdown",
   "metadata": {},
   "source": [
    "Что мы видим:\n",
    "\n",
    "    * тариф смарт- резкий рост до марта, потом оносительно ровное количество смс оставшийся год\n",
    "    * тариф ультра - весь год рост количества сообщений, кроме просидания в феврале.\n",
    "    * общее количество сообщений не превышает по двум тарифам 60 смс."
   ]
  },
  {
   "cell_type": "code",
   "execution_count": 43,
   "metadata": {},
   "outputs": [
    {
     "data": {
      "image/png": "[encoded data removed]",
      "text/plain": [
       "<Figure size 432x288 with 1 Axes>"
      ]
     },
     "metadata": {
      "image/png": {
       "height": 263,
       "width": 362
      },
      "needs_background": "light"
     },
     "output_type": "display_data"
    }
   ],
   "source": [
    "df_month_mes['std_ultra'].hist(bins=5,color='green', label='ultra').set_title('Стандартное отклонение интернет траффик')\n",
    "df_month_mes['std_smart'].hist(bins=5, label='smart', alpha=0.5)\n",
    "plt.legend()\n",
    "plt.show()"
   ]
  },
  {
   "cell_type": "markdown",
   "metadata": {},
   "source": [
    "Что мы видим:\n",
    "    \n",
    "    * график ультра смещен относительно смарт вправо, значит у ультра разброс больше.\n",
    "    * оба графика имеют хвост только слева."
   ]
  },
  {
   "cell_type": "markdown",
   "metadata": {},
   "source": [
    "Общие выводы:\n",
    "    * наблюдается спад в феврале по всем источникам связи.\n",
    "    * по всем источникам связи расход у абонентов больше по тарифу ультра, что логично , т.к этот тариф предполгает больший пакет расхода услуг. Но если обратить внимание на то, что например звонков в тарифе ультра можно совершать в шесть раз больше, то по результатам исследования мы не наблюдаем такой большой разницы в тарифах. Что в свою очередь могу предположить, что абоненты переплачивают и не расходуют пакет. "
   ]
  },
  {
   "cell_type": "markdown",
   "metadata": {},
   "source": [
    "### Проверяем гепотезы\n",
    "\n"
   ]
  },
  {
   "cell_type": "markdown",
   "metadata": {},
   "source": [
    "1. Средняя выручка пользователей тарифов «Ультра» и «Смарт» различаются"
   ]
  },
  {
   "cell_type": "markdown",
   "metadata": {},
   "source": [
    "Для проверки гипотезы создадим две выборки для каждго тарифа."
   ]
  },
  {
   "cell_type": "code",
   "execution_count": 44,
   "metadata": {},
   "outputs": [
    {
     "data": {
      "text/html": [
       "<div>\n",
       "<style scoped>\n",
       "    .dataframe tbody tr th:only-of-type {\n",
       "        vertical-align: middle;\n",
       "    }\n",
       "\n",
       "    .dataframe tbody tr th {\n",
       "        vertical-align: top;\n",
       "    }\n",
       "\n",
       "    .dataframe thead th {\n",
       "        text-align: right;\n",
       "    }\n",
       "</style>\n",
       "<table border=\"1\" class=\"dataframe\">\n",
       "  <thead>\n",
       "    <tr style=\"text-align: right;\">\n",
       "      <th></th>\n",
       "      <th>user_id</th>\n",
       "      <th>month</th>\n",
       "      <th>calls_sum</th>\n",
       "      <th>calls_count</th>\n",
       "      <th>gb_summ</th>\n",
       "      <th>messages_sum</th>\n",
       "      <th>tariff</th>\n",
       "      <th>profit_month</th>\n",
       "    </tr>\n",
       "  </thead>\n",
       "  <tbody>\n",
       "    <tr>\n",
       "      <th>0</th>\n",
       "      <td>1000</td>\n",
       "      <td>5</td>\n",
       "      <td>159.0</td>\n",
       "      <td>22.0</td>\n",
       "      <td>3.0</td>\n",
       "      <td>22.0</td>\n",
       "      <td>ultra</td>\n",
       "      <td>2254.0</td>\n",
       "    </tr>\n",
       "    <tr>\n",
       "      <th>1</th>\n",
       "      <td>1000</td>\n",
       "      <td>6</td>\n",
       "      <td>172.0</td>\n",
       "      <td>43.0</td>\n",
       "      <td>23.0</td>\n",
       "      <td>60.0</td>\n",
       "      <td>ultra</td>\n",
       "      <td>5254.0</td>\n",
       "    </tr>\n",
       "    <tr>\n",
       "      <th>2</th>\n",
       "      <td>1000</td>\n",
       "      <td>7</td>\n",
       "      <td>340.0</td>\n",
       "      <td>47.0</td>\n",
       "      <td>14.0</td>\n",
       "      <td>75.0</td>\n",
       "      <td>ultra</td>\n",
       "      <td>3904.0</td>\n",
       "    </tr>\n",
       "    <tr>\n",
       "      <th>3</th>\n",
       "      <td>1000</td>\n",
       "      <td>8</td>\n",
       "      <td>408.0</td>\n",
       "      <td>52.0</td>\n",
       "      <td>14.0</td>\n",
       "      <td>81.0</td>\n",
       "      <td>ultra</td>\n",
       "      <td>3904.0</td>\n",
       "    </tr>\n",
       "    <tr>\n",
       "      <th>4</th>\n",
       "      <td>1000</td>\n",
       "      <td>9</td>\n",
       "      <td>466.0</td>\n",
       "      <td>58.0</td>\n",
       "      <td>15.0</td>\n",
       "      <td>57.0</td>\n",
       "      <td>ultra</td>\n",
       "      <td>4054.0</td>\n",
       "    </tr>\n",
       "    <tr>\n",
       "      <th>...</th>\n",
       "      <td>...</td>\n",
       "      <td>...</td>\n",
       "      <td>...</td>\n",
       "      <td>...</td>\n",
       "      <td>...</td>\n",
       "      <td>...</td>\n",
       "      <td>...</td>\n",
       "      <td>...</td>\n",
       "    </tr>\n",
       "    <tr>\n",
       "      <th>3204</th>\n",
       "      <td>1473</td>\n",
       "      <td>9</td>\n",
       "      <td>0.0</td>\n",
       "      <td>0.0</td>\n",
       "      <td>17.0</td>\n",
       "      <td>19.0</td>\n",
       "      <td>ultra</td>\n",
       "      <td>4354.0</td>\n",
       "    </tr>\n",
       "    <tr>\n",
       "      <th>3205</th>\n",
       "      <td>1473</td>\n",
       "      <td>10</td>\n",
       "      <td>0.0</td>\n",
       "      <td>0.0</td>\n",
       "      <td>14.0</td>\n",
       "      <td>20.0</td>\n",
       "      <td>ultra</td>\n",
       "      <td>3904.0</td>\n",
       "    </tr>\n",
       "    <tr>\n",
       "      <th>3206</th>\n",
       "      <td>1473</td>\n",
       "      <td>11</td>\n",
       "      <td>0.0</td>\n",
       "      <td>0.0</td>\n",
       "      <td>22.0</td>\n",
       "      <td>14.0</td>\n",
       "      <td>ultra</td>\n",
       "      <td>5104.0</td>\n",
       "    </tr>\n",
       "    <tr>\n",
       "      <th>3207</th>\n",
       "      <td>1473</td>\n",
       "      <td>12</td>\n",
       "      <td>0.0</td>\n",
       "      <td>0.0</td>\n",
       "      <td>18.0</td>\n",
       "      <td>20.0</td>\n",
       "      <td>ultra</td>\n",
       "      <td>4504.0</td>\n",
       "    </tr>\n",
       "    <tr>\n",
       "      <th>3208</th>\n",
       "      <td>1476</td>\n",
       "      <td>4</td>\n",
       "      <td>0.0</td>\n",
       "      <td>0.0</td>\n",
       "      <td>1.0</td>\n",
       "      <td>0.0</td>\n",
       "      <td>ultra</td>\n",
       "      <td>1954.0</td>\n",
       "    </tr>\n",
       "  </tbody>\n",
       "</table>\n",
       "<p>985 rows × 8 columns</p>\n",
       "</div>"
      ],
      "text/plain": [
       "      user_id  month  calls_sum  calls_count  gb_summ  messages_sum tariff  \\\n",
       "0        1000      5      159.0         22.0      3.0          22.0  ultra   \n",
       "1        1000      6      172.0         43.0     23.0          60.0  ultra   \n",
       "2        1000      7      340.0         47.0     14.0          75.0  ultra   \n",
       "3        1000      8      408.0         52.0     14.0          81.0  ultra   \n",
       "4        1000      9      466.0         58.0     15.0          57.0  ultra   \n",
       "...       ...    ...        ...          ...      ...           ...    ...   \n",
       "3204     1473      9        0.0          0.0     17.0          19.0  ultra   \n",
       "3205     1473     10        0.0          0.0     14.0          20.0  ultra   \n",
       "3206     1473     11        0.0          0.0     22.0          14.0  ultra   \n",
       "3207     1473     12        0.0          0.0     18.0          20.0  ultra   \n",
       "3208     1476      4        0.0          0.0      1.0           0.0  ultra   \n",
       "\n",
       "      profit_month  \n",
       "0           2254.0  \n",
       "1           5254.0  \n",
       "2           3904.0  \n",
       "3           3904.0  \n",
       "4           4054.0  \n",
       "...            ...  \n",
       "3204        4354.0  \n",
       "3205        3904.0  \n",
       "3206        5104.0  \n",
       "3207        4504.0  \n",
       "3208        1954.0  \n",
       "\n",
       "[985 rows x 8 columns]"
      ]
     },
     "execution_count": 44,
     "metadata": {},
     "output_type": "execute_result"
    }
   ],
   "source": [
    "df_ultra=df[df['tariff']=='ultra']\n",
    "df_ultra"
   ]
  },
  {
   "cell_type": "code",
   "execution_count": 45,
   "metadata": {},
   "outputs": [
    {
     "data": {
      "text/html": [
       "<div>\n",
       "<style scoped>\n",
       "    .dataframe tbody tr th:only-of-type {\n",
       "        vertical-align: middle;\n",
       "    }\n",
       "\n",
       "    .dataframe tbody tr th {\n",
       "        vertical-align: top;\n",
       "    }\n",
       "\n",
       "    .dataframe thead th {\n",
       "        text-align: right;\n",
       "    }\n",
       "</style>\n",
       "<table border=\"1\" class=\"dataframe\">\n",
       "  <thead>\n",
       "    <tr style=\"text-align: right;\">\n",
       "      <th></th>\n",
       "      <th>user_id</th>\n",
       "      <th>month</th>\n",
       "      <th>calls_sum</th>\n",
       "      <th>calls_count</th>\n",
       "      <th>gb_summ</th>\n",
       "      <th>messages_sum</th>\n",
       "      <th>tariff</th>\n",
       "      <th>profit_month</th>\n",
       "    </tr>\n",
       "  </thead>\n",
       "  <tbody>\n",
       "    <tr>\n",
       "      <th>8</th>\n",
       "      <td>1001</td>\n",
       "      <td>11</td>\n",
       "      <td>430.0</td>\n",
       "      <td>59.0</td>\n",
       "      <td>18.0</td>\n",
       "      <td>0.0</td>\n",
       "      <td>smart</td>\n",
       "      <td>4141.0</td>\n",
       "    </tr>\n",
       "    <tr>\n",
       "      <th>9</th>\n",
       "      <td>1001</td>\n",
       "      <td>12</td>\n",
       "      <td>414.0</td>\n",
       "      <td>63.0</td>\n",
       "      <td>14.0</td>\n",
       "      <td>0.0</td>\n",
       "      <td>smart</td>\n",
       "      <td>3341.0</td>\n",
       "    </tr>\n",
       "    <tr>\n",
       "      <th>10</th>\n",
       "      <td>1002</td>\n",
       "      <td>6</td>\n",
       "      <td>117.0</td>\n",
       "      <td>15.0</td>\n",
       "      <td>11.0</td>\n",
       "      <td>4.0</td>\n",
       "      <td>smart</td>\n",
       "      <td>2741.0</td>\n",
       "    </tr>\n",
       "    <tr>\n",
       "      <th>11</th>\n",
       "      <td>1002</td>\n",
       "      <td>7</td>\n",
       "      <td>214.0</td>\n",
       "      <td>26.0</td>\n",
       "      <td>18.0</td>\n",
       "      <td>11.0</td>\n",
       "      <td>smart</td>\n",
       "      <td>4141.0</td>\n",
       "    </tr>\n",
       "    <tr>\n",
       "      <th>12</th>\n",
       "      <td>1002</td>\n",
       "      <td>8</td>\n",
       "      <td>289.0</td>\n",
       "      <td>42.0</td>\n",
       "      <td>20.0</td>\n",
       "      <td>13.0</td>\n",
       "      <td>smart</td>\n",
       "      <td>4541.0</td>\n",
       "    </tr>\n",
       "    <tr>\n",
       "      <th>...</th>\n",
       "      <td>...</td>\n",
       "      <td>...</td>\n",
       "      <td>...</td>\n",
       "      <td>...</td>\n",
       "      <td>...</td>\n",
       "      <td>...</td>\n",
       "      <td>...</td>\n",
       "      <td>...</td>\n",
       "    </tr>\n",
       "    <tr>\n",
       "      <th>3209</th>\n",
       "      <td>1489</td>\n",
       "      <td>8</td>\n",
       "      <td>0.0</td>\n",
       "      <td>0.0</td>\n",
       "      <td>11.0</td>\n",
       "      <td>17.0</td>\n",
       "      <td>smart</td>\n",
       "      <td>2741.0</td>\n",
       "    </tr>\n",
       "    <tr>\n",
       "      <th>3210</th>\n",
       "      <td>1489</td>\n",
       "      <td>9</td>\n",
       "      <td>0.0</td>\n",
       "      <td>0.0</td>\n",
       "      <td>17.0</td>\n",
       "      <td>32.0</td>\n",
       "      <td>smart</td>\n",
       "      <td>3941.0</td>\n",
       "    </tr>\n",
       "    <tr>\n",
       "      <th>3211</th>\n",
       "      <td>1489</td>\n",
       "      <td>10</td>\n",
       "      <td>0.0</td>\n",
       "      <td>0.0</td>\n",
       "      <td>20.0</td>\n",
       "      <td>21.0</td>\n",
       "      <td>smart</td>\n",
       "      <td>4541.0</td>\n",
       "    </tr>\n",
       "    <tr>\n",
       "      <th>3212</th>\n",
       "      <td>1489</td>\n",
       "      <td>11</td>\n",
       "      <td>0.0</td>\n",
       "      <td>0.0</td>\n",
       "      <td>18.0</td>\n",
       "      <td>20.0</td>\n",
       "      <td>smart</td>\n",
       "      <td>4141.0</td>\n",
       "    </tr>\n",
       "    <tr>\n",
       "      <th>3213</th>\n",
       "      <td>1489</td>\n",
       "      <td>12</td>\n",
       "      <td>0.0</td>\n",
       "      <td>0.0</td>\n",
       "      <td>17.0</td>\n",
       "      <td>35.0</td>\n",
       "      <td>smart</td>\n",
       "      <td>3941.0</td>\n",
       "    </tr>\n",
       "  </tbody>\n",
       "</table>\n",
       "<p>2229 rows × 8 columns</p>\n",
       "</div>"
      ],
      "text/plain": [
       "      user_id  month  calls_sum  calls_count  gb_summ  messages_sum tariff  \\\n",
       "8        1001     11      430.0         59.0     18.0           0.0  smart   \n",
       "9        1001     12      414.0         63.0     14.0           0.0  smart   \n",
       "10       1002      6      117.0         15.0     11.0           4.0  smart   \n",
       "11       1002      7      214.0         26.0     18.0          11.0  smart   \n",
       "12       1002      8      289.0         42.0     20.0          13.0  smart   \n",
       "...       ...    ...        ...          ...      ...           ...    ...   \n",
       "3209     1489      8        0.0          0.0     11.0          17.0  smart   \n",
       "3210     1489      9        0.0          0.0     17.0          32.0  smart   \n",
       "3211     1489     10        0.0          0.0     20.0          21.0  smart   \n",
       "3212     1489     11        0.0          0.0     18.0          20.0  smart   \n",
       "3213     1489     12        0.0          0.0     17.0          35.0  smart   \n",
       "\n",
       "      profit_month  \n",
       "8           4141.0  \n",
       "9           3341.0  \n",
       "10          2741.0  \n",
       "11          4141.0  \n",
       "12          4541.0  \n",
       "...            ...  \n",
       "3209        2741.0  \n",
       "3210        3941.0  \n",
       "3211        4541.0  \n",
       "3212        4141.0  \n",
       "3213        3941.0  \n",
       "\n",
       "[2229 rows x 8 columns]"
      ]
     },
     "execution_count": 45,
     "metadata": {},
     "output_type": "execute_result"
    }
   ],
   "source": [
    "df_smart=df[df['tariff']=='smart']\n",
    "df_smart"
   ]
  },
  {
   "cell_type": "code",
   "execution_count": 46,
   "metadata": {},
   "outputs": [
    {
     "data": {
      "text/plain": [
       "count    2229.000000\n",
       "mean     3948.994168\n",
       "std      1225.731847\n",
       "min       550.000000\n",
       "25%      3195.000000\n",
       "50%      3962.000000\n",
       "75%      4741.000000\n",
       "max      9761.000000\n",
       "Name: profit_month, dtype: float64"
      ]
     },
     "execution_count": 46,
     "metadata": {},
     "output_type": "execute_result"
    }
   ],
   "source": [
    "df_smart['profit_month'].describe()"
   ]
  },
  {
   "cell_type": "code",
   "execution_count": 47,
   "metadata": {},
   "outputs": [
    {
     "data": {
      "text/plain": [
       "count     985.000000\n",
       "mean     4729.792893\n",
       "std      1474.874041\n",
       "min      1950.000000\n",
       "25%      3604.000000\n",
       "50%      4654.000000\n",
       "75%      5854.000000\n",
       "max      9154.000000\n",
       "Name: profit_month, dtype: float64"
      ]
     },
     "execution_count": 47,
     "metadata": {},
     "output_type": "execute_result"
    }
   ],
   "source": [
    "df_ultra['profit_month'].describe()"
   ]
  },
  {
   "cell_type": "markdown",
   "metadata": {},
   "source": [
    "Определим нулевую и альтернативную гипотезы\n",
    "\n",
    "Н0 Средняя выручка пользователей тарифов «Ультра» и «Смарт» равны\n",
    "\n",
    "Н1 не равны\n",
    "\n",
    "Используем  специальный метод для проверки гипотезы о равенстве среднего двух генеральных совокупностей по взятым из них выборкам: scipy.stats.ttest_ind () и возьмем equal_var = False, потому что полученные выборки разного размера"
   ]
  },
  {
   "cell_type": "code",
   "execution_count": 48,
   "metadata": {},
   "outputs": [
    {
     "name": "stdout",
     "output_type": "stream",
     "text": [
      "p-значение:  4.093416243340817e-45\n",
      "Отвергаем нулевую гипотезу\n"
     ]
    }
   ],
   "source": [
    "from scipy import stats as st\n",
    "import numpy as np\n",
    "alpha = .05 # критический уровень статистической значимости\n",
    "# если p-value окажется меньше него - отвегнем гипотезу\n",
    "\n",
    "results = st.ttest_ind(\n",
    "    df_ultra['profit_month'], \n",
    "    df_smart['profit_month'], equal_var = False)\n",
    "\n",
    "print('p-значение: ', results.pvalue)\n",
    "\n",
    "if results.pvalue < alpha:\n",
    "    print(\"Отвергаем нулевую гипотезу\")\n",
    "else:\n",
    "    print(\"Не получилось отвергнуть нулевую гипотезу\") "
   ]
  },
  {
   "cell_type": "markdown",
   "metadata": {},
   "source": [
    "2. Cредняя выручка пользователей из Москвы отличается от выручки пользователей из других регионов.\n",
    "\n",
    "Для этого добавим столбец для каждой выборки с тарифом город абонента."
   ]
  },
  {
   "cell_type": "code",
   "execution_count": 49,
   "metadata": {},
   "outputs": [
    {
     "data": {
      "text/html": [
       "<div>\n",
       "<style scoped>\n",
       "    .dataframe tbody tr th:only-of-type {\n",
       "        vertical-align: middle;\n",
       "    }\n",
       "\n",
       "    .dataframe tbody tr th {\n",
       "        vertical-align: top;\n",
       "    }\n",
       "\n",
       "    .dataframe thead th {\n",
       "        text-align: right;\n",
       "    }\n",
       "</style>\n",
       "<table border=\"1\" class=\"dataframe\">\n",
       "  <thead>\n",
       "    <tr style=\"text-align: right;\">\n",
       "      <th></th>\n",
       "      <th>user_id</th>\n",
       "      <th>city</th>\n",
       "    </tr>\n",
       "  </thead>\n",
       "  <tbody>\n",
       "    <tr>\n",
       "      <th>0</th>\n",
       "      <td>1000</td>\n",
       "      <td>Краснодар</td>\n",
       "    </tr>\n",
       "    <tr>\n",
       "      <th>1</th>\n",
       "      <td>1001</td>\n",
       "      <td>Москва</td>\n",
       "    </tr>\n",
       "    <tr>\n",
       "      <th>2</th>\n",
       "      <td>1002</td>\n",
       "      <td>Стерлитамак</td>\n",
       "    </tr>\n",
       "    <tr>\n",
       "      <th>3</th>\n",
       "      <td>1003</td>\n",
       "      <td>Москва</td>\n",
       "    </tr>\n",
       "    <tr>\n",
       "      <th>4</th>\n",
       "      <td>1004</td>\n",
       "      <td>Новокузнецк</td>\n",
       "    </tr>\n",
       "  </tbody>\n",
       "</table>\n",
       "</div>"
      ],
      "text/plain": [
       "   user_id         city\n",
       "0     1000    Краснодар\n",
       "1     1001       Москва\n",
       "2     1002  Стерлитамак\n",
       "3     1003       Москва\n",
       "4     1004  Новокузнецк"
      ]
     },
     "execution_count": 49,
     "metadata": {},
     "output_type": "execute_result"
    }
   ],
   "source": [
    "# создадим словарь из `users` с номером абонента и город регистрации\n",
    "users2=users[['user_id', 'city']]\n",
    "users2.head(5)"
   ]
  },
  {
   "cell_type": "code",
   "execution_count": 50,
   "metadata": {},
   "outputs": [
    {
     "data": {
      "text/html": [
       "<div>\n",
       "<style scoped>\n",
       "    .dataframe tbody tr th:only-of-type {\n",
       "        vertical-align: middle;\n",
       "    }\n",
       "\n",
       "    .dataframe tbody tr th {\n",
       "        vertical-align: top;\n",
       "    }\n",
       "\n",
       "    .dataframe thead th {\n",
       "        text-align: right;\n",
       "    }\n",
       "</style>\n",
       "<table border=\"1\" class=\"dataframe\">\n",
       "  <thead>\n",
       "    <tr style=\"text-align: right;\">\n",
       "      <th></th>\n",
       "      <th>user_id</th>\n",
       "      <th>month</th>\n",
       "      <th>calls_sum</th>\n",
       "      <th>calls_count</th>\n",
       "      <th>gb_summ</th>\n",
       "      <th>messages_sum</th>\n",
       "      <th>tariff</th>\n",
       "      <th>profit_month</th>\n",
       "      <th>city</th>\n",
       "    </tr>\n",
       "  </thead>\n",
       "  <tbody>\n",
       "    <tr>\n",
       "      <th>0</th>\n",
       "      <td>1000</td>\n",
       "      <td>5</td>\n",
       "      <td>159.0</td>\n",
       "      <td>22.0</td>\n",
       "      <td>3.0</td>\n",
       "      <td>22.0</td>\n",
       "      <td>ultra</td>\n",
       "      <td>2254.0</td>\n",
       "      <td>Краснодар</td>\n",
       "    </tr>\n",
       "    <tr>\n",
       "      <th>1</th>\n",
       "      <td>1000</td>\n",
       "      <td>6</td>\n",
       "      <td>172.0</td>\n",
       "      <td>43.0</td>\n",
       "      <td>23.0</td>\n",
       "      <td>60.0</td>\n",
       "      <td>ultra</td>\n",
       "      <td>5254.0</td>\n",
       "      <td>Краснодар</td>\n",
       "    </tr>\n",
       "    <tr>\n",
       "      <th>2</th>\n",
       "      <td>1000</td>\n",
       "      <td>7</td>\n",
       "      <td>340.0</td>\n",
       "      <td>47.0</td>\n",
       "      <td>14.0</td>\n",
       "      <td>75.0</td>\n",
       "      <td>ultra</td>\n",
       "      <td>3904.0</td>\n",
       "      <td>Краснодар</td>\n",
       "    </tr>\n",
       "    <tr>\n",
       "      <th>3</th>\n",
       "      <td>1000</td>\n",
       "      <td>8</td>\n",
       "      <td>408.0</td>\n",
       "      <td>52.0</td>\n",
       "      <td>14.0</td>\n",
       "      <td>81.0</td>\n",
       "      <td>ultra</td>\n",
       "      <td>3904.0</td>\n",
       "      <td>Краснодар</td>\n",
       "    </tr>\n",
       "    <tr>\n",
       "      <th>4</th>\n",
       "      <td>1000</td>\n",
       "      <td>9</td>\n",
       "      <td>466.0</td>\n",
       "      <td>58.0</td>\n",
       "      <td>15.0</td>\n",
       "      <td>57.0</td>\n",
       "      <td>ultra</td>\n",
       "      <td>4054.0</td>\n",
       "      <td>Краснодар</td>\n",
       "    </tr>\n",
       "    <tr>\n",
       "      <th>...</th>\n",
       "      <td>...</td>\n",
       "      <td>...</td>\n",
       "      <td>...</td>\n",
       "      <td>...</td>\n",
       "      <td>...</td>\n",
       "      <td>...</td>\n",
       "      <td>...</td>\n",
       "      <td>...</td>\n",
       "      <td>...</td>\n",
       "    </tr>\n",
       "    <tr>\n",
       "      <th>3209</th>\n",
       "      <td>1489</td>\n",
       "      <td>8</td>\n",
       "      <td>0.0</td>\n",
       "      <td>0.0</td>\n",
       "      <td>11.0</td>\n",
       "      <td>17.0</td>\n",
       "      <td>smart</td>\n",
       "      <td>2741.0</td>\n",
       "      <td>Санкт-Петербург</td>\n",
       "    </tr>\n",
       "    <tr>\n",
       "      <th>3210</th>\n",
       "      <td>1489</td>\n",
       "      <td>9</td>\n",
       "      <td>0.0</td>\n",
       "      <td>0.0</td>\n",
       "      <td>17.0</td>\n",
       "      <td>32.0</td>\n",
       "      <td>smart</td>\n",
       "      <td>3941.0</td>\n",
       "      <td>Санкт-Петербург</td>\n",
       "    </tr>\n",
       "    <tr>\n",
       "      <th>3211</th>\n",
       "      <td>1489</td>\n",
       "      <td>10</td>\n",
       "      <td>0.0</td>\n",
       "      <td>0.0</td>\n",
       "      <td>20.0</td>\n",
       "      <td>21.0</td>\n",
       "      <td>smart</td>\n",
       "      <td>4541.0</td>\n",
       "      <td>Санкт-Петербург</td>\n",
       "    </tr>\n",
       "    <tr>\n",
       "      <th>3212</th>\n",
       "      <td>1489</td>\n",
       "      <td>11</td>\n",
       "      <td>0.0</td>\n",
       "      <td>0.0</td>\n",
       "      <td>18.0</td>\n",
       "      <td>20.0</td>\n",
       "      <td>smart</td>\n",
       "      <td>4141.0</td>\n",
       "      <td>Санкт-Петербург</td>\n",
       "    </tr>\n",
       "    <tr>\n",
       "      <th>3213</th>\n",
       "      <td>1489</td>\n",
       "      <td>12</td>\n",
       "      <td>0.0</td>\n",
       "      <td>0.0</td>\n",
       "      <td>17.0</td>\n",
       "      <td>35.0</td>\n",
       "      <td>smart</td>\n",
       "      <td>3941.0</td>\n",
       "      <td>Санкт-Петербург</td>\n",
       "    </tr>\n",
       "  </tbody>\n",
       "</table>\n",
       "<p>3214 rows × 9 columns</p>\n",
       "</div>"
      ],
      "text/plain": [
       "      user_id  month  calls_sum  calls_count  gb_summ  messages_sum tariff  \\\n",
       "0        1000      5      159.0         22.0      3.0          22.0  ultra   \n",
       "1        1000      6      172.0         43.0     23.0          60.0  ultra   \n",
       "2        1000      7      340.0         47.0     14.0          75.0  ultra   \n",
       "3        1000      8      408.0         52.0     14.0          81.0  ultra   \n",
       "4        1000      9      466.0         58.0     15.0          57.0  ultra   \n",
       "...       ...    ...        ...          ...      ...           ...    ...   \n",
       "3209     1489      8        0.0          0.0     11.0          17.0  smart   \n",
       "3210     1489      9        0.0          0.0     17.0          32.0  smart   \n",
       "3211     1489     10        0.0          0.0     20.0          21.0  smart   \n",
       "3212     1489     11        0.0          0.0     18.0          20.0  smart   \n",
       "3213     1489     12        0.0          0.0     17.0          35.0  smart   \n",
       "\n",
       "      profit_month             city  \n",
       "0           2254.0        Краснодар  \n",
       "1           5254.0        Краснодар  \n",
       "2           3904.0        Краснодар  \n",
       "3           3904.0        Краснодар  \n",
       "4           4054.0        Краснодар  \n",
       "...            ...              ...  \n",
       "3209        2741.0  Санкт-Петербург  \n",
       "3210        3941.0  Санкт-Петербург  \n",
       "3211        4541.0  Санкт-Петербург  \n",
       "3212        4141.0  Санкт-Петербург  \n",
       "3213        3941.0  Санкт-Петербург  \n",
       "\n",
       "[3214 rows x 9 columns]"
      ]
     },
     "execution_count": 50,
     "metadata": {},
     "output_type": "execute_result"
    }
   ],
   "source": [
    "# добавим столбец с городом из нашего словаря\n",
    "df_new=df.merge(users2, on='user_id', how='left')\n",
    "df_new"
   ]
  },
  {
   "cell_type": "code",
   "execution_count": 51,
   "metadata": {},
   "outputs": [
    {
     "data": {
      "text/html": [
       "<div>\n",
       "<style scoped>\n",
       "    .dataframe tbody tr th:only-of-type {\n",
       "        vertical-align: middle;\n",
       "    }\n",
       "\n",
       "    .dataframe tbody tr th {\n",
       "        vertical-align: top;\n",
       "    }\n",
       "\n",
       "    .dataframe thead th {\n",
       "        text-align: right;\n",
       "    }\n",
       "</style>\n",
       "<table border=\"1\" class=\"dataframe\">\n",
       "  <thead>\n",
       "    <tr style=\"text-align: right;\">\n",
       "      <th></th>\n",
       "      <th>user_id</th>\n",
       "      <th>month</th>\n",
       "      <th>calls_sum</th>\n",
       "      <th>calls_count</th>\n",
       "      <th>gb_summ</th>\n",
       "      <th>messages_sum</th>\n",
       "      <th>tariff</th>\n",
       "      <th>profit_month</th>\n",
       "      <th>city</th>\n",
       "    </tr>\n",
       "  </thead>\n",
       "  <tbody>\n",
       "    <tr>\n",
       "      <th>8</th>\n",
       "      <td>1001</td>\n",
       "      <td>11</td>\n",
       "      <td>430.0</td>\n",
       "      <td>59.0</td>\n",
       "      <td>18.0</td>\n",
       "      <td>0.0</td>\n",
       "      <td>smart</td>\n",
       "      <td>4141.0</td>\n",
       "      <td>Москва</td>\n",
       "    </tr>\n",
       "    <tr>\n",
       "      <th>9</th>\n",
       "      <td>1001</td>\n",
       "      <td>12</td>\n",
       "      <td>414.0</td>\n",
       "      <td>63.0</td>\n",
       "      <td>14.0</td>\n",
       "      <td>0.0</td>\n",
       "      <td>smart</td>\n",
       "      <td>3341.0</td>\n",
       "      <td>Москва</td>\n",
       "    </tr>\n",
       "    <tr>\n",
       "      <th>17</th>\n",
       "      <td>1003</td>\n",
       "      <td>8</td>\n",
       "      <td>380.0</td>\n",
       "      <td>55.0</td>\n",
       "      <td>9.0</td>\n",
       "      <td>37.0</td>\n",
       "      <td>ultra</td>\n",
       "      <td>3154.0</td>\n",
       "      <td>Москва</td>\n",
       "    </tr>\n",
       "    <tr>\n",
       "      <th>18</th>\n",
       "      <td>1003</td>\n",
       "      <td>9</td>\n",
       "      <td>961.0</td>\n",
       "      <td>134.0</td>\n",
       "      <td>13.0</td>\n",
       "      <td>91.0</td>\n",
       "      <td>ultra</td>\n",
       "      <td>3754.0</td>\n",
       "      <td>Москва</td>\n",
       "    </tr>\n",
       "    <tr>\n",
       "      <th>19</th>\n",
       "      <td>1003</td>\n",
       "      <td>10</td>\n",
       "      <td>855.0</td>\n",
       "      <td>108.0</td>\n",
       "      <td>15.0</td>\n",
       "      <td>83.0</td>\n",
       "      <td>ultra</td>\n",
       "      <td>4054.0</td>\n",
       "      <td>Москва</td>\n",
       "    </tr>\n",
       "    <tr>\n",
       "      <th>...</th>\n",
       "      <td>...</td>\n",
       "      <td>...</td>\n",
       "      <td>...</td>\n",
       "      <td>...</td>\n",
       "      <td>...</td>\n",
       "      <td>...</td>\n",
       "      <td>...</td>\n",
       "      <td>...</td>\n",
       "      <td>...</td>\n",
       "    </tr>\n",
       "    <tr>\n",
       "      <th>3119</th>\n",
       "      <td>1490</td>\n",
       "      <td>9</td>\n",
       "      <td>322.0</td>\n",
       "      <td>44.0</td>\n",
       "      <td>15.0</td>\n",
       "      <td>48.0</td>\n",
       "      <td>smart</td>\n",
       "      <td>3541.0</td>\n",
       "      <td>Москва</td>\n",
       "    </tr>\n",
       "    <tr>\n",
       "      <th>3120</th>\n",
       "      <td>1490</td>\n",
       "      <td>10</td>\n",
       "      <td>312.0</td>\n",
       "      <td>42.0</td>\n",
       "      <td>21.0</td>\n",
       "      <td>45.0</td>\n",
       "      <td>smart</td>\n",
       "      <td>4741.0</td>\n",
       "      <td>Москва</td>\n",
       "    </tr>\n",
       "    <tr>\n",
       "      <th>3121</th>\n",
       "      <td>1490</td>\n",
       "      <td>11</td>\n",
       "      <td>282.0</td>\n",
       "      <td>38.0</td>\n",
       "      <td>19.0</td>\n",
       "      <td>47.0</td>\n",
       "      <td>smart</td>\n",
       "      <td>4341.0</td>\n",
       "      <td>Москва</td>\n",
       "    </tr>\n",
       "    <tr>\n",
       "      <th>3122</th>\n",
       "      <td>1490</td>\n",
       "      <td>12</td>\n",
       "      <td>290.0</td>\n",
       "      <td>42.0</td>\n",
       "      <td>16.0</td>\n",
       "      <td>46.0</td>\n",
       "      <td>smart</td>\n",
       "      <td>3741.0</td>\n",
       "      <td>Москва</td>\n",
       "    </tr>\n",
       "    <tr>\n",
       "      <th>3208</th>\n",
       "      <td>1476</td>\n",
       "      <td>4</td>\n",
       "      <td>0.0</td>\n",
       "      <td>0.0</td>\n",
       "      <td>1.0</td>\n",
       "      <td>0.0</td>\n",
       "      <td>ultra</td>\n",
       "      <td>1954.0</td>\n",
       "      <td>Москва</td>\n",
       "    </tr>\n",
       "  </tbody>\n",
       "</table>\n",
       "<p>611 rows × 9 columns</p>\n",
       "</div>"
      ],
      "text/plain": [
       "      user_id  month  calls_sum  calls_count  gb_summ  messages_sum tariff  \\\n",
       "8        1001     11      430.0         59.0     18.0           0.0  smart   \n",
       "9        1001     12      414.0         63.0     14.0           0.0  smart   \n",
       "17       1003      8      380.0         55.0      9.0          37.0  ultra   \n",
       "18       1003      9      961.0        134.0     13.0          91.0  ultra   \n",
       "19       1003     10      855.0        108.0     15.0          83.0  ultra   \n",
       "...       ...    ...        ...          ...      ...           ...    ...   \n",
       "3119     1490      9      322.0         44.0     15.0          48.0  smart   \n",
       "3120     1490     10      312.0         42.0     21.0          45.0  smart   \n",
       "3121     1490     11      282.0         38.0     19.0          47.0  smart   \n",
       "3122     1490     12      290.0         42.0     16.0          46.0  smart   \n",
       "3208     1476      4        0.0          0.0      1.0           0.0  ultra   \n",
       "\n",
       "      profit_month    city  \n",
       "8           4141.0  Москва  \n",
       "9           3341.0  Москва  \n",
       "17          3154.0  Москва  \n",
       "18          3754.0  Москва  \n",
       "19          4054.0  Москва  \n",
       "...            ...     ...  \n",
       "3119        3541.0  Москва  \n",
       "3120        4741.0  Москва  \n",
       "3121        4341.0  Москва  \n",
       "3122        3741.0  Москва  \n",
       "3208        1954.0  Москва  \n",
       "\n",
       "[611 rows x 9 columns]"
      ]
     },
     "execution_count": 51,
     "metadata": {},
     "output_type": "execute_result"
    }
   ],
   "source": [
    "df_new_moscow=df_new[df_new['city']=='Москва']\n",
    "df_new_moscow"
   ]
  },
  {
   "cell_type": "code",
   "execution_count": 52,
   "metadata": {},
   "outputs": [
    {
     "data": {
      "text/html": [
       "<div>\n",
       "<style scoped>\n",
       "    .dataframe tbody tr th:only-of-type {\n",
       "        vertical-align: middle;\n",
       "    }\n",
       "\n",
       "    .dataframe tbody tr th {\n",
       "        vertical-align: top;\n",
       "    }\n",
       "\n",
       "    .dataframe thead th {\n",
       "        text-align: right;\n",
       "    }\n",
       "</style>\n",
       "<table border=\"1\" class=\"dataframe\">\n",
       "  <thead>\n",
       "    <tr style=\"text-align: right;\">\n",
       "      <th></th>\n",
       "      <th>user_id</th>\n",
       "      <th>month</th>\n",
       "      <th>calls_sum</th>\n",
       "      <th>calls_count</th>\n",
       "      <th>gb_summ</th>\n",
       "      <th>messages_sum</th>\n",
       "      <th>tariff</th>\n",
       "      <th>profit_month</th>\n",
       "      <th>city</th>\n",
       "    </tr>\n",
       "  </thead>\n",
       "  <tbody>\n",
       "    <tr>\n",
       "      <th>0</th>\n",
       "      <td>1000</td>\n",
       "      <td>5</td>\n",
       "      <td>159.0</td>\n",
       "      <td>22.0</td>\n",
       "      <td>3.0</td>\n",
       "      <td>22.0</td>\n",
       "      <td>ultra</td>\n",
       "      <td>2254.0</td>\n",
       "      <td>Краснодар</td>\n",
       "    </tr>\n",
       "    <tr>\n",
       "      <th>1</th>\n",
       "      <td>1000</td>\n",
       "      <td>6</td>\n",
       "      <td>172.0</td>\n",
       "      <td>43.0</td>\n",
       "      <td>23.0</td>\n",
       "      <td>60.0</td>\n",
       "      <td>ultra</td>\n",
       "      <td>5254.0</td>\n",
       "      <td>Краснодар</td>\n",
       "    </tr>\n",
       "    <tr>\n",
       "      <th>2</th>\n",
       "      <td>1000</td>\n",
       "      <td>7</td>\n",
       "      <td>340.0</td>\n",
       "      <td>47.0</td>\n",
       "      <td>14.0</td>\n",
       "      <td>75.0</td>\n",
       "      <td>ultra</td>\n",
       "      <td>3904.0</td>\n",
       "      <td>Краснодар</td>\n",
       "    </tr>\n",
       "    <tr>\n",
       "      <th>3</th>\n",
       "      <td>1000</td>\n",
       "      <td>8</td>\n",
       "      <td>408.0</td>\n",
       "      <td>52.0</td>\n",
       "      <td>14.0</td>\n",
       "      <td>81.0</td>\n",
       "      <td>ultra</td>\n",
       "      <td>3904.0</td>\n",
       "      <td>Краснодар</td>\n",
       "    </tr>\n",
       "    <tr>\n",
       "      <th>4</th>\n",
       "      <td>1000</td>\n",
       "      <td>9</td>\n",
       "      <td>466.0</td>\n",
       "      <td>58.0</td>\n",
       "      <td>15.0</td>\n",
       "      <td>57.0</td>\n",
       "      <td>ultra</td>\n",
       "      <td>4054.0</td>\n",
       "      <td>Краснодар</td>\n",
       "    </tr>\n",
       "    <tr>\n",
       "      <th>...</th>\n",
       "      <td>...</td>\n",
       "      <td>...</td>\n",
       "      <td>...</td>\n",
       "      <td>...</td>\n",
       "      <td>...</td>\n",
       "      <td>...</td>\n",
       "      <td>...</td>\n",
       "      <td>...</td>\n",
       "      <td>...</td>\n",
       "    </tr>\n",
       "    <tr>\n",
       "      <th>3209</th>\n",
       "      <td>1489</td>\n",
       "      <td>8</td>\n",
       "      <td>0.0</td>\n",
       "      <td>0.0</td>\n",
       "      <td>11.0</td>\n",
       "      <td>17.0</td>\n",
       "      <td>smart</td>\n",
       "      <td>2741.0</td>\n",
       "      <td>Санкт-Петербург</td>\n",
       "    </tr>\n",
       "    <tr>\n",
       "      <th>3210</th>\n",
       "      <td>1489</td>\n",
       "      <td>9</td>\n",
       "      <td>0.0</td>\n",
       "      <td>0.0</td>\n",
       "      <td>17.0</td>\n",
       "      <td>32.0</td>\n",
       "      <td>smart</td>\n",
       "      <td>3941.0</td>\n",
       "      <td>Санкт-Петербург</td>\n",
       "    </tr>\n",
       "    <tr>\n",
       "      <th>3211</th>\n",
       "      <td>1489</td>\n",
       "      <td>10</td>\n",
       "      <td>0.0</td>\n",
       "      <td>0.0</td>\n",
       "      <td>20.0</td>\n",
       "      <td>21.0</td>\n",
       "      <td>smart</td>\n",
       "      <td>4541.0</td>\n",
       "      <td>Санкт-Петербург</td>\n",
       "    </tr>\n",
       "    <tr>\n",
       "      <th>3212</th>\n",
       "      <td>1489</td>\n",
       "      <td>11</td>\n",
       "      <td>0.0</td>\n",
       "      <td>0.0</td>\n",
       "      <td>18.0</td>\n",
       "      <td>20.0</td>\n",
       "      <td>smart</td>\n",
       "      <td>4141.0</td>\n",
       "      <td>Санкт-Петербург</td>\n",
       "    </tr>\n",
       "    <tr>\n",
       "      <th>3213</th>\n",
       "      <td>1489</td>\n",
       "      <td>12</td>\n",
       "      <td>0.0</td>\n",
       "      <td>0.0</td>\n",
       "      <td>17.0</td>\n",
       "      <td>35.0</td>\n",
       "      <td>smart</td>\n",
       "      <td>3941.0</td>\n",
       "      <td>Санкт-Петербург</td>\n",
       "    </tr>\n",
       "  </tbody>\n",
       "</table>\n",
       "<p>2603 rows × 9 columns</p>\n",
       "</div>"
      ],
      "text/plain": [
       "      user_id  month  calls_sum  calls_count  gb_summ  messages_sum tariff  \\\n",
       "0        1000      5      159.0         22.0      3.0          22.0  ultra   \n",
       "1        1000      6      172.0         43.0     23.0          60.0  ultra   \n",
       "2        1000      7      340.0         47.0     14.0          75.0  ultra   \n",
       "3        1000      8      408.0         52.0     14.0          81.0  ultra   \n",
       "4        1000      9      466.0         58.0     15.0          57.0  ultra   \n",
       "...       ...    ...        ...          ...      ...           ...    ...   \n",
       "3209     1489      8        0.0          0.0     11.0          17.0  smart   \n",
       "3210     1489      9        0.0          0.0     17.0          32.0  smart   \n",
       "3211     1489     10        0.0          0.0     20.0          21.0  smart   \n",
       "3212     1489     11        0.0          0.0     18.0          20.0  smart   \n",
       "3213     1489     12        0.0          0.0     17.0          35.0  smart   \n",
       "\n",
       "      profit_month             city  \n",
       "0           2254.0        Краснодар  \n",
       "1           5254.0        Краснодар  \n",
       "2           3904.0        Краснодар  \n",
       "3           3904.0        Краснодар  \n",
       "4           4054.0        Краснодар  \n",
       "...            ...              ...  \n",
       "3209        2741.0  Санкт-Петербург  \n",
       "3210        3941.0  Санкт-Петербург  \n",
       "3211        4541.0  Санкт-Петербург  \n",
       "3212        4141.0  Санкт-Петербург  \n",
       "3213        3941.0  Санкт-Петербург  \n",
       "\n",
       "[2603 rows x 9 columns]"
      ]
     },
     "execution_count": 52,
     "metadata": {},
     "output_type": "execute_result"
    }
   ],
   "source": [
    "df_new_rest=df_new[df_new['city']!='Москва']\n",
    "df_new_rest"
   ]
  },
  {
   "cell_type": "markdown",
   "metadata": {},
   "source": [
    "Н0 Cредняя выручка пользователей из Москвы равна средней выручки пользователей из других регионов\n",
    "Н1 не равны\n",
    "\n",
    "Используем  специальный метод для проверки гипотезы о равенстве среднего двух генеральных совокупностей по взятым из них выборкам: scipy.stats.ttest_ind () и возьмем equal_var = False, потому что полученные выборки разного размера"
   ]
  },
  {
   "cell_type": "code",
   "execution_count": 53,
   "metadata": {},
   "outputs": [
    {
     "name": "stdout",
     "output_type": "stream",
     "text": [
      "p-значение:  0.017620058337004203\n",
      "Отвергаем нулевую гипотезу\n"
     ]
    }
   ],
   "source": [
    "alpha = .05 # критический уровень статистической значимости\n",
    "# если p-value окажется меньше него - отвегнем гипотезу\n",
    "\n",
    "results = st.ttest_ind(\n",
    "    df_new_moscow['profit_month'], \n",
    "    df_new_rest['profit_month'], equal_var = False)\n",
    "\n",
    "print('p-значение: ', results.pvalue)\n",
    "\n",
    "if results.pvalue < alpha:\n",
    "    print(\"Отвергаем нулевую гипотезу\")\n",
    "else:\n",
    "    print(\"Не получилось отвергнуть нулевую гипотезу\") "
   ]
  },
  {
   "cell_type": "markdown",
   "metadata": {},
   "source": [
    "Следовательно средняя выручка пользователей из Москвы отличается от выручки пользователей из других регионов."
   ]
  },
  {
   "cell_type": "markdown",
   "metadata": {},
   "source": [
    "ВЫВОД:\n",
    "    \n",
    "Мы провели исследование об определении перспективного тарифа для телеком-компании, для этого у нас была выборка из 500 кkиентов и их история за 2018 год. Мы проверили данные на пропуски и дубликаты, провели необходимые дополнительные расчеты. В пкзультате проведенных исследований на выборке мы получили следущее:\n",
    "\n",
    "* средний расход по месяцам у клиентов (звонки, смс и интернет) больше по тарифу \"ультра\" больше чем \"смарт\", но и стандартное отклонение также больше у \"ультра\", то есть расброс фактов потребления выше . это говорит о том, что клиенты менее предсказуемы и прогнозировать выручку по таким клиентам сложнее\n",
    "* судя по средней выручке по клиентам в данной выборке можно сделать вывод, что клиенты с тарифом \"смарт\" в среднем выходят за пределы включенного пакета услуг. А вот клиенты с тарифом \"ультра\" наоборот судя по средним количствам звонков, смс и трафика чаще всего не выходят и даже большую часть не расходуют пакет услуг.\n",
    "* если обратим внимание на Межквартильный размах в данной выборке по выручке, то увидим, что клиенты с тарифом \"ультра\" приносят компании от 3600 до 5800, а смарт от 3100 до 4700.\n",
    "\n",
    "Подведем итоги,  с точки зрения прибыли для компании выгоднее тариф ультра. Но с точки зрения привлечения клиентов, я бы предложила создать тариф более ориентированный на клиента, тк тариф ультра показал, что клиенты плятят больше, но по минутам сильно не расходуют пакет. А у клиентов тарифа смарт чаще всего идет перерасход пакета судя по выручке, что тоже может также негативно влиять на отношение клиентов к данному тарифу.\n",
    "\n",
    "Далее мы выдвинули две гипотезы:\n",
    "1. Средняя выручка пользователей тарифов «Ультра» и «Смарт» различаются - мы можем утверждать, что с большой долей вероятности  средние двух генеральных совокупностей между собой различаются\n",
    "2. Cредняя выручка пользователей из Москвы отличается от выручки пользователей из других регионов - мы можем также утверждать, что с большой долей вероятности  средние двух генеральных совокупностей между собой различаются "
   ]
  }
 ],
 "metadata": {
  "ExecuteTimeLog": [
   {
    "duration": 740,
    "start_time": "2022-03-19T11:10:04.060Z"
   },
   {
    "duration": 36,
    "start_time": "2022-03-19T11:10:35.712Z"
   },
   {
    "duration": 17,
    "start_time": "2022-03-19T11:13:20.043Z"
   },
   {
    "duration": 12,
    "start_time": "2022-03-19T11:18:09.616Z"
   },
   {
    "duration": 6,
    "start_time": "2022-03-19T11:18:41.336Z"
   },
   {
    "duration": 108,
    "start_time": "2022-03-19T11:19:02.064Z"
   },
   {
    "duration": 12,
    "start_time": "2022-03-19T11:19:50.344Z"
   },
   {
    "duration": 6,
    "start_time": "2022-03-19T11:26:18.737Z"
   },
   {
    "duration": 2009,
    "start_time": "2022-03-19T11:35:35.722Z"
   },
   {
    "duration": 12,
    "start_time": "2022-03-19T11:35:42.418Z"
   },
   {
    "duration": 18,
    "start_time": "2022-03-19T11:51:39.087Z"
   },
   {
    "duration": 19,
    "start_time": "2022-03-19T11:52:00.844Z"
   },
   {
    "duration": 22,
    "start_time": "2022-03-19T11:55:41.588Z"
   },
   {
    "duration": 6,
    "start_time": "2022-03-19T11:56:06.884Z"
   },
   {
    "duration": 20,
    "start_time": "2022-03-19T11:56:41.005Z"
   },
   {
    "duration": 571,
    "start_time": "2022-03-19T11:57:04.739Z"
   },
   {
    "duration": 17,
    "start_time": "2022-03-19T11:57:05.313Z"
   },
   {
    "duration": 9,
    "start_time": "2022-03-19T11:57:05.332Z"
   },
   {
    "duration": 39,
    "start_time": "2022-03-19T11:57:05.344Z"
   },
   {
    "duration": 24,
    "start_time": "2022-03-19T11:57:05.385Z"
   },
   {
    "duration": 10,
    "start_time": "2022-03-19T11:57:05.412Z"
   },
   {
    "duration": 5,
    "start_time": "2022-03-19T11:57:31.313Z"
   },
   {
    "duration": 579,
    "start_time": "2022-03-19T12:07:08.852Z"
   },
   {
    "duration": 18,
    "start_time": "2022-03-19T12:07:09.434Z"
   },
   {
    "duration": 23,
    "start_time": "2022-03-19T12:07:09.454Z"
   },
   {
    "duration": 22,
    "start_time": "2022-03-19T12:07:09.481Z"
   },
   {
    "duration": 7,
    "start_time": "2022-03-19T12:07:09.506Z"
   },
   {
    "duration": 2347,
    "start_time": "2022-03-19T12:07:09.515Z"
   },
   {
    "duration": 0,
    "start_time": "2022-03-19T12:07:11.864Z"
   },
   {
    "duration": 9,
    "start_time": "2022-03-19T12:12:12.104Z"
   },
   {
    "duration": 208,
    "start_time": "2022-03-19T12:14:59.784Z"
   },
   {
    "duration": 582,
    "start_time": "2022-03-19T12:16:27.406Z"
   },
   {
    "duration": 0,
    "start_time": "2022-03-19T12:16:27.991Z"
   },
   {
    "duration": 0,
    "start_time": "2022-03-19T12:16:27.993Z"
   },
   {
    "duration": 0,
    "start_time": "2022-03-19T12:16:27.995Z"
   },
   {
    "duration": 0,
    "start_time": "2022-03-19T12:16:27.997Z"
   },
   {
    "duration": 0,
    "start_time": "2022-03-19T12:16:27.998Z"
   },
   {
    "duration": 0,
    "start_time": "2022-03-19T12:16:27.999Z"
   },
   {
    "duration": 519,
    "start_time": "2022-03-19T12:16:48.396Z"
   },
   {
    "duration": 17,
    "start_time": "2022-03-19T12:16:48.917Z"
   },
   {
    "duration": 10,
    "start_time": "2022-03-19T12:16:48.936Z"
   },
   {
    "duration": 111,
    "start_time": "2022-03-19T12:16:48.949Z"
   },
   {
    "duration": 0,
    "start_time": "2022-03-19T12:16:49.063Z"
   },
   {
    "duration": 0,
    "start_time": "2022-03-19T12:16:49.074Z"
   },
   {
    "duration": 0,
    "start_time": "2022-03-19T12:16:49.075Z"
   },
   {
    "duration": 18,
    "start_time": "2022-03-19T12:17:08.398Z"
   },
   {
    "duration": 10,
    "start_time": "2022-03-19T12:17:15.661Z"
   },
   {
    "duration": 203,
    "start_time": "2022-03-19T12:17:18.374Z"
   },
   {
    "duration": 34,
    "start_time": "2022-03-19T12:17:51.438Z"
   },
   {
    "duration": 149,
    "start_time": "2022-03-19T12:19:46.910Z"
   },
   {
    "duration": 59,
    "start_time": "2022-03-19T12:21:09.689Z"
   },
   {
    "duration": 89,
    "start_time": "2022-03-19T12:21:50.336Z"
   },
   {
    "duration": 38,
    "start_time": "2022-03-19T12:22:23.351Z"
   },
   {
    "duration": 46,
    "start_time": "2022-03-19T12:22:44.871Z"
   },
   {
    "duration": 7,
    "start_time": "2022-03-19T12:30:52.872Z"
   },
   {
    "duration": 224,
    "start_time": "2022-03-19T12:42:54.763Z"
   },
   {
    "duration": 115,
    "start_time": "2022-03-19T12:44:20.562Z"
   },
   {
    "duration": 125,
    "start_time": "2022-03-19T12:49:37.949Z"
   },
   {
    "duration": 25,
    "start_time": "2022-03-19T12:57:33.246Z"
   },
   {
    "duration": 69,
    "start_time": "2022-03-19T13:04:28.322Z"
   },
   {
    "duration": 21,
    "start_time": "2022-03-19T13:05:40.134Z"
   },
   {
    "duration": 177,
    "start_time": "2022-03-19T13:06:21.060Z"
   },
   {
    "duration": 29,
    "start_time": "2022-03-19T13:07:39.864Z"
   },
   {
    "duration": 109,
    "start_time": "2022-03-19T13:09:54.292Z"
   },
   {
    "duration": 56,
    "start_time": "2022-03-19T13:59:51.588Z"
   },
   {
    "duration": 30,
    "start_time": "2022-03-19T15:05:13.927Z"
   },
   {
    "duration": 22,
    "start_time": "2022-03-19T15:06:01.906Z"
   },
   {
    "duration": 37,
    "start_time": "2022-03-19T15:06:16.368Z"
   },
   {
    "duration": 555,
    "start_time": "2022-03-19T15:12:17.377Z"
   },
   {
    "duration": 17,
    "start_time": "2022-03-19T15:12:17.934Z"
   },
   {
    "duration": 12,
    "start_time": "2022-03-19T15:12:17.955Z"
   },
   {
    "duration": 16,
    "start_time": "2022-03-19T15:12:17.970Z"
   },
   {
    "duration": 27,
    "start_time": "2022-03-19T15:12:17.988Z"
   },
   {
    "duration": 3,
    "start_time": "2022-03-19T15:12:18.017Z"
   },
   {
    "duration": 11,
    "start_time": "2022-03-19T15:12:18.023Z"
   },
   {
    "duration": 360,
    "start_time": "2022-03-19T15:12:18.037Z"
   },
   {
    "duration": 57,
    "start_time": "2022-03-19T15:12:18.400Z"
   },
   {
    "duration": 206,
    "start_time": "2022-03-19T15:12:18.477Z"
   },
   {
    "duration": 123,
    "start_time": "2022-03-19T15:12:18.686Z"
   },
   {
    "duration": 66,
    "start_time": "2022-03-19T15:12:18.812Z"
   },
   {
    "duration": 125,
    "start_time": "2022-03-19T15:12:18.880Z"
   },
   {
    "duration": 28,
    "start_time": "2022-03-19T15:12:19.008Z"
   },
   {
    "duration": 105,
    "start_time": "2022-03-19T15:12:19.039Z"
   },
   {
    "duration": 94,
    "start_time": "2022-03-19T15:12:19.147Z"
   },
   {
    "duration": 269,
    "start_time": "2022-03-19T15:12:19.243Z"
   },
   {
    "duration": 40,
    "start_time": "2022-03-19T15:12:19.515Z"
   },
   {
    "duration": 118,
    "start_time": "2022-03-19T15:12:19.574Z"
   },
   {
    "duration": 29,
    "start_time": "2022-03-19T15:12:19.694Z"
   },
   {
    "duration": 4,
    "start_time": "2022-03-19T15:26:32.462Z"
   },
   {
    "duration": 15,
    "start_time": "2022-03-19T15:26:47.993Z"
   },
   {
    "duration": 15,
    "start_time": "2022-03-19T15:27:00.992Z"
   },
   {
    "duration": 41,
    "start_time": "2022-03-19T15:28:12.549Z"
   },
   {
    "duration": 37,
    "start_time": "2022-03-19T15:31:54.739Z"
   },
   {
    "duration": 27,
    "start_time": "2022-03-19T15:33:20.832Z"
   },
   {
    "duration": 26,
    "start_time": "2022-03-19T15:33:56.191Z"
   },
   {
    "duration": 69,
    "start_time": "2022-03-20T15:30:46.849Z"
   },
   {
    "duration": 556,
    "start_time": "2022-03-20T15:30:53.545Z"
   },
   {
    "duration": 16,
    "start_time": "2022-03-20T15:30:54.103Z"
   },
   {
    "duration": 11,
    "start_time": "2022-03-20T15:30:54.121Z"
   },
   {
    "duration": 6,
    "start_time": "2022-03-20T15:30:54.134Z"
   },
   {
    "duration": 44,
    "start_time": "2022-03-20T15:30:54.143Z"
   },
   {
    "duration": 5,
    "start_time": "2022-03-20T15:30:54.189Z"
   },
   {
    "duration": 11,
    "start_time": "2022-03-20T15:30:54.196Z"
   },
   {
    "duration": 219,
    "start_time": "2022-03-20T15:30:54.209Z"
   },
   {
    "duration": 46,
    "start_time": "2022-03-20T15:30:54.430Z"
   },
   {
    "duration": 149,
    "start_time": "2022-03-20T15:30:54.478Z"
   },
   {
    "duration": 78,
    "start_time": "2022-03-20T15:30:54.630Z"
   },
   {
    "duration": 41,
    "start_time": "2022-03-20T15:30:54.710Z"
   },
   {
    "duration": 143,
    "start_time": "2022-03-20T15:30:54.753Z"
   },
   {
    "duration": 27,
    "start_time": "2022-03-20T15:30:54.900Z"
   },
   {
    "duration": 90,
    "start_time": "2022-03-20T15:30:54.929Z"
   },
   {
    "duration": 69,
    "start_time": "2022-03-20T15:30:55.021Z"
   },
   {
    "duration": 182,
    "start_time": "2022-03-20T15:30:55.093Z"
   },
   {
    "duration": 28,
    "start_time": "2022-03-20T15:30:55.277Z"
   },
   {
    "duration": 127,
    "start_time": "2022-03-20T15:30:55.307Z"
   },
   {
    "duration": 111,
    "start_time": "2022-03-20T15:30:55.436Z"
   },
   {
    "duration": 0,
    "start_time": "2022-03-20T15:30:55.550Z"
   },
   {
    "duration": 0,
    "start_time": "2022-03-20T15:30:55.551Z"
   },
   {
    "duration": 0,
    "start_time": "2022-03-20T15:30:55.552Z"
   },
   {
    "duration": 12,
    "start_time": "2022-03-20T15:32:16.660Z"
   },
   {
    "duration": 25,
    "start_time": "2022-03-20T15:33:14.912Z"
   },
   {
    "duration": 11,
    "start_time": "2022-03-20T15:33:20.721Z"
   },
   {
    "duration": 29,
    "start_time": "2022-03-20T15:33:25.512Z"
   },
   {
    "duration": 14,
    "start_time": "2022-03-20T15:33:30.593Z"
   },
   {
    "duration": 763,
    "start_time": "2022-03-20T15:33:41.355Z"
   },
   {
    "duration": 13,
    "start_time": "2022-03-20T15:33:53.400Z"
   },
   {
    "duration": 7,
    "start_time": "2022-03-20T15:34:19.874Z"
   },
   {
    "duration": 1835,
    "start_time": "2022-03-20T15:35:41.611Z"
   },
   {
    "duration": 17,
    "start_time": "2022-03-20T15:35:57.009Z"
   },
   {
    "duration": 14,
    "start_time": "2022-03-20T15:36:14.549Z"
   },
   {
    "duration": 12,
    "start_time": "2022-03-20T15:36:24.029Z"
   },
   {
    "duration": 11,
    "start_time": "2022-03-20T15:36:36.451Z"
   },
   {
    "duration": 13,
    "start_time": "2022-03-20T15:37:00.736Z"
   },
   {
    "duration": 24,
    "start_time": "2022-03-20T15:37:44.506Z"
   },
   {
    "duration": 26,
    "start_time": "2022-03-20T15:38:31.072Z"
   },
   {
    "duration": 9,
    "start_time": "2022-03-20T15:39:00.241Z"
   },
   {
    "duration": 17,
    "start_time": "2022-03-20T15:39:10.417Z"
   },
   {
    "duration": 4,
    "start_time": "2022-03-20T15:40:05.046Z"
   },
   {
    "duration": 7,
    "start_time": "2022-03-20T15:40:45.451Z"
   },
   {
    "duration": 15,
    "start_time": "2022-03-20T15:45:32.108Z"
   },
   {
    "duration": 64,
    "start_time": "2022-03-20T15:51:42.520Z"
   },
   {
    "duration": 66,
    "start_time": "2022-03-20T15:56:48.411Z"
   },
   {
    "duration": 88,
    "start_time": "2022-03-20T15:57:13.782Z"
   },
   {
    "duration": 636,
    "start_time": "2022-03-20T15:57:20.737Z"
   },
   {
    "duration": 17,
    "start_time": "2022-03-20T15:57:21.376Z"
   },
   {
    "duration": 17,
    "start_time": "2022-03-20T15:57:21.396Z"
   },
   {
    "duration": 8,
    "start_time": "2022-03-20T15:57:21.416Z"
   },
   {
    "duration": 59,
    "start_time": "2022-03-20T15:57:21.428Z"
   },
   {
    "duration": 3,
    "start_time": "2022-03-20T15:57:21.490Z"
   },
   {
    "duration": 12,
    "start_time": "2022-03-20T15:57:21.496Z"
   },
   {
    "duration": 317,
    "start_time": "2022-03-20T15:57:21.510Z"
   },
   {
    "duration": 54,
    "start_time": "2022-03-20T15:57:21.829Z"
   },
   {
    "duration": 169,
    "start_time": "2022-03-20T15:57:21.886Z"
   },
   {
    "duration": 77,
    "start_time": "2022-03-20T15:57:22.057Z"
   },
   {
    "duration": 60,
    "start_time": "2022-03-20T15:57:22.138Z"
   },
   {
    "duration": 129,
    "start_time": "2022-03-20T15:57:22.200Z"
   },
   {
    "duration": 41,
    "start_time": "2022-03-20T15:57:22.336Z"
   },
   {
    "duration": 95,
    "start_time": "2022-03-20T15:57:22.380Z"
   },
   {
    "duration": 73,
    "start_time": "2022-03-20T15:57:22.478Z"
   },
   {
    "duration": 194,
    "start_time": "2022-03-20T15:57:22.553Z"
   },
   {
    "duration": 38,
    "start_time": "2022-03-20T15:57:22.749Z"
   },
   {
    "duration": 129,
    "start_time": "2022-03-20T15:57:22.789Z"
   },
   {
    "duration": 72,
    "start_time": "2022-03-20T15:57:22.921Z"
   },
   {
    "duration": 26,
    "start_time": "2022-03-20T15:57:22.996Z"
   },
   {
    "duration": 11,
    "start_time": "2022-03-20T15:57:23.025Z"
   },
   {
    "duration": 63,
    "start_time": "2022-03-20T15:57:23.039Z"
   },
   {
    "duration": 11,
    "start_time": "2022-03-20T15:57:23.105Z"
   },
   {
    "duration": 126,
    "start_time": "2022-03-20T15:57:23.119Z"
   },
   {
    "duration": 25,
    "start_time": "2022-03-20T15:58:29.161Z"
   },
   {
    "duration": 11,
    "start_time": "2022-03-20T16:00:02.536Z"
   },
   {
    "duration": 12,
    "start_time": "2022-03-20T16:19:40.877Z"
   },
   {
    "duration": 10,
    "start_time": "2022-03-20T16:20:15.146Z"
   },
   {
    "duration": 14,
    "start_time": "2022-03-20T16:21:25.911Z"
   },
   {
    "duration": 586,
    "start_time": "2022-03-20T16:23:25.727Z"
   },
   {
    "duration": 17,
    "start_time": "2022-03-20T16:23:26.316Z"
   },
   {
    "duration": 10,
    "start_time": "2022-03-20T16:23:26.334Z"
   },
   {
    "duration": 27,
    "start_time": "2022-03-20T16:23:26.346Z"
   },
   {
    "duration": 20,
    "start_time": "2022-03-20T16:23:26.377Z"
   },
   {
    "duration": 6,
    "start_time": "2022-03-20T16:23:26.400Z"
   },
   {
    "duration": 11,
    "start_time": "2022-03-20T16:23:26.408Z"
   },
   {
    "duration": 339,
    "start_time": "2022-03-20T16:23:26.422Z"
   },
   {
    "duration": 34,
    "start_time": "2022-03-20T16:23:26.764Z"
   },
   {
    "duration": 177,
    "start_time": "2022-03-20T16:23:26.802Z"
   },
   {
    "duration": 105,
    "start_time": "2022-03-20T16:23:26.981Z"
   },
   {
    "duration": 42,
    "start_time": "2022-03-20T16:23:27.090Z"
   },
   {
    "duration": 14,
    "start_time": "2022-03-20T16:23:27.137Z"
   },
   {
    "duration": 137,
    "start_time": "2022-03-20T16:23:27.174Z"
   },
   {
    "duration": 26,
    "start_time": "2022-03-20T16:23:27.313Z"
   },
   {
    "duration": 92,
    "start_time": "2022-03-20T16:23:27.342Z"
   },
   {
    "duration": 94,
    "start_time": "2022-03-20T16:23:27.438Z"
   },
   {
    "duration": 193,
    "start_time": "2022-03-20T16:23:27.535Z"
   },
   {
    "duration": 49,
    "start_time": "2022-03-20T16:23:27.730Z"
   },
   {
    "duration": 126,
    "start_time": "2022-03-20T16:23:27.782Z"
   },
   {
    "duration": 84,
    "start_time": "2022-03-20T16:23:27.911Z"
   },
   {
    "duration": 28,
    "start_time": "2022-03-20T16:23:27.998Z"
   },
   {
    "duration": 10,
    "start_time": "2022-03-20T16:23:28.029Z"
   },
   {
    "duration": 59,
    "start_time": "2022-03-20T16:23:28.042Z"
   },
   {
    "duration": 15,
    "start_time": "2022-03-20T16:23:28.104Z"
   },
   {
    "duration": 69,
    "start_time": "2022-03-20T16:23:28.121Z"
   },
   {
    "duration": 12,
    "start_time": "2022-03-20T16:23:28.193Z"
   },
   {
    "duration": 1881,
    "start_time": "2022-03-20T16:27:58.286Z"
   },
   {
    "duration": 1924,
    "start_time": "2022-03-20T16:28:22.483Z"
   },
   {
    "duration": 20,
    "start_time": "2022-03-20T16:28:59.374Z"
   },
   {
    "duration": 1621,
    "start_time": "2022-03-20T16:29:30.297Z"
   },
   {
    "duration": 1750,
    "start_time": "2022-03-20T16:29:42.765Z"
   },
   {
    "duration": 12,
    "start_time": "2022-03-20T16:54:38.603Z"
   },
   {
    "duration": 1811,
    "start_time": "2022-03-20T16:55:03.377Z"
   },
   {
    "duration": 12,
    "start_time": "2022-03-20T16:55:13.726Z"
   },
   {
    "duration": 1646,
    "start_time": "2022-03-20T16:57:38.715Z"
   },
   {
    "duration": 1620,
    "start_time": "2022-03-20T17:18:31.619Z"
   },
   {
    "duration": 1691,
    "start_time": "2022-03-20T19:55:08.555Z"
   },
   {
    "duration": 1652,
    "start_time": "2022-03-20T19:56:29.173Z"
   },
   {
    "duration": 548,
    "start_time": "2022-03-20T19:57:04.975Z"
   },
   {
    "duration": 17,
    "start_time": "2022-03-20T19:57:05.526Z"
   },
   {
    "duration": 26,
    "start_time": "2022-03-20T19:57:05.545Z"
   },
   {
    "duration": 12,
    "start_time": "2022-03-20T19:57:05.574Z"
   },
   {
    "duration": 27,
    "start_time": "2022-03-20T19:57:05.588Z"
   },
   {
    "duration": 3,
    "start_time": "2022-03-20T19:57:05.618Z"
   },
   {
    "duration": 16,
    "start_time": "2022-03-20T19:57:05.623Z"
   },
   {
    "duration": 214,
    "start_time": "2022-03-20T19:57:05.641Z"
   },
   {
    "duration": 38,
    "start_time": "2022-03-20T19:57:05.858Z"
   },
   {
    "duration": 160,
    "start_time": "2022-03-20T19:57:05.900Z"
   },
   {
    "duration": 76,
    "start_time": "2022-03-20T19:57:06.065Z"
   },
   {
    "duration": 57,
    "start_time": "2022-03-20T19:57:06.143Z"
   },
   {
    "duration": 14,
    "start_time": "2022-03-20T19:57:06.202Z"
   },
   {
    "duration": 136,
    "start_time": "2022-03-20T19:57:06.218Z"
   },
   {
    "duration": 33,
    "start_time": "2022-03-20T19:57:06.356Z"
   },
   {
    "duration": 62,
    "start_time": "2022-03-20T19:57:06.391Z"
   },
   {
    "duration": 56,
    "start_time": "2022-03-20T19:57:06.474Z"
   },
   {
    "duration": 190,
    "start_time": "2022-03-20T19:57:06.533Z"
   },
   {
    "duration": 29,
    "start_time": "2022-03-20T19:57:06.726Z"
   },
   {
    "duration": 127,
    "start_time": "2022-03-20T19:57:06.757Z"
   },
   {
    "duration": 66,
    "start_time": "2022-03-20T19:57:06.886Z"
   },
   {
    "duration": 30,
    "start_time": "2022-03-20T19:57:06.975Z"
   },
   {
    "duration": 12,
    "start_time": "2022-03-20T19:57:07.007Z"
   },
   {
    "duration": 65,
    "start_time": "2022-03-20T19:57:07.022Z"
   },
   {
    "duration": 11,
    "start_time": "2022-03-20T19:57:07.090Z"
   },
   {
    "duration": 33,
    "start_time": "2022-03-20T19:57:07.103Z"
   },
   {
    "duration": 44,
    "start_time": "2022-03-20T19:57:07.138Z"
   },
   {
    "duration": 114,
    "start_time": "2022-03-20T19:57:07.187Z"
   },
   {
    "duration": 0,
    "start_time": "2022-03-20T19:57:07.303Z"
   },
   {
    "duration": 19,
    "start_time": "2022-03-20T19:58:49.669Z"
   },
   {
    "duration": 561,
    "start_time": "2022-03-20T19:59:40.144Z"
   },
   {
    "duration": 16,
    "start_time": "2022-03-20T19:59:40.708Z"
   },
   {
    "duration": 8,
    "start_time": "2022-03-20T19:59:40.727Z"
   },
   {
    "duration": 6,
    "start_time": "2022-03-20T19:59:40.738Z"
   },
   {
    "duration": 43,
    "start_time": "2022-03-20T19:59:40.746Z"
   },
   {
    "duration": 5,
    "start_time": "2022-03-20T19:59:40.791Z"
   },
   {
    "duration": 11,
    "start_time": "2022-03-20T19:59:40.798Z"
   },
   {
    "duration": 228,
    "start_time": "2022-03-20T19:59:40.811Z"
   },
   {
    "duration": 46,
    "start_time": "2022-03-20T19:59:41.041Z"
   },
   {
    "duration": 157,
    "start_time": "2022-03-20T19:59:41.090Z"
   },
   {
    "duration": 75,
    "start_time": "2022-03-20T19:59:41.249Z"
   },
   {
    "duration": 57,
    "start_time": "2022-03-20T19:59:41.326Z"
   },
   {
    "duration": 13,
    "start_time": "2022-03-20T19:59:41.385Z"
   },
   {
    "duration": 134,
    "start_time": "2022-03-20T19:59:41.400Z"
   },
   {
    "duration": 38,
    "start_time": "2022-03-20T19:59:41.536Z"
   },
   {
    "duration": 65,
    "start_time": "2022-03-20T19:59:41.577Z"
   },
   {
    "duration": 71,
    "start_time": "2022-03-20T19:59:41.645Z"
   },
   {
    "duration": 173,
    "start_time": "2022-03-20T19:59:41.718Z"
   },
   {
    "duration": 44,
    "start_time": "2022-03-20T19:59:41.893Z"
   },
   {
    "duration": 155,
    "start_time": "2022-03-20T19:59:41.940Z"
   },
   {
    "duration": 103,
    "start_time": "2022-03-20T19:59:42.098Z"
   },
   {
    "duration": 41,
    "start_time": "2022-03-20T19:59:42.204Z"
   },
   {
    "duration": 33,
    "start_time": "2022-03-20T19:59:42.247Z"
   },
   {
    "duration": 32,
    "start_time": "2022-03-20T19:59:42.284Z"
   },
   {
    "duration": 12,
    "start_time": "2022-03-20T19:59:42.318Z"
   },
   {
    "duration": 59,
    "start_time": "2022-03-20T19:59:42.332Z"
   },
   {
    "duration": 16,
    "start_time": "2022-03-20T19:59:42.392Z"
   },
   {
    "duration": 12,
    "start_time": "2022-03-20T19:59:42.413Z"
   },
   {
    "duration": 48,
    "start_time": "2022-03-20T19:59:42.427Z"
   },
   {
    "duration": 1902,
    "start_time": "2022-03-20T20:01:47.892Z"
   },
   {
    "duration": 526,
    "start_time": "2022-03-20T20:01:55.102Z"
   },
   {
    "duration": 18,
    "start_time": "2022-03-20T20:01:55.630Z"
   },
   {
    "duration": 9,
    "start_time": "2022-03-20T20:01:55.650Z"
   },
   {
    "duration": 6,
    "start_time": "2022-03-20T20:01:55.673Z"
   },
   {
    "duration": 23,
    "start_time": "2022-03-20T20:01:55.681Z"
   },
   {
    "duration": 5,
    "start_time": "2022-03-20T20:01:55.707Z"
   },
   {
    "duration": 11,
    "start_time": "2022-03-20T20:01:55.714Z"
   },
   {
    "duration": 238,
    "start_time": "2022-03-20T20:01:55.727Z"
   },
   {
    "duration": 39,
    "start_time": "2022-03-20T20:01:55.967Z"
   },
   {
    "duration": 164,
    "start_time": "2022-03-20T20:01:56.010Z"
   },
   {
    "duration": 69,
    "start_time": "2022-03-20T20:01:56.177Z"
   },
   {
    "duration": 57,
    "start_time": "2022-03-20T20:01:56.248Z"
   },
   {
    "duration": 15,
    "start_time": "2022-03-20T20:01:56.307Z"
   },
   {
    "duration": 153,
    "start_time": "2022-03-20T20:01:56.324Z"
   },
   {
    "duration": 25,
    "start_time": "2022-03-20T20:01:56.479Z"
   },
   {
    "duration": 88,
    "start_time": "2022-03-20T20:01:56.506Z"
   },
   {
    "duration": 56,
    "start_time": "2022-03-20T20:01:56.596Z"
   },
   {
    "duration": 175,
    "start_time": "2022-03-20T20:01:56.674Z"
   },
   {
    "duration": 38,
    "start_time": "2022-03-20T20:01:56.852Z"
   },
   {
    "duration": 129,
    "start_time": "2022-03-20T20:01:56.893Z"
   },
   {
    "duration": 74,
    "start_time": "2022-03-20T20:01:57.025Z"
   },
   {
    "duration": 29,
    "start_time": "2022-03-20T20:01:57.101Z"
   },
   {
    "duration": 10,
    "start_time": "2022-03-20T20:01:57.132Z"
   },
   {
    "duration": 63,
    "start_time": "2022-03-20T20:01:57.144Z"
   },
   {
    "duration": 11,
    "start_time": "2022-03-20T20:01:57.210Z"
   },
   {
    "duration": 56,
    "start_time": "2022-03-20T20:01:57.223Z"
   },
   {
    "duration": 17,
    "start_time": "2022-03-20T20:01:57.281Z"
   },
   {
    "duration": 18,
    "start_time": "2022-03-20T20:01:57.302Z"
   },
   {
    "duration": 14,
    "start_time": "2022-03-20T20:01:57.322Z"
   },
   {
    "duration": 12,
    "start_time": "2022-03-20T20:02:56.569Z"
   },
   {
    "duration": 12,
    "start_time": "2022-03-20T20:03:09.313Z"
   },
   {
    "duration": 537,
    "start_time": "2022-03-20T20:03:19.806Z"
   },
   {
    "duration": 18,
    "start_time": "2022-03-20T20:03:20.346Z"
   },
   {
    "duration": 6,
    "start_time": "2022-03-20T20:03:20.373Z"
   },
   {
    "duration": 7,
    "start_time": "2022-03-20T20:03:20.381Z"
   },
   {
    "duration": 17,
    "start_time": "2022-03-20T20:03:20.391Z"
   },
   {
    "duration": 15,
    "start_time": "2022-03-20T20:03:20.410Z"
   },
   {
    "duration": 12,
    "start_time": "2022-03-20T20:03:20.427Z"
   },
   {
    "duration": 326,
    "start_time": "2022-03-20T20:03:20.441Z"
   },
   {
    "duration": 53,
    "start_time": "2022-03-20T20:03:20.774Z"
   },
   {
    "duration": 163,
    "start_time": "2022-03-20T20:03:20.829Z"
   },
   {
    "duration": 80,
    "start_time": "2022-03-20T20:03:20.994Z"
   },
   {
    "duration": 42,
    "start_time": "2022-03-20T20:03:21.076Z"
   },
   {
    "duration": 15,
    "start_time": "2022-03-20T20:03:21.121Z"
   },
   {
    "duration": 148,
    "start_time": "2022-03-20T20:03:21.140Z"
   },
   {
    "duration": 26,
    "start_time": "2022-03-20T20:03:21.290Z"
   },
   {
    "duration": 87,
    "start_time": "2022-03-20T20:03:21.318Z"
   },
   {
    "duration": 68,
    "start_time": "2022-03-20T20:03:21.407Z"
   },
   {
    "duration": 178,
    "start_time": "2022-03-20T20:03:21.477Z"
   },
   {
    "duration": 37,
    "start_time": "2022-03-20T20:03:21.657Z"
   },
   {
    "duration": 120,
    "start_time": "2022-03-20T20:03:21.697Z"
   },
   {
    "duration": 80,
    "start_time": "2022-03-20T20:03:21.819Z"
   },
   {
    "duration": 26,
    "start_time": "2022-03-20T20:03:21.901Z"
   },
   {
    "duration": 11,
    "start_time": "2022-03-20T20:03:21.930Z"
   },
   {
    "duration": 62,
    "start_time": "2022-03-20T20:03:21.944Z"
   },
   {
    "duration": 11,
    "start_time": "2022-03-20T20:03:22.008Z"
   },
   {
    "duration": 55,
    "start_time": "2022-03-20T20:03:22.021Z"
   },
   {
    "duration": 15,
    "start_time": "2022-03-20T20:03:22.078Z"
   },
   {
    "duration": 18,
    "start_time": "2022-03-20T20:03:22.095Z"
   },
   {
    "duration": 12,
    "start_time": "2022-03-20T20:03:22.115Z"
   },
   {
    "duration": 626,
    "start_time": "2022-03-20T20:04:05.590Z"
   },
   {
    "duration": 18,
    "start_time": "2022-03-20T20:04:06.221Z"
   },
   {
    "duration": 9,
    "start_time": "2022-03-20T20:04:06.241Z"
   },
   {
    "duration": 23,
    "start_time": "2022-03-20T20:04:06.252Z"
   },
   {
    "duration": 18,
    "start_time": "2022-03-20T20:04:06.278Z"
   },
   {
    "duration": 9,
    "start_time": "2022-03-20T20:04:06.299Z"
   },
   {
    "duration": 9,
    "start_time": "2022-03-20T20:04:06.311Z"
   },
   {
    "duration": 233,
    "start_time": "2022-03-20T20:04:06.322Z"
   },
   {
    "duration": 38,
    "start_time": "2022-03-20T20:04:06.557Z"
   },
   {
    "duration": 158,
    "start_time": "2022-03-20T20:04:06.597Z"
   },
   {
    "duration": 72,
    "start_time": "2022-03-20T20:04:06.757Z"
   },
   {
    "duration": 60,
    "start_time": "2022-03-20T20:04:06.831Z"
   },
   {
    "duration": 13,
    "start_time": "2022-03-20T20:04:06.893Z"
   },
   {
    "duration": 132,
    "start_time": "2022-03-20T20:04:06.911Z"
   },
   {
    "duration": 33,
    "start_time": "2022-03-20T20:04:07.046Z"
   },
   {
    "duration": 64,
    "start_time": "2022-03-20T20:04:07.081Z"
   },
   {
    "duration": 80,
    "start_time": "2022-03-20T20:04:07.147Z"
   },
   {
    "duration": 186,
    "start_time": "2022-03-20T20:04:07.229Z"
   },
   {
    "duration": 30,
    "start_time": "2022-03-20T20:04:07.417Z"
   },
   {
    "duration": 127,
    "start_time": "2022-03-20T20:04:07.449Z"
   },
   {
    "duration": 66,
    "start_time": "2022-03-20T20:04:07.579Z"
   },
   {
    "duration": 46,
    "start_time": "2022-03-20T20:04:07.647Z"
   },
   {
    "duration": 11,
    "start_time": "2022-03-20T20:04:07.695Z"
   },
   {
    "duration": 34,
    "start_time": "2022-03-20T20:04:07.708Z"
   },
   {
    "duration": 37,
    "start_time": "2022-03-20T20:04:07.744Z"
   },
   {
    "duration": 34,
    "start_time": "2022-03-20T20:04:07.783Z"
   },
   {
    "duration": 15,
    "start_time": "2022-03-20T20:04:07.819Z"
   },
   {
    "duration": 46,
    "start_time": "2022-03-20T20:04:07.836Z"
   },
   {
    "duration": 12,
    "start_time": "2022-03-20T20:04:07.884Z"
   },
   {
    "duration": 566,
    "start_time": "2022-03-20T20:30:36.744Z"
   },
   {
    "duration": 18,
    "start_time": "2022-03-20T20:30:37.313Z"
   },
   {
    "duration": 12,
    "start_time": "2022-03-20T20:30:37.334Z"
   },
   {
    "duration": 25,
    "start_time": "2022-03-20T20:30:37.350Z"
   },
   {
    "duration": 19,
    "start_time": "2022-03-20T20:30:37.377Z"
   },
   {
    "duration": 21,
    "start_time": "2022-03-20T20:30:37.399Z"
   },
   {
    "duration": 17,
    "start_time": "2022-03-20T20:30:37.423Z"
   },
   {
    "duration": 224,
    "start_time": "2022-03-20T20:30:37.442Z"
   },
   {
    "duration": 34,
    "start_time": "2022-03-20T20:30:37.669Z"
   },
   {
    "duration": 165,
    "start_time": "2022-03-20T20:30:37.707Z"
   },
   {
    "duration": 65,
    "start_time": "2022-03-20T20:30:37.875Z"
   },
   {
    "duration": 59,
    "start_time": "2022-03-20T20:30:37.942Z"
   },
   {
    "duration": 15,
    "start_time": "2022-03-20T20:30:38.003Z"
   },
   {
    "duration": 135,
    "start_time": "2022-03-20T20:30:38.020Z"
   },
   {
    "duration": 31,
    "start_time": "2022-03-20T20:30:38.158Z"
   },
   {
    "duration": 88,
    "start_time": "2022-03-20T20:30:38.192Z"
   },
   {
    "duration": 56,
    "start_time": "2022-03-20T20:30:38.282Z"
   },
   {
    "duration": 192,
    "start_time": "2022-03-20T20:30:38.341Z"
   },
   {
    "duration": 41,
    "start_time": "2022-03-20T20:30:38.535Z"
   },
   {
    "duration": 118,
    "start_time": "2022-03-20T20:30:38.579Z"
   },
   {
    "duration": 76,
    "start_time": "2022-03-20T20:30:38.700Z"
   },
   {
    "duration": 29,
    "start_time": "2022-03-20T20:30:38.779Z"
   },
   {
    "duration": 10,
    "start_time": "2022-03-20T20:30:38.811Z"
   },
   {
    "duration": 73,
    "start_time": "2022-03-20T20:30:38.823Z"
   },
   {
    "duration": 16,
    "start_time": "2022-03-20T20:30:38.898Z"
   },
   {
    "duration": 29,
    "start_time": "2022-03-20T20:30:38.916Z"
   },
   {
    "duration": 39,
    "start_time": "2022-03-20T20:30:38.947Z"
   },
   {
    "duration": 16,
    "start_time": "2022-03-20T20:30:38.991Z"
   },
   {
    "duration": 12,
    "start_time": "2022-03-20T20:30:39.009Z"
   },
   {
    "duration": 522,
    "start_time": "2022-03-20T20:33:05.100Z"
   },
   {
    "duration": 17,
    "start_time": "2022-03-20T20:33:05.624Z"
   },
   {
    "duration": 18,
    "start_time": "2022-03-20T20:33:05.643Z"
   },
   {
    "duration": 10,
    "start_time": "2022-03-20T20:33:05.664Z"
   },
   {
    "duration": 37,
    "start_time": "2022-03-20T20:33:05.676Z"
   },
   {
    "duration": 8,
    "start_time": "2022-03-20T20:33:05.715Z"
   },
   {
    "duration": 18,
    "start_time": "2022-03-20T20:33:05.725Z"
   },
   {
    "duration": 209,
    "start_time": "2022-03-20T20:33:05.745Z"
   },
   {
    "duration": 43,
    "start_time": "2022-03-20T20:33:05.956Z"
   },
   {
    "duration": 155,
    "start_time": "2022-03-20T20:33:06.003Z"
   },
   {
    "duration": 74,
    "start_time": "2022-03-20T20:33:06.160Z"
   },
   {
    "duration": 61,
    "start_time": "2022-03-20T20:33:06.237Z"
   },
   {
    "duration": 15,
    "start_time": "2022-03-20T20:33:06.300Z"
   },
   {
    "duration": 132,
    "start_time": "2022-03-20T20:33:06.318Z"
   },
   {
    "duration": 33,
    "start_time": "2022-03-20T20:33:06.453Z"
   },
   {
    "duration": 68,
    "start_time": "2022-03-20T20:33:06.488Z"
   },
   {
    "duration": 57,
    "start_time": "2022-03-20T20:33:06.574Z"
   },
   {
    "duration": 191,
    "start_time": "2022-03-20T20:33:06.634Z"
   },
   {
    "duration": 29,
    "start_time": "2022-03-20T20:33:06.827Z"
   },
   {
    "duration": 128,
    "start_time": "2022-03-20T20:33:06.874Z"
   },
   {
    "duration": 78,
    "start_time": "2022-03-20T20:33:07.004Z"
   },
   {
    "duration": 30,
    "start_time": "2022-03-20T20:33:07.084Z"
   },
   {
    "duration": 10,
    "start_time": "2022-03-20T20:33:07.116Z"
   },
   {
    "duration": 148,
    "start_time": "2022-03-20T20:33:07.128Z"
   },
   {
    "duration": 0,
    "start_time": "2022-03-20T20:33:07.279Z"
   },
   {
    "duration": 0,
    "start_time": "2022-03-20T20:33:07.281Z"
   },
   {
    "duration": 0,
    "start_time": "2022-03-20T20:33:07.282Z"
   },
   {
    "duration": 0,
    "start_time": "2022-03-20T20:33:07.284Z"
   },
   {
    "duration": 0,
    "start_time": "2022-03-20T20:33:07.286Z"
   },
   {
    "duration": 35,
    "start_time": "2022-03-20T20:33:21.961Z"
   },
   {
    "duration": 47,
    "start_time": "2022-03-20T20:51:46.887Z"
   },
   {
    "duration": 12,
    "start_time": "2022-03-20T20:54:29.838Z"
   },
   {
    "duration": 69,
    "start_time": "2022-03-20T20:56:06.723Z"
   },
   {
    "duration": 16,
    "start_time": "2022-03-20T20:56:24.490Z"
   },
   {
    "duration": 23,
    "start_time": "2022-03-20T20:56:56.446Z"
   },
   {
    "duration": 19,
    "start_time": "2022-03-20T20:58:12.540Z"
   },
   {
    "duration": 10,
    "start_time": "2022-03-20T20:58:47.446Z"
   },
   {
    "duration": 22,
    "start_time": "2022-03-20T21:00:40.021Z"
   },
   {
    "duration": 519,
    "start_time": "2022-03-20T21:01:17.692Z"
   },
   {
    "duration": 17,
    "start_time": "2022-03-20T21:01:18.214Z"
   },
   {
    "duration": 7,
    "start_time": "2022-03-20T21:01:18.233Z"
   },
   {
    "duration": 7,
    "start_time": "2022-03-20T21:01:18.243Z"
   },
   {
    "duration": 38,
    "start_time": "2022-03-20T21:01:18.252Z"
   },
   {
    "duration": 7,
    "start_time": "2022-03-20T21:01:18.293Z"
   },
   {
    "duration": 10,
    "start_time": "2022-03-20T21:01:18.302Z"
   },
   {
    "duration": 223,
    "start_time": "2022-03-20T21:01:18.314Z"
   },
   {
    "duration": 42,
    "start_time": "2022-03-20T21:01:18.540Z"
   },
   {
    "duration": 160,
    "start_time": "2022-03-20T21:01:18.586Z"
   },
   {
    "duration": 74,
    "start_time": "2022-03-20T21:01:18.748Z"
   },
   {
    "duration": 56,
    "start_time": "2022-03-20T21:01:18.825Z"
   },
   {
    "duration": 13,
    "start_time": "2022-03-20T21:01:18.883Z"
   },
   {
    "duration": 134,
    "start_time": "2022-03-20T21:01:18.899Z"
   },
   {
    "duration": 25,
    "start_time": "2022-03-20T21:01:19.035Z"
   },
   {
    "duration": 62,
    "start_time": "2022-03-20T21:01:19.073Z"
   },
   {
    "duration": 75,
    "start_time": "2022-03-20T21:01:19.138Z"
   },
   {
    "duration": 173,
    "start_time": "2022-03-20T21:01:19.215Z"
   },
   {
    "duration": 32,
    "start_time": "2022-03-20T21:01:19.390Z"
   },
   {
    "duration": 141,
    "start_time": "2022-03-20T21:01:19.424Z"
   },
   {
    "duration": 70,
    "start_time": "2022-03-20T21:01:19.568Z"
   },
   {
    "duration": 50,
    "start_time": "2022-03-20T21:01:19.640Z"
   },
   {
    "duration": 10,
    "start_time": "2022-03-20T21:01:19.693Z"
   },
   {
    "duration": 45,
    "start_time": "2022-03-20T21:01:19.706Z"
   },
   {
    "duration": 29,
    "start_time": "2022-03-20T21:01:19.753Z"
   },
   {
    "duration": 39,
    "start_time": "2022-03-20T21:01:19.785Z"
   },
   {
    "duration": 27,
    "start_time": "2022-03-20T21:01:19.827Z"
   },
   {
    "duration": 17,
    "start_time": "2022-03-20T21:01:19.876Z"
   },
   {
    "duration": 15,
    "start_time": "2022-03-20T21:01:19.895Z"
   },
   {
    "duration": 32,
    "start_time": "2022-03-20T21:13:37.896Z"
   },
   {
    "duration": 27,
    "start_time": "2022-03-20T21:14:40.474Z"
   },
   {
    "duration": 11,
    "start_time": "2022-03-20T21:16:14.987Z"
   },
   {
    "duration": 550,
    "start_time": "2022-03-20T21:16:31.268Z"
   },
   {
    "duration": 17,
    "start_time": "2022-03-20T21:16:31.820Z"
   },
   {
    "duration": 12,
    "start_time": "2022-03-20T21:16:31.839Z"
   },
   {
    "duration": 21,
    "start_time": "2022-03-20T21:16:31.854Z"
   },
   {
    "duration": 19,
    "start_time": "2022-03-20T21:16:31.878Z"
   },
   {
    "duration": 6,
    "start_time": "2022-03-20T21:16:31.899Z"
   },
   {
    "duration": 17,
    "start_time": "2022-03-20T21:16:31.907Z"
   },
   {
    "duration": 230,
    "start_time": "2022-03-20T21:16:31.926Z"
   },
   {
    "duration": 42,
    "start_time": "2022-03-20T21:16:32.158Z"
   },
   {
    "duration": 161,
    "start_time": "2022-03-20T21:16:32.204Z"
   },
   {
    "duration": 74,
    "start_time": "2022-03-20T21:16:32.368Z"
   },
   {
    "duration": 65,
    "start_time": "2022-03-20T21:16:32.444Z"
   },
   {
    "duration": 14,
    "start_time": "2022-03-20T21:16:32.511Z"
   },
   {
    "duration": 132,
    "start_time": "2022-03-20T21:16:32.527Z"
   },
   {
    "duration": 33,
    "start_time": "2022-03-20T21:16:32.662Z"
   },
   {
    "duration": 85,
    "start_time": "2022-03-20T21:16:32.697Z"
   },
   {
    "duration": 55,
    "start_time": "2022-03-20T21:16:32.785Z"
   },
   {
    "duration": 191,
    "start_time": "2022-03-20T21:16:32.842Z"
   },
   {
    "duration": 42,
    "start_time": "2022-03-20T21:16:33.035Z"
   },
   {
    "duration": 123,
    "start_time": "2022-03-20T21:16:33.080Z"
   },
   {
    "duration": 78,
    "start_time": "2022-03-20T21:16:33.205Z"
   },
   {
    "duration": 25,
    "start_time": "2022-03-20T21:16:33.285Z"
   },
   {
    "duration": 9,
    "start_time": "2022-03-20T21:16:33.313Z"
   },
   {
    "duration": 70,
    "start_time": "2022-03-20T21:16:33.324Z"
   },
   {
    "duration": 10,
    "start_time": "2022-03-20T21:16:33.397Z"
   },
   {
    "duration": 30,
    "start_time": "2022-03-20T21:16:33.409Z"
   },
   {
    "duration": 37,
    "start_time": "2022-03-20T21:16:33.441Z"
   },
   {
    "duration": 17,
    "start_time": "2022-03-20T21:16:33.482Z"
   },
   {
    "duration": 31,
    "start_time": "2022-03-20T21:16:33.501Z"
   },
   {
    "duration": 34,
    "start_time": "2022-03-20T21:17:34.157Z"
   },
   {
    "duration": 11,
    "start_time": "2022-03-20T21:19:18.782Z"
   },
   {
    "duration": 16,
    "start_time": "2022-03-20T21:20:15.225Z"
   },
   {
    "duration": 53,
    "start_time": "2022-03-20T21:27:34.780Z"
   },
   {
    "duration": 33,
    "start_time": "2022-03-20T21:28:00.160Z"
   },
   {
    "duration": 1646,
    "start_time": "2022-03-20T21:29:10.517Z"
   },
   {
    "duration": 1507,
    "start_time": "2022-03-20T21:29:33.275Z"
   },
   {
    "duration": 15,
    "start_time": "2022-03-20T21:29:41.013Z"
   },
   {
    "duration": 27,
    "start_time": "2022-03-20T21:30:17.149Z"
   },
   {
    "duration": 12,
    "start_time": "2022-03-20T21:30:36.742Z"
   },
   {
    "duration": 27,
    "start_time": "2022-03-20T21:30:51.700Z"
   },
   {
    "duration": 20,
    "start_time": "2022-03-20T21:35:21.546Z"
   },
   {
    "duration": 20,
    "start_time": "2022-03-20T21:38:30.852Z"
   },
   {
    "duration": 26,
    "start_time": "2022-03-20T21:51:12.992Z"
   },
   {
    "duration": 524,
    "start_time": "2022-03-20T21:51:45.120Z"
   },
   {
    "duration": 17,
    "start_time": "2022-03-20T21:51:45.646Z"
   },
   {
    "duration": 12,
    "start_time": "2022-03-20T21:51:45.665Z"
   },
   {
    "duration": 7,
    "start_time": "2022-03-20T21:51:45.680Z"
   },
   {
    "duration": 19,
    "start_time": "2022-03-20T21:51:45.689Z"
   },
   {
    "duration": 4,
    "start_time": "2022-03-20T21:51:45.711Z"
   },
   {
    "duration": 10,
    "start_time": "2022-03-20T21:51:45.718Z"
   },
   {
    "duration": 259,
    "start_time": "2022-03-20T21:51:45.730Z"
   },
   {
    "duration": 34,
    "start_time": "2022-03-20T21:51:45.991Z"
   },
   {
    "duration": 166,
    "start_time": "2022-03-20T21:51:46.029Z"
   },
   {
    "duration": 79,
    "start_time": "2022-03-20T21:51:46.197Z"
   },
   {
    "duration": 40,
    "start_time": "2022-03-20T21:51:46.278Z"
   },
   {
    "duration": 14,
    "start_time": "2022-03-20T21:51:46.320Z"
   },
   {
    "duration": 148,
    "start_time": "2022-03-20T21:51:46.336Z"
   },
   {
    "duration": 25,
    "start_time": "2022-03-20T21:51:46.487Z"
   },
   {
    "duration": 82,
    "start_time": "2022-03-20T21:51:46.514Z"
   },
   {
    "duration": 54,
    "start_time": "2022-03-20T21:51:46.598Z"
   },
   {
    "duration": 183,
    "start_time": "2022-03-20T21:51:46.654Z"
   },
   {
    "duration": 38,
    "start_time": "2022-03-20T21:51:46.839Z"
   },
   {
    "duration": 121,
    "start_time": "2022-03-20T21:51:46.879Z"
   },
   {
    "duration": 77,
    "start_time": "2022-03-20T21:51:47.003Z"
   },
   {
    "duration": 27,
    "start_time": "2022-03-20T21:51:47.082Z"
   },
   {
    "duration": 10,
    "start_time": "2022-03-20T21:51:47.111Z"
   },
   {
    "duration": 74,
    "start_time": "2022-03-20T21:51:47.123Z"
   },
   {
    "duration": 11,
    "start_time": "2022-03-20T21:51:47.199Z"
   },
   {
    "duration": 33,
    "start_time": "2022-03-20T21:51:47.213Z"
   },
   {
    "duration": 33,
    "start_time": "2022-03-20T21:51:47.249Z"
   },
   {
    "duration": 11,
    "start_time": "2022-03-20T21:51:47.287Z"
   },
   {
    "duration": 31,
    "start_time": "2022-03-20T21:51:47.300Z"
   },
   {
    "duration": 42,
    "start_time": "2022-03-20T21:51:47.333Z"
   },
   {
    "duration": 32,
    "start_time": "2022-03-20T21:51:47.377Z"
   },
   {
    "duration": 22,
    "start_time": "2022-03-20T21:51:47.411Z"
   },
   {
    "duration": 44,
    "start_time": "2022-03-20T21:51:47.435Z"
   },
   {
    "duration": 3,
    "start_time": "2022-03-20T21:51:47.481Z"
   },
   {
    "duration": 115,
    "start_time": "2022-03-20T22:04:25.785Z"
   },
   {
    "duration": 1838,
    "start_time": "2022-03-20T22:07:17.689Z"
   },
   {
    "duration": 7,
    "start_time": "2022-03-20T22:15:58.407Z"
   },
   {
    "duration": 5,
    "start_time": "2022-03-20T22:22:03.390Z"
   },
   {
    "duration": 23,
    "start_time": "2022-03-20T22:23:21.990Z"
   },
   {
    "duration": 1360,
    "start_time": "2022-03-20T22:24:20.711Z"
   },
   {
    "duration": 1353,
    "start_time": "2022-03-20T22:25:32.956Z"
   },
   {
    "duration": 1578,
    "start_time": "2022-03-20T22:34:04.417Z"
   },
   {
    "duration": 1384,
    "start_time": "2022-03-20T22:39:43.623Z"
   },
   {
    "duration": 1169,
    "start_time": "2022-03-20T22:40:19.672Z"
   },
   {
    "duration": 1190,
    "start_time": "2022-03-20T22:40:45.558Z"
   },
   {
    "duration": 6,
    "start_time": "2022-03-20T22:41:01.590Z"
   },
   {
    "duration": 5,
    "start_time": "2022-03-20T22:41:45.284Z"
   },
   {
    "duration": 1200,
    "start_time": "2022-03-20T22:41:50.335Z"
   },
   {
    "duration": 1250,
    "start_time": "2022-03-20T22:43:12.995Z"
   },
   {
    "duration": 1142,
    "start_time": "2022-03-20T22:43:55.735Z"
   },
   {
    "duration": 87,
    "start_time": "2022-03-20T22:46:34.265Z"
   },
   {
    "duration": 1497,
    "start_time": "2022-03-20T22:46:41.814Z"
   },
   {
    "duration": 48,
    "start_time": "2022-03-20T22:52:40.962Z"
   },
   {
    "duration": 69,
    "start_time": "2022-03-20T22:53:05.032Z"
   },
   {
    "duration": 68,
    "start_time": "2022-03-20T22:53:54.666Z"
   },
   {
    "duration": 21,
    "start_time": "2022-03-20T22:57:13.082Z"
   },
   {
    "duration": 22,
    "start_time": "2022-03-20T22:57:56.555Z"
   },
   {
    "duration": 71,
    "start_time": "2022-03-20T22:58:03.345Z"
   },
   {
    "duration": 22,
    "start_time": "2022-03-20T22:59:18.745Z"
   },
   {
    "duration": 24,
    "start_time": "2022-03-20T23:00:44.316Z"
   },
   {
    "duration": 70,
    "start_time": "2022-03-20T23:00:58.951Z"
   },
   {
    "duration": 69,
    "start_time": "2022-03-20T23:01:09.474Z"
   },
   {
    "duration": 21,
    "start_time": "2022-03-20T23:02:28.601Z"
   },
   {
    "duration": 21,
    "start_time": "2022-03-20T23:02:56.650Z"
   },
   {
    "duration": 68,
    "start_time": "2022-03-20T23:03:03.875Z"
   },
   {
    "duration": 22,
    "start_time": "2022-03-20T23:04:11.474Z"
   },
   {
    "duration": 549,
    "start_time": "2022-03-20T23:04:30.824Z"
   },
   {
    "duration": 17,
    "start_time": "2022-03-20T23:04:31.376Z"
   },
   {
    "duration": 26,
    "start_time": "2022-03-20T23:04:31.395Z"
   },
   {
    "duration": 13,
    "start_time": "2022-03-20T23:04:31.423Z"
   },
   {
    "duration": 27,
    "start_time": "2022-03-20T23:04:31.439Z"
   },
   {
    "duration": 10,
    "start_time": "2022-03-20T23:04:31.468Z"
   },
   {
    "duration": 17,
    "start_time": "2022-03-20T23:04:31.480Z"
   },
   {
    "duration": 215,
    "start_time": "2022-03-20T23:04:31.499Z"
   },
   {
    "duration": 34,
    "start_time": "2022-03-20T23:04:31.716Z"
   },
   {
    "duration": 168,
    "start_time": "2022-03-20T23:04:31.752Z"
   },
   {
    "duration": 81,
    "start_time": "2022-03-20T23:04:31.922Z"
   },
   {
    "duration": 41,
    "start_time": "2022-03-20T23:04:32.005Z"
   },
   {
    "duration": 34,
    "start_time": "2022-03-20T23:04:32.049Z"
   },
   {
    "duration": 130,
    "start_time": "2022-03-20T23:04:32.087Z"
   },
   {
    "duration": 25,
    "start_time": "2022-03-20T23:04:32.219Z"
   },
   {
    "duration": 82,
    "start_time": "2022-03-20T23:04:32.246Z"
   },
   {
    "duration": 73,
    "start_time": "2022-03-20T23:04:32.331Z"
   },
   {
    "duration": 180,
    "start_time": "2022-03-20T23:04:32.406Z"
   },
   {
    "duration": 31,
    "start_time": "2022-03-20T23:04:32.588Z"
   },
   {
    "duration": 143,
    "start_time": "2022-03-20T23:04:32.622Z"
   },
   {
    "duration": 68,
    "start_time": "2022-03-20T23:04:32.767Z"
   },
   {
    "duration": 45,
    "start_time": "2022-03-20T23:04:32.837Z"
   },
   {
    "duration": 10,
    "start_time": "2022-03-20T23:04:32.884Z"
   },
   {
    "duration": 45,
    "start_time": "2022-03-20T23:04:32.896Z"
   },
   {
    "duration": 36,
    "start_time": "2022-03-20T23:04:32.943Z"
   },
   {
    "duration": 29,
    "start_time": "2022-03-20T23:04:32.982Z"
   },
   {
    "duration": 17,
    "start_time": "2022-03-20T23:04:33.013Z"
   },
   {
    "duration": 43,
    "start_time": "2022-03-20T23:04:33.032Z"
   },
   {
    "duration": 28,
    "start_time": "2022-03-20T23:04:33.077Z"
   },
   {
    "duration": 11,
    "start_time": "2022-03-20T23:04:33.107Z"
   },
   {
    "duration": 62,
    "start_time": "2022-03-20T23:04:33.119Z"
   },
   {
    "duration": 21,
    "start_time": "2022-03-20T23:04:33.183Z"
   },
   {
    "duration": 18,
    "start_time": "2022-03-20T23:04:33.206Z"
   },
   {
    "duration": 129,
    "start_time": "2022-03-20T23:04:33.226Z"
   },
   {
    "duration": 0,
    "start_time": "2022-03-20T23:04:33.358Z"
   },
   {
    "duration": 71,
    "start_time": "2022-03-20T23:04:47.038Z"
   },
   {
    "duration": 611,
    "start_time": "2022-03-21T13:29:52.600Z"
   },
   {
    "duration": 17,
    "start_time": "2022-03-21T13:29:53.214Z"
   },
   {
    "duration": 8,
    "start_time": "2022-03-21T13:29:53.233Z"
   },
   {
    "duration": 10,
    "start_time": "2022-03-21T13:29:53.244Z"
   },
   {
    "duration": 40,
    "start_time": "2022-03-21T13:29:53.257Z"
   },
   {
    "duration": 14,
    "start_time": "2022-03-21T13:29:53.299Z"
   },
   {
    "duration": 14,
    "start_time": "2022-03-21T13:29:53.315Z"
   },
   {
    "duration": 222,
    "start_time": "2022-03-21T13:29:53.332Z"
   },
   {
    "duration": 41,
    "start_time": "2022-03-21T13:29:53.557Z"
   },
   {
    "duration": 164,
    "start_time": "2022-03-21T13:29:53.602Z"
   },
   {
    "duration": 76,
    "start_time": "2022-03-21T13:29:53.768Z"
   },
   {
    "duration": 60,
    "start_time": "2022-03-21T13:29:53.846Z"
   },
   {
    "duration": 14,
    "start_time": "2022-03-21T13:29:53.908Z"
   },
   {
    "duration": 139,
    "start_time": "2022-03-21T13:29:53.924Z"
   },
   {
    "duration": 26,
    "start_time": "2022-03-21T13:29:54.068Z"
   },
   {
    "duration": 87,
    "start_time": "2022-03-21T13:29:54.097Z"
   },
   {
    "duration": 56,
    "start_time": "2022-03-21T13:29:54.187Z"
   },
   {
    "duration": 230,
    "start_time": "2022-03-21T13:29:54.246Z"
   },
   {
    "duration": 35,
    "start_time": "2022-03-21T13:29:54.479Z"
   },
   {
    "duration": 138,
    "start_time": "2022-03-21T13:29:54.517Z"
   },
   {
    "duration": 74,
    "start_time": "2022-03-21T13:29:54.657Z"
   },
   {
    "duration": 28,
    "start_time": "2022-03-21T13:29:54.733Z"
   },
   {
    "duration": 28,
    "start_time": "2022-03-21T13:29:54.763Z"
   },
   {
    "duration": 45,
    "start_time": "2022-03-21T13:29:54.794Z"
   },
   {
    "duration": 12,
    "start_time": "2022-03-21T13:29:54.842Z"
   },
   {
    "duration": 35,
    "start_time": "2022-03-21T13:29:54.883Z"
   },
   {
    "duration": 25,
    "start_time": "2022-03-21T13:29:54.920Z"
   },
   {
    "duration": 40,
    "start_time": "2022-03-21T13:29:54.950Z"
   },
   {
    "duration": 36,
    "start_time": "2022-03-21T13:29:54.992Z"
   },
   {
    "duration": 11,
    "start_time": "2022-03-21T13:29:55.030Z"
   },
   {
    "duration": 58,
    "start_time": "2022-03-21T13:29:55.043Z"
   },
   {
    "duration": 23,
    "start_time": "2022-03-21T13:29:55.103Z"
   },
   {
    "duration": 56,
    "start_time": "2022-03-21T13:29:55.128Z"
   },
   {
    "duration": 78,
    "start_time": "2022-03-21T13:29:55.186Z"
   },
   {
    "duration": 18,
    "start_time": "2022-03-21T13:29:55.266Z"
   },
   {
    "duration": 114,
    "start_time": "2022-03-21T13:34:53.429Z"
   },
   {
    "duration": 1477,
    "start_time": "2022-03-21T13:35:06.924Z"
   },
   {
    "duration": 19,
    "start_time": "2022-03-21T13:35:18.389Z"
   },
   {
    "duration": 707,
    "start_time": "2022-03-21T13:36:04.507Z"
   },
   {
    "duration": 25,
    "start_time": "2022-03-21T13:36:05.218Z"
   },
   {
    "duration": 18,
    "start_time": "2022-03-21T13:36:05.245Z"
   },
   {
    "duration": 7,
    "start_time": "2022-03-21T13:36:05.285Z"
   },
   {
    "duration": 31,
    "start_time": "2022-03-21T13:36:05.295Z"
   },
   {
    "duration": 12,
    "start_time": "2022-03-21T13:36:05.329Z"
   },
   {
    "duration": 23,
    "start_time": "2022-03-21T13:36:05.344Z"
   },
   {
    "duration": 253,
    "start_time": "2022-03-21T13:36:05.369Z"
   },
   {
    "duration": 37,
    "start_time": "2022-03-21T13:36:05.625Z"
   },
   {
    "duration": 189,
    "start_time": "2022-03-21T13:36:05.683Z"
   },
   {
    "duration": 84,
    "start_time": "2022-03-21T13:36:05.874Z"
   },
   {
    "duration": 58,
    "start_time": "2022-03-21T13:36:05.961Z"
   },
   {
    "duration": 16,
    "start_time": "2022-03-21T13:36:06.021Z"
   },
   {
    "duration": 162,
    "start_time": "2022-03-21T13:36:06.039Z"
   },
   {
    "duration": 29,
    "start_time": "2022-03-21T13:36:06.204Z"
   },
   {
    "duration": 98,
    "start_time": "2022-03-21T13:36:06.236Z"
   },
   {
    "duration": 70,
    "start_time": "2022-03-21T13:36:06.336Z"
   },
   {
    "duration": 191,
    "start_time": "2022-03-21T13:36:06.408Z"
   },
   {
    "duration": 29,
    "start_time": "2022-03-21T13:36:06.601Z"
   },
   {
    "duration": 140,
    "start_time": "2022-03-21T13:36:06.633Z"
   },
   {
    "duration": 73,
    "start_time": "2022-03-21T13:36:06.775Z"
   },
   {
    "duration": 45,
    "start_time": "2022-03-21T13:36:06.850Z"
   },
   {
    "duration": 11,
    "start_time": "2022-03-21T13:36:06.898Z"
   },
   {
    "duration": 45,
    "start_time": "2022-03-21T13:36:06.911Z"
   },
   {
    "duration": 34,
    "start_time": "2022-03-21T13:36:06.958Z"
   },
   {
    "duration": 31,
    "start_time": "2022-03-21T13:36:06.994Z"
   },
   {
    "duration": 17,
    "start_time": "2022-03-21T13:36:07.027Z"
   },
   {
    "duration": 42,
    "start_time": "2022-03-21T13:36:07.049Z"
   },
   {
    "duration": 38,
    "start_time": "2022-03-21T13:36:07.093Z"
   },
   {
    "duration": 12,
    "start_time": "2022-03-21T13:36:07.133Z"
   },
   {
    "duration": 50,
    "start_time": "2022-03-21T13:36:07.147Z"
   },
   {
    "duration": 22,
    "start_time": "2022-03-21T13:36:07.199Z"
   },
   {
    "duration": 20,
    "start_time": "2022-03-21T13:36:07.223Z"
   },
   {
    "duration": 140,
    "start_time": "2022-03-21T13:36:07.245Z"
   },
   {
    "duration": 24,
    "start_time": "2022-03-21T13:37:45.312Z"
   },
   {
    "duration": 81,
    "start_time": "2022-03-21T13:39:15.231Z"
   },
   {
    "duration": 24,
    "start_time": "2022-03-21T13:39:45.488Z"
   },
   {
    "duration": 76,
    "start_time": "2022-03-21T13:40:13.645Z"
   },
   {
    "duration": 21,
    "start_time": "2022-03-21T13:42:16.995Z"
   },
   {
    "duration": 23,
    "start_time": "2022-03-21T13:42:26.288Z"
   },
   {
    "duration": 75,
    "start_time": "2022-03-21T13:42:38.753Z"
   },
   {
    "duration": 85,
    "start_time": "2022-03-21T13:47:52.678Z"
   },
   {
    "duration": 6,
    "start_time": "2022-03-21T13:53:37.922Z"
   },
   {
    "duration": 126,
    "start_time": "2022-03-21T13:54:07.922Z"
   },
   {
    "duration": 27,
    "start_time": "2022-03-21T14:02:25.320Z"
   },
   {
    "duration": 1771,
    "start_time": "2022-03-21T14:48:24.122Z"
   },
   {
    "duration": 47,
    "start_time": "2022-03-21T14:48:25.896Z"
   },
   {
    "duration": 17,
    "start_time": "2022-03-21T14:48:25.945Z"
   },
   {
    "duration": 26,
    "start_time": "2022-03-21T14:48:25.965Z"
   },
   {
    "duration": 8,
    "start_time": "2022-03-21T14:48:25.993Z"
   },
   {
    "duration": 7,
    "start_time": "2022-03-21T14:48:26.003Z"
   },
   {
    "duration": 20,
    "start_time": "2022-03-21T14:48:26.012Z"
   },
   {
    "duration": 5,
    "start_time": "2022-03-21T14:48:26.035Z"
   },
   {
    "duration": 44,
    "start_time": "2022-03-21T14:48:26.042Z"
   },
   {
    "duration": 225,
    "start_time": "2022-03-21T14:48:26.092Z"
   },
   {
    "duration": 32,
    "start_time": "2022-03-21T14:48:26.320Z"
   },
   {
    "duration": 177,
    "start_time": "2022-03-21T14:48:26.354Z"
   },
   {
    "duration": 79,
    "start_time": "2022-03-21T14:48:26.534Z"
   },
   {
    "duration": 40,
    "start_time": "2022-03-21T14:48:26.615Z"
   },
   {
    "duration": 37,
    "start_time": "2022-03-21T14:48:26.657Z"
   },
   {
    "duration": 118,
    "start_time": "2022-03-21T14:48:26.697Z"
   },
   {
    "duration": 27,
    "start_time": "2022-03-21T14:48:26.817Z"
   },
   {
    "duration": 90,
    "start_time": "2022-03-21T14:48:26.846Z"
   },
   {
    "duration": 68,
    "start_time": "2022-03-21T14:48:26.938Z"
   },
   {
    "duration": 179,
    "start_time": "2022-03-21T14:48:27.008Z"
   },
   {
    "duration": 29,
    "start_time": "2022-03-21T14:48:27.189Z"
   },
   {
    "duration": 138,
    "start_time": "2022-03-21T14:48:27.220Z"
   },
   {
    "duration": 76,
    "start_time": "2022-03-21T14:48:27.360Z"
   },
   {
    "duration": 47,
    "start_time": "2022-03-21T14:48:27.438Z"
   },
   {
    "duration": 11,
    "start_time": "2022-03-21T14:48:27.487Z"
   },
   {
    "duration": 50,
    "start_time": "2022-03-21T14:48:27.500Z"
   },
   {
    "duration": 32,
    "start_time": "2022-03-21T14:48:27.553Z"
   },
   {
    "duration": 33,
    "start_time": "2022-03-21T14:48:27.591Z"
   },
   {
    "duration": 18,
    "start_time": "2022-03-21T14:48:27.626Z"
   },
   {
    "duration": 43,
    "start_time": "2022-03-21T14:48:27.647Z"
   },
   {
    "duration": 34,
    "start_time": "2022-03-21T14:48:27.693Z"
   },
   {
    "duration": 12,
    "start_time": "2022-03-21T14:48:27.730Z"
   },
   {
    "duration": 66,
    "start_time": "2022-03-21T14:48:27.744Z"
   },
   {
    "duration": 23,
    "start_time": "2022-03-21T14:48:27.813Z"
   },
   {
    "duration": 46,
    "start_time": "2022-03-21T14:48:27.838Z"
   },
   {
    "duration": 139,
    "start_time": "2022-03-21T14:48:27.886Z"
   },
   {
    "duration": 9,
    "start_time": "2022-03-21T14:54:15.203Z"
   },
   {
    "duration": 805,
    "start_time": "2022-03-21T14:56:02.095Z"
   },
   {
    "duration": 1030,
    "start_time": "2022-03-21T14:56:23.945Z"
   },
   {
    "duration": 1160,
    "start_time": "2022-03-21T14:58:39.004Z"
   },
   {
    "duration": 1126,
    "start_time": "2022-03-21T14:58:54.968Z"
   },
   {
    "duration": 1206,
    "start_time": "2022-03-21T15:00:31.602Z"
   },
   {
    "duration": 1758,
    "start_time": "2022-03-21T15:01:15.126Z"
   },
   {
    "duration": 1221,
    "start_time": "2022-03-21T15:01:36.824Z"
   },
   {
    "duration": 2168,
    "start_time": "2022-03-21T15:02:17.337Z"
   },
   {
    "duration": 10,
    "start_time": "2022-03-21T15:04:08.904Z"
   },
   {
    "duration": 11,
    "start_time": "2022-03-21T15:12:40.496Z"
   },
   {
    "duration": 12,
    "start_time": "2022-03-21T15:13:14.525Z"
   },
   {
    "duration": 11,
    "start_time": "2022-03-21T15:14:36.504Z"
   },
   {
    "duration": 30,
    "start_time": "2022-03-21T15:25:02.040Z"
   },
   {
    "duration": 25,
    "start_time": "2022-03-21T15:25:16.200Z"
   },
   {
    "duration": 14,
    "start_time": "2022-03-21T15:25:26.780Z"
   },
   {
    "duration": 28,
    "start_time": "2022-03-21T15:25:41.715Z"
   },
   {
    "duration": 16,
    "start_time": "2022-03-21T15:27:40.673Z"
   },
   {
    "duration": 18,
    "start_time": "2022-03-21T15:29:27.863Z"
   },
   {
    "duration": 11,
    "start_time": "2022-03-21T15:29:48.504Z"
   },
   {
    "duration": 12,
    "start_time": "2022-03-21T15:31:24.553Z"
   },
   {
    "duration": 28,
    "start_time": "2022-03-21T15:31:41.297Z"
   },
   {
    "duration": 12,
    "start_time": "2022-03-21T17:17:37.288Z"
   },
   {
    "duration": 53,
    "start_time": "2022-03-21T17:17:56.412Z"
   },
   {
    "duration": 12,
    "start_time": "2022-03-21T17:18:47.302Z"
   },
   {
    "duration": 12,
    "start_time": "2022-03-21T17:19:29.022Z"
   },
   {
    "duration": 11,
    "start_time": "2022-03-21T17:19:52.468Z"
   },
   {
    "duration": 54,
    "start_time": "2022-03-21T17:20:51.659Z"
   },
   {
    "duration": 48,
    "start_time": "2022-03-21T17:30:50.510Z"
   },
   {
    "duration": 25,
    "start_time": "2022-03-21T17:32:13.063Z"
   },
   {
    "duration": 27,
    "start_time": "2022-03-21T17:32:30.552Z"
   },
   {
    "duration": 20,
    "start_time": "2022-03-21T17:32:44.564Z"
   },
   {
    "duration": 24,
    "start_time": "2022-03-21T17:47:21.217Z"
   },
   {
    "duration": 14,
    "start_time": "2022-03-21T17:49:23.962Z"
   },
   {
    "duration": 21,
    "start_time": "2022-03-21T17:49:34.244Z"
   },
   {
    "duration": 21,
    "start_time": "2022-03-21T17:50:33.728Z"
   },
   {
    "duration": 26,
    "start_time": "2022-03-21T17:50:50.708Z"
   },
   {
    "duration": 35,
    "start_time": "2022-03-21T17:51:16.843Z"
   },
   {
    "duration": 13,
    "start_time": "2022-03-21T17:52:14.901Z"
   },
   {
    "duration": 1555,
    "start_time": "2022-03-21T17:52:26.945Z"
   },
   {
    "duration": 32,
    "start_time": "2022-03-21T17:52:41.158Z"
   },
   {
    "duration": 163,
    "start_time": "2022-03-21T18:13:21.233Z"
   },
   {
    "duration": 126,
    "start_time": "2022-03-21T18:13:40.707Z"
   },
   {
    "duration": 105,
    "start_time": "2022-03-21T18:13:54.454Z"
   },
   {
    "duration": 1590,
    "start_time": "2022-03-21T18:14:22.236Z"
   },
   {
    "duration": 41,
    "start_time": "2022-03-21T18:14:23.829Z"
   },
   {
    "duration": 17,
    "start_time": "2022-03-21T18:14:23.873Z"
   },
   {
    "duration": 17,
    "start_time": "2022-03-21T18:14:23.893Z"
   },
   {
    "duration": 9,
    "start_time": "2022-03-21T18:14:23.912Z"
   },
   {
    "duration": 6,
    "start_time": "2022-03-21T18:14:23.924Z"
   },
   {
    "duration": 58,
    "start_time": "2022-03-21T18:14:23.933Z"
   },
   {
    "duration": 4,
    "start_time": "2022-03-21T18:14:23.993Z"
   },
   {
    "duration": 10,
    "start_time": "2022-03-21T18:14:23.999Z"
   },
   {
    "duration": 240,
    "start_time": "2022-03-21T18:14:24.013Z"
   },
   {
    "duration": 42,
    "start_time": "2022-03-21T18:14:24.256Z"
   },
   {
    "duration": 175,
    "start_time": "2022-03-21T18:14:24.300Z"
   },
   {
    "duration": 69,
    "start_time": "2022-03-21T18:14:24.477Z"
   },
   {
    "duration": 64,
    "start_time": "2022-03-21T18:14:24.548Z"
   },
   {
    "duration": 14,
    "start_time": "2022-03-21T18:14:24.614Z"
   },
   {
    "duration": 143,
    "start_time": "2022-03-21T18:14:24.630Z"
   },
   {
    "duration": 30,
    "start_time": "2022-03-21T18:14:24.776Z"
   },
   {
    "duration": 88,
    "start_time": "2022-03-21T18:14:24.809Z"
   },
   {
    "duration": 57,
    "start_time": "2022-03-21T18:14:24.899Z"
   },
   {
    "duration": 201,
    "start_time": "2022-03-21T18:14:24.958Z"
   },
   {
    "duration": 47,
    "start_time": "2022-03-21T18:14:25.161Z"
   },
   {
    "duration": 137,
    "start_time": "2022-03-21T18:14:25.211Z"
   },
   {
    "duration": 80,
    "start_time": "2022-03-21T18:14:25.351Z"
   },
   {
    "duration": 30,
    "start_time": "2022-03-21T18:14:25.433Z"
   },
   {
    "duration": 28,
    "start_time": "2022-03-21T18:14:25.465Z"
   },
   {
    "duration": 68,
    "start_time": "2022-03-21T18:14:25.495Z"
   },
   {
    "duration": 11,
    "start_time": "2022-03-21T18:14:25.566Z"
   },
   {
    "duration": 44,
    "start_time": "2022-03-21T18:14:25.582Z"
   },
   {
    "duration": 18,
    "start_time": "2022-03-21T18:14:25.628Z"
   },
   {
    "duration": 29,
    "start_time": "2022-03-21T18:14:25.648Z"
   },
   {
    "duration": 49,
    "start_time": "2022-03-21T18:14:25.680Z"
   },
   {
    "duration": 11,
    "start_time": "2022-03-21T18:14:25.732Z"
   },
   {
    "duration": 55,
    "start_time": "2022-03-21T18:14:25.745Z"
   },
   {
    "duration": 31,
    "start_time": "2022-03-21T18:14:25.803Z"
   },
   {
    "duration": 20,
    "start_time": "2022-03-21T18:14:25.836Z"
   },
   {
    "duration": 152,
    "start_time": "2022-03-21T18:14:25.859Z"
   },
   {
    "duration": 102,
    "start_time": "2022-03-21T18:14:26.013Z"
   },
   {
    "duration": 0,
    "start_time": "2022-03-21T18:14:26.118Z"
   },
   {
    "duration": 0,
    "start_time": "2022-03-21T18:14:26.120Z"
   },
   {
    "duration": 0,
    "start_time": "2022-03-21T18:14:26.122Z"
   },
   {
    "duration": 0,
    "start_time": "2022-03-21T18:14:26.124Z"
   },
   {
    "duration": 0,
    "start_time": "2022-03-21T18:14:26.126Z"
   },
   {
    "duration": 59,
    "start_time": "2022-03-21T18:15:09.060Z"
   },
   {
    "duration": 52,
    "start_time": "2022-03-21T18:15:20.529Z"
   },
   {
    "duration": 1890,
    "start_time": "2022-03-21T18:20:51.905Z"
   },
   {
    "duration": 1190,
    "start_time": "2022-03-21T18:21:24.197Z"
   },
   {
    "duration": 1342,
    "start_time": "2022-03-21T18:22:15.362Z"
   },
   {
    "duration": 1154,
    "start_time": "2022-03-21T18:22:41.101Z"
   },
   {
    "duration": 102,
    "start_time": "2022-03-21T18:26:00.884Z"
   },
   {
    "duration": 60,
    "start_time": "2022-03-21T18:26:15.107Z"
   },
   {
    "duration": 61,
    "start_time": "2022-03-21T18:29:33.097Z"
   },
   {
    "duration": 185,
    "start_time": "2022-03-21T18:29:55.043Z"
   },
   {
    "duration": 58,
    "start_time": "2022-03-21T18:30:28.849Z"
   },
   {
    "duration": 59,
    "start_time": "2022-03-21T18:31:08.028Z"
   },
   {
    "duration": 60,
    "start_time": "2022-03-21T18:31:22.318Z"
   },
   {
    "duration": 56,
    "start_time": "2022-03-21T18:31:49.631Z"
   },
   {
    "duration": 61,
    "start_time": "2022-03-21T18:32:06.157Z"
   },
   {
    "duration": 56,
    "start_time": "2022-03-21T18:32:21.334Z"
   },
   {
    "duration": 1338,
    "start_time": "2022-03-21T18:33:17.646Z"
   },
   {
    "duration": 1206,
    "start_time": "2022-03-21T18:33:38.120Z"
   },
   {
    "duration": 1258,
    "start_time": "2022-03-21T18:34:19.132Z"
   },
   {
    "duration": 1479,
    "start_time": "2022-03-21T18:35:50.321Z"
   },
   {
    "duration": 64,
    "start_time": "2022-03-21T18:36:27.634Z"
   },
   {
    "duration": 67,
    "start_time": "2022-03-21T18:38:35.885Z"
   },
   {
    "duration": 1930,
    "start_time": "2022-03-21T18:40:01.164Z"
   },
   {
    "duration": 1446,
    "start_time": "2022-03-21T18:41:46.482Z"
   },
   {
    "duration": 2015,
    "start_time": "2022-03-21T18:42:54.606Z"
   },
   {
    "duration": 1459,
    "start_time": "2022-03-21T18:44:48.634Z"
   },
   {
    "duration": 2577,
    "start_time": "2022-03-21T18:45:06.820Z"
   },
   {
    "duration": 1440,
    "start_time": "2022-03-21T18:46:45.666Z"
   },
   {
    "duration": 1755,
    "start_time": "2022-03-21T18:47:06.177Z"
   },
   {
    "duration": 977,
    "start_time": "2022-03-21T18:55:35.701Z"
   },
   {
    "duration": 1102,
    "start_time": "2022-03-21T18:55:52.065Z"
   },
   {
    "duration": 1335,
    "start_time": "2022-03-21T19:01:07.900Z"
   },
   {
    "duration": 1332,
    "start_time": "2022-03-21T19:01:25.150Z"
   },
   {
    "duration": 1116,
    "start_time": "2022-03-21T19:12:51.931Z"
   },
   {
    "duration": 888,
    "start_time": "2022-03-21T19:14:27.098Z"
   },
   {
    "duration": 445,
    "start_time": "2022-03-21T19:18:08.764Z"
   },
   {
    "duration": 484,
    "start_time": "2022-03-21T19:19:02.745Z"
   },
   {
    "duration": 933,
    "start_time": "2022-03-21T19:20:46.237Z"
   },
   {
    "duration": 987,
    "start_time": "2022-03-21T19:22:45.899Z"
   },
   {
    "duration": 1025,
    "start_time": "2022-03-21T19:26:16.620Z"
   },
   {
    "duration": 1404,
    "start_time": "2022-03-21T19:27:41.762Z"
   },
   {
    "duration": 1395,
    "start_time": "2022-03-21T19:27:52.729Z"
   },
   {
    "duration": 1303,
    "start_time": "2022-03-21T19:28:17.381Z"
   },
   {
    "duration": 1140,
    "start_time": "2022-03-21T19:29:09.897Z"
   },
   {
    "duration": 1272,
    "start_time": "2022-03-21T19:29:45.703Z"
   },
   {
    "duration": 1154,
    "start_time": "2022-03-21T19:30:27.120Z"
   },
   {
    "duration": 1158,
    "start_time": "2022-03-21T19:31:04.968Z"
   },
   {
    "duration": 1265,
    "start_time": "2022-03-21T19:32:15.695Z"
   },
   {
    "duration": 1272,
    "start_time": "2022-03-21T19:32:34.070Z"
   },
   {
    "duration": 1343,
    "start_time": "2022-03-21T19:33:02.875Z"
   },
   {
    "duration": 1200,
    "start_time": "2022-03-21T19:33:23.963Z"
   },
   {
    "duration": 414,
    "start_time": "2022-03-21T19:36:43.778Z"
   },
   {
    "duration": 74,
    "start_time": "2022-03-21T19:46:59.799Z"
   },
   {
    "duration": 75,
    "start_time": "2022-03-21T19:47:46.223Z"
   },
   {
    "duration": 383,
    "start_time": "2022-03-21T19:48:52.451Z"
   },
   {
    "duration": 341,
    "start_time": "2022-03-21T19:49:01.936Z"
   },
   {
    "duration": 514,
    "start_time": "2022-03-21T19:50:48.194Z"
   },
   {
    "duration": 480,
    "start_time": "2022-03-21T19:51:08.422Z"
   },
   {
    "duration": 391,
    "start_time": "2022-03-21T19:51:19.811Z"
   },
   {
    "duration": 325,
    "start_time": "2022-03-21T19:52:03.371Z"
   },
   {
    "duration": 1245,
    "start_time": "2022-03-21T19:56:48.711Z"
   },
   {
    "duration": 353,
    "start_time": "2022-03-21T19:57:42.436Z"
   },
   {
    "duration": 349,
    "start_time": "2022-03-21T19:58:37.906Z"
   },
   {
    "duration": 502,
    "start_time": "2022-03-21T20:00:34.761Z"
   },
   {
    "duration": 366,
    "start_time": "2022-03-21T20:02:09.258Z"
   },
   {
    "duration": 365,
    "start_time": "2022-03-21T20:02:27.173Z"
   },
   {
    "duration": 390,
    "start_time": "2022-03-21T20:03:15.750Z"
   },
   {
    "duration": 501,
    "start_time": "2022-03-21T20:04:14.823Z"
   },
   {
    "duration": 420,
    "start_time": "2022-03-21T20:04:37.834Z"
   },
   {
    "duration": 390,
    "start_time": "2022-03-21T20:04:57.018Z"
   },
   {
    "duration": 373,
    "start_time": "2022-03-21T20:06:12.626Z"
   },
   {
    "duration": 338,
    "start_time": "2022-03-21T20:06:30.723Z"
   },
   {
    "duration": 62,
    "start_time": "2022-03-21T21:24:00.832Z"
   },
   {
    "duration": 59,
    "start_time": "2022-03-21T21:24:28.854Z"
   },
   {
    "duration": 70,
    "start_time": "2022-03-21T21:24:39.852Z"
   },
   {
    "duration": 337,
    "start_time": "2022-03-21T21:42:58.095Z"
   },
   {
    "duration": 345,
    "start_time": "2022-03-21T21:43:09.951Z"
   },
   {
    "duration": 394,
    "start_time": "2022-03-21T21:43:21.782Z"
   },
   {
    "duration": 341,
    "start_time": "2022-03-21T21:47:25.527Z"
   },
   {
    "duration": 369,
    "start_time": "2022-03-21T21:47:36.664Z"
   },
   {
    "duration": 347,
    "start_time": "2022-03-21T21:48:49.468Z"
   },
   {
    "duration": 1275,
    "start_time": "2022-03-21T21:52:42.008Z"
   },
   {
    "duration": 1088,
    "start_time": "2022-03-21T21:53:56.287Z"
   },
   {
    "duration": 73,
    "start_time": "2022-03-21T22:04:52.405Z"
   },
   {
    "duration": 69,
    "start_time": "2022-03-21T22:05:04.034Z"
   },
   {
    "duration": 1092,
    "start_time": "2022-03-21T22:06:40.250Z"
   },
   {
    "duration": 349,
    "start_time": "2022-03-21T22:12:17.898Z"
   },
   {
    "duration": 28,
    "start_time": "2022-03-21T22:31:58.864Z"
   },
   {
    "duration": 30,
    "start_time": "2022-03-21T22:32:36.647Z"
   },
   {
    "duration": 1291,
    "start_time": "2022-03-22T17:30:41.349Z"
   },
   {
    "duration": 35,
    "start_time": "2022-03-22T17:30:42.642Z"
   },
   {
    "duration": 11,
    "start_time": "2022-03-22T17:30:42.678Z"
   },
   {
    "duration": 5,
    "start_time": "2022-03-22T17:30:42.691Z"
   },
   {
    "duration": 5,
    "start_time": "2022-03-22T17:30:42.698Z"
   },
   {
    "duration": 9,
    "start_time": "2022-03-22T17:30:42.708Z"
   },
   {
    "duration": 8,
    "start_time": "2022-03-22T17:30:42.718Z"
   },
   {
    "duration": 156,
    "start_time": "2022-03-22T17:30:42.728Z"
   },
   {
    "duration": 30,
    "start_time": "2022-03-22T17:30:42.886Z"
   },
   {
    "duration": 113,
    "start_time": "2022-03-22T17:30:42.919Z"
   },
   {
    "duration": 46,
    "start_time": "2022-03-22T17:30:43.034Z"
   },
   {
    "duration": 40,
    "start_time": "2022-03-22T17:30:43.081Z"
   },
   {
    "duration": 9,
    "start_time": "2022-03-22T17:30:43.122Z"
   },
   {
    "duration": 99,
    "start_time": "2022-03-22T17:30:43.132Z"
   },
   {
    "duration": 20,
    "start_time": "2022-03-22T17:30:43.232Z"
   },
   {
    "duration": 59,
    "start_time": "2022-03-22T17:30:43.254Z"
   },
   {
    "duration": 37,
    "start_time": "2022-03-22T17:30:43.315Z"
   },
   {
    "duration": 134,
    "start_time": "2022-03-22T17:30:43.354Z"
   },
   {
    "duration": 31,
    "start_time": "2022-03-22T17:30:43.490Z"
   },
   {
    "duration": 57,
    "start_time": "2022-03-22T17:30:43.522Z"
   },
   {
    "duration": 59,
    "start_time": "2022-03-22T17:30:43.581Z"
   },
   {
    "duration": 23,
    "start_time": "2022-03-22T17:30:43.642Z"
   },
   {
    "duration": 9,
    "start_time": "2022-03-22T17:30:43.666Z"
   },
   {
    "duration": 53,
    "start_time": "2022-03-22T17:30:43.677Z"
   },
   {
    "duration": 8,
    "start_time": "2022-03-22T17:30:43.731Z"
   },
   {
    "duration": 24,
    "start_time": "2022-03-22T17:30:43.741Z"
   },
   {
    "duration": 12,
    "start_time": "2022-03-22T17:30:43.767Z"
   },
   {
    "duration": 9,
    "start_time": "2022-03-22T17:30:43.808Z"
   },
   {
    "duration": 17,
    "start_time": "2022-03-22T17:30:43.818Z"
   },
   {
    "duration": 6,
    "start_time": "2022-03-22T17:30:43.837Z"
   },
   {
    "duration": 18,
    "start_time": "2022-03-22T17:30:43.845Z"
   },
   {
    "duration": 13,
    "start_time": "2022-03-22T17:30:43.865Z"
   },
   {
    "duration": 14,
    "start_time": "2022-03-22T17:30:43.909Z"
   },
   {
    "duration": 88,
    "start_time": "2022-03-22T17:30:43.925Z"
   },
   {
    "duration": 42,
    "start_time": "2022-03-22T17:30:44.015Z"
   },
   {
    "duration": 791,
    "start_time": "2022-03-22T17:30:44.058Z"
   },
   {
    "duration": 205,
    "start_time": "2022-03-22T17:30:44.850Z"
   },
   {
    "duration": 40,
    "start_time": "2022-03-22T17:30:45.057Z"
   },
   {
    "duration": 691,
    "start_time": "2022-03-22T17:30:45.109Z"
   },
   {
    "duration": 201,
    "start_time": "2022-03-22T17:30:45.802Z"
   },
   {
    "duration": 40,
    "start_time": "2022-03-22T17:30:46.005Z"
   },
   {
    "duration": 756,
    "start_time": "2022-03-22T17:30:46.048Z"
   },
   {
    "duration": 207,
    "start_time": "2022-03-22T17:30:46.806Z"
   },
   {
    "duration": 17,
    "start_time": "2022-03-22T17:30:47.015Z"
   },
   {
    "duration": 16,
    "start_time": "2022-03-22T17:30:47.034Z"
   },
   {
    "duration": 111,
    "start_time": "2022-03-22T17:30:47.051Z"
   },
   {
    "duration": 5,
    "start_time": "2022-03-22T17:32:57.190Z"
   },
   {
    "duration": 4,
    "start_time": "2022-03-22T17:42:22.202Z"
   },
   {
    "duration": 8,
    "start_time": "2022-03-22T17:42:39.585Z"
   },
   {
    "duration": 16,
    "start_time": "2022-03-22T17:42:42.565Z"
   },
   {
    "duration": 16,
    "start_time": "2022-03-22T17:42:57.230Z"
   },
   {
    "duration": 34,
    "start_time": "2022-03-22T17:46:23.562Z"
   },
   {
    "duration": 15,
    "start_time": "2022-03-22T17:48:45.633Z"
   },
   {
    "duration": 15,
    "start_time": "2022-03-22T17:49:03.338Z"
   },
   {
    "duration": 23,
    "start_time": "2022-03-22T17:49:12.186Z"
   },
   {
    "duration": 14,
    "start_time": "2022-03-22T17:52:32.747Z"
   },
   {
    "duration": 14,
    "start_time": "2022-03-22T17:52:47.188Z"
   },
   {
    "duration": 13,
    "start_time": "2022-03-22T17:53:10.491Z"
   },
   {
    "duration": 15,
    "start_time": "2022-03-22T17:54:00.621Z"
   },
   {
    "duration": 27,
    "start_time": "2022-03-22T17:54:12.706Z"
   },
   {
    "duration": 16,
    "start_time": "2022-03-22T17:54:23.781Z"
   },
   {
    "duration": 20,
    "start_time": "2022-03-22T17:58:58.122Z"
   },
   {
    "duration": 15,
    "start_time": "2022-03-22T17:58:59.148Z"
   },
   {
    "duration": 5,
    "start_time": "2022-03-22T17:59:32.897Z"
   },
   {
    "duration": 8,
    "start_time": "2022-03-22T18:03:49.372Z"
   },
   {
    "duration": 8,
    "start_time": "2022-03-22T18:05:08.155Z"
   },
   {
    "duration": 164,
    "start_time": "2022-03-22T18:08:27.031Z"
   },
   {
    "duration": 236,
    "start_time": "2022-03-22T18:08:47.847Z"
   },
   {
    "duration": 385,
    "start_time": "2022-03-22T18:09:02.933Z"
   },
   {
    "duration": 160,
    "start_time": "2022-03-22T18:09:10.823Z"
   },
   {
    "duration": 18,
    "start_time": "2022-03-22T18:30:44.376Z"
   },
   {
    "duration": 19,
    "start_time": "2022-03-22T18:30:50.567Z"
   },
   {
    "duration": 6,
    "start_time": "2022-03-22T18:38:24.243Z"
   },
   {
    "duration": 1135,
    "start_time": "2022-03-22T18:38:46.298Z"
   },
   {
    "duration": 36,
    "start_time": "2022-03-22T18:38:47.435Z"
   },
   {
    "duration": 11,
    "start_time": "2022-03-22T18:38:47.474Z"
   },
   {
    "duration": 6,
    "start_time": "2022-03-22T18:38:47.488Z"
   },
   {
    "duration": 6,
    "start_time": "2022-03-22T18:38:47.496Z"
   },
   {
    "duration": 4,
    "start_time": "2022-03-22T18:38:47.508Z"
   },
   {
    "duration": 8,
    "start_time": "2022-03-22T18:38:47.514Z"
   },
   {
    "duration": 166,
    "start_time": "2022-03-22T18:38:47.524Z"
   },
   {
    "duration": 29,
    "start_time": "2022-03-22T18:38:47.691Z"
   },
   {
    "duration": 133,
    "start_time": "2022-03-22T18:38:47.723Z"
   },
   {
    "duration": 54,
    "start_time": "2022-03-22T18:38:47.858Z"
   },
   {
    "duration": 27,
    "start_time": "2022-03-22T18:38:47.914Z"
   },
   {
    "duration": 10,
    "start_time": "2022-03-22T18:38:47.943Z"
   },
   {
    "duration": 109,
    "start_time": "2022-03-22T18:38:47.954Z"
   },
   {
    "duration": 19,
    "start_time": "2022-03-22T18:38:48.064Z"
   },
   {
    "duration": 58,
    "start_time": "2022-03-22T18:38:48.085Z"
   },
   {
    "duration": 35,
    "start_time": "2022-03-22T18:38:48.145Z"
   },
   {
    "duration": 134,
    "start_time": "2022-03-22T18:38:48.182Z"
   },
   {
    "duration": 23,
    "start_time": "2022-03-22T18:38:48.317Z"
   },
   {
    "duration": 78,
    "start_time": "2022-03-22T18:38:48.342Z"
   },
   {
    "duration": 45,
    "start_time": "2022-03-22T18:38:48.422Z"
   },
   {
    "duration": 21,
    "start_time": "2022-03-22T18:38:48.468Z"
   },
   {
    "duration": 19,
    "start_time": "2022-03-22T18:38:48.491Z"
   },
   {
    "duration": 31,
    "start_time": "2022-03-22T18:38:48.511Z"
   },
   {
    "duration": 6,
    "start_time": "2022-03-22T18:38:48.544Z"
   },
   {
    "duration": 23,
    "start_time": "2022-03-22T18:38:48.552Z"
   },
   {
    "duration": 37,
    "start_time": "2022-03-22T18:38:48.577Z"
   },
   {
    "duration": 7,
    "start_time": "2022-03-22T18:38:48.618Z"
   },
   {
    "duration": 19,
    "start_time": "2022-03-22T18:38:48.626Z"
   },
   {
    "duration": 7,
    "start_time": "2022-03-22T18:38:48.647Z"
   },
   {
    "duration": 22,
    "start_time": "2022-03-22T18:38:48.655Z"
   },
   {
    "duration": 43,
    "start_time": "2022-03-22T18:38:48.679Z"
   },
   {
    "duration": 14,
    "start_time": "2022-03-22T18:38:48.724Z"
   },
   {
    "duration": 98,
    "start_time": "2022-03-22T18:38:48.739Z"
   },
   {
    "duration": 38,
    "start_time": "2022-03-22T18:38:48.838Z"
   },
   {
    "duration": 693,
    "start_time": "2022-03-22T18:38:48.878Z"
   },
   {
    "duration": 210,
    "start_time": "2022-03-22T18:38:49.573Z"
   },
   {
    "duration": 49,
    "start_time": "2022-03-22T18:38:49.784Z"
   },
   {
    "duration": 670,
    "start_time": "2022-03-22T18:38:49.834Z"
   },
   {
    "duration": 195,
    "start_time": "2022-03-22T18:38:50.506Z"
   },
   {
    "duration": 44,
    "start_time": "2022-03-22T18:38:50.703Z"
   },
   {
    "duration": 686,
    "start_time": "2022-03-22T18:38:50.748Z"
   },
   {
    "duration": 265,
    "start_time": "2022-03-22T18:38:51.436Z"
   },
   {
    "duration": 20,
    "start_time": "2022-03-22T18:38:51.702Z"
   },
   {
    "duration": 14,
    "start_time": "2022-03-22T18:38:51.724Z"
   },
   {
    "duration": 4,
    "start_time": "2022-03-22T18:38:51.740Z"
   },
   {
    "duration": 8,
    "start_time": "2022-03-22T18:38:51.746Z"
   },
   {
    "duration": 20,
    "start_time": "2022-03-22T18:38:51.755Z"
   },
   {
    "duration": 19,
    "start_time": "2022-03-22T18:38:51.809Z"
   },
   {
    "duration": 18,
    "start_time": "2022-03-22T18:38:51.829Z"
   },
   {
    "duration": 9,
    "start_time": "2022-03-22T18:38:51.848Z"
   },
   {
    "duration": 27,
    "start_time": "2022-03-22T20:19:16.477Z"
   },
   {
    "duration": 8,
    "start_time": "2022-03-22T20:19:45.738Z"
   },
   {
    "duration": 10,
    "start_time": "2022-03-22T20:20:19.504Z"
   },
   {
    "duration": 106,
    "start_time": "2022-03-22T20:44:09.647Z"
   },
   {
    "duration": 10,
    "start_time": "2022-03-22T20:45:02.856Z"
   },
   {
    "duration": 263,
    "start_time": "2022-03-22T20:45:18.256Z"
   },
   {
    "duration": 12,
    "start_time": "2022-03-22T20:45:51.236Z"
   },
   {
    "duration": 9,
    "start_time": "2022-03-22T20:47:43.114Z"
   },
   {
    "duration": 1111,
    "start_time": "2022-04-03T10:03:50.748Z"
   },
   {
    "duration": 31,
    "start_time": "2022-04-03T10:03:51.861Z"
   },
   {
    "duration": 9,
    "start_time": "2022-04-03T10:03:51.894Z"
   },
   {
    "duration": 5,
    "start_time": "2022-04-03T10:03:51.906Z"
   },
   {
    "duration": 6,
    "start_time": "2022-04-03T10:03:51.912Z"
   },
   {
    "duration": 5,
    "start_time": "2022-04-03T10:03:51.919Z"
   },
   {
    "duration": 7,
    "start_time": "2022-04-03T10:03:51.926Z"
   },
   {
    "duration": 161,
    "start_time": "2022-04-03T10:03:51.935Z"
   },
   {
    "duration": 23,
    "start_time": "2022-04-03T10:03:52.098Z"
   },
   {
    "duration": 109,
    "start_time": "2022-04-03T10:03:52.125Z"
   },
   {
    "duration": 54,
    "start_time": "2022-04-03T10:03:52.236Z"
   },
   {
    "duration": 26,
    "start_time": "2022-04-03T10:03:52.292Z"
   },
   {
    "duration": 10,
    "start_time": "2022-04-03T10:03:52.320Z"
   },
   {
    "duration": 102,
    "start_time": "2022-04-03T10:03:52.331Z"
   },
   {
    "duration": 29,
    "start_time": "2022-04-03T10:03:52.435Z"
   },
   {
    "duration": 46,
    "start_time": "2022-04-03T10:03:52.465Z"
   },
   {
    "duration": 54,
    "start_time": "2022-04-03T10:03:52.513Z"
   },
   {
    "duration": 119,
    "start_time": "2022-04-03T10:03:52.570Z"
   },
   {
    "duration": 21,
    "start_time": "2022-04-03T10:03:52.691Z"
   },
   {
    "duration": 78,
    "start_time": "2022-04-03T10:03:52.714Z"
   },
   {
    "duration": 43,
    "start_time": "2022-04-03T10:03:52.794Z"
   },
   {
    "duration": 33,
    "start_time": "2022-04-03T10:03:52.839Z"
   },
   {
    "duration": 7,
    "start_time": "2022-04-03T10:03:52.874Z"
   },
   {
    "duration": 25,
    "start_time": "2022-04-03T10:03:52.883Z"
   },
   {
    "duration": 7,
    "start_time": "2022-04-03T10:03:52.909Z"
   },
   {
    "duration": 48,
    "start_time": "2022-04-03T10:03:52.918Z"
   },
   {
    "duration": 12,
    "start_time": "2022-04-03T10:03:52.968Z"
   },
   {
    "duration": 8,
    "start_time": "2022-04-03T10:03:52.984Z"
   },
   {
    "duration": 18,
    "start_time": "2022-04-03T10:03:52.994Z"
   },
   {
    "duration": 7,
    "start_time": "2022-04-03T10:03:53.014Z"
   },
   {
    "duration": 53,
    "start_time": "2022-04-03T10:03:53.023Z"
   },
   {
    "duration": 14,
    "start_time": "2022-04-03T10:03:53.078Z"
   },
   {
    "duration": 14,
    "start_time": "2022-04-03T10:03:53.093Z"
   },
   {
    "duration": 83,
    "start_time": "2022-04-03T10:03:53.109Z"
   },
   {
    "duration": 41,
    "start_time": "2022-04-03T10:03:53.194Z"
   },
   {
    "duration": 638,
    "start_time": "2022-04-03T10:03:53.236Z"
   },
   {
    "duration": 188,
    "start_time": "2022-04-03T10:03:53.875Z"
   },
   {
    "duration": 38,
    "start_time": "2022-04-03T10:03:54.064Z"
   },
   {
    "duration": 665,
    "start_time": "2022-04-03T10:03:54.103Z"
   },
   {
    "duration": 191,
    "start_time": "2022-04-03T10:03:54.769Z"
   },
   {
    "duration": 38,
    "start_time": "2022-04-03T10:03:54.962Z"
   },
   {
    "duration": 706,
    "start_time": "2022-04-03T10:03:55.002Z"
   },
   {
    "duration": 186,
    "start_time": "2022-04-03T10:03:55.710Z"
   },
   {
    "duration": 16,
    "start_time": "2022-04-03T10:03:55.898Z"
   },
   {
    "duration": 19,
    "start_time": "2022-04-03T10:03:55.915Z"
   },
   {
    "duration": 6,
    "start_time": "2022-04-03T10:03:55.935Z"
   },
   {
    "duration": 26,
    "start_time": "2022-04-03T10:03:55.943Z"
   },
   {
    "duration": 10,
    "start_time": "2022-04-03T10:03:55.970Z"
   },
   {
    "duration": 17,
    "start_time": "2022-04-03T10:03:55.982Z"
   },
   {
    "duration": 23,
    "start_time": "2022-04-03T10:03:56.000Z"
   },
   {
    "duration": 17,
    "start_time": "2022-04-03T10:03:56.025Z"
   },
   {
    "duration": 37,
    "start_time": "2022-04-03T10:03:56.043Z"
   },
   {
    "duration": 8,
    "start_time": "2022-04-03T10:03:56.082Z"
   },
   {
    "duration": 12,
    "start_time": "2022-04-03T10:08:58.401Z"
   },
   {
    "duration": 1437,
    "start_time": "2022-04-03T11:39:42.848Z"
   },
   {
    "duration": 70,
    "start_time": "2022-04-03T11:39:44.287Z"
   },
   {
    "duration": 13,
    "start_time": "2022-04-03T11:39:44.359Z"
   },
   {
    "duration": 9,
    "start_time": "2022-04-03T11:39:44.374Z"
   },
   {
    "duration": 6,
    "start_time": "2022-04-03T11:39:44.384Z"
   },
   {
    "duration": 9,
    "start_time": "2022-04-03T11:39:44.392Z"
   },
   {
    "duration": 10,
    "start_time": "2022-04-03T11:39:44.403Z"
   },
   {
    "duration": 179,
    "start_time": "2022-04-03T11:39:44.414Z"
   },
   {
    "duration": 27,
    "start_time": "2022-04-03T11:39:44.595Z"
   },
   {
    "duration": 123,
    "start_time": "2022-04-03T11:39:44.634Z"
   },
   {
    "duration": 52,
    "start_time": "2022-04-03T11:39:44.759Z"
   },
   {
    "duration": 47,
    "start_time": "2022-04-03T11:39:44.813Z"
   },
   {
    "duration": 12,
    "start_time": "2022-04-03T11:39:44.863Z"
   },
   {
    "duration": 113,
    "start_time": "2022-04-03T11:39:44.877Z"
   },
   {
    "duration": 24,
    "start_time": "2022-04-03T11:39:44.992Z"
   },
   {
    "duration": 64,
    "start_time": "2022-04-03T11:39:45.033Z"
   },
   {
    "duration": 50,
    "start_time": "2022-04-03T11:39:45.099Z"
   },
   {
    "duration": 145,
    "start_time": "2022-04-03T11:39:45.151Z"
   },
   {
    "duration": 34,
    "start_time": "2022-04-03T11:39:45.298Z"
   },
   {
    "duration": 70,
    "start_time": "2022-04-03T11:39:45.333Z"
   },
   {
    "duration": 67,
    "start_time": "2022-04-03T11:39:45.405Z"
   },
   {
    "duration": 25,
    "start_time": "2022-04-03T11:39:45.473Z"
   },
   {
    "duration": 7,
    "start_time": "2022-04-03T11:39:45.500Z"
   },
   {
    "duration": 51,
    "start_time": "2022-04-03T11:39:45.509Z"
   },
   {
    "duration": 8,
    "start_time": "2022-04-03T11:39:45.562Z"
   },
   {
    "duration": 26,
    "start_time": "2022-04-03T11:39:45.572Z"
   },
   {
    "duration": 35,
    "start_time": "2022-04-03T11:39:45.600Z"
   },
   {
    "duration": 9,
    "start_time": "2022-04-03T11:39:45.639Z"
   },
   {
    "duration": 21,
    "start_time": "2022-04-03T11:39:45.650Z"
   },
   {
    "duration": 7,
    "start_time": "2022-04-03T11:39:45.673Z"
   },
   {
    "duration": 51,
    "start_time": "2022-04-03T11:39:45.682Z"
   },
   {
    "duration": 16,
    "start_time": "2022-04-03T11:39:45.735Z"
   },
   {
    "duration": 21,
    "start_time": "2022-04-03T11:39:45.753Z"
   },
   {
    "duration": 94,
    "start_time": "2022-04-03T11:39:45.776Z"
   },
   {
    "duration": 46,
    "start_time": "2022-04-03T11:39:45.872Z"
   },
   {
    "duration": 830,
    "start_time": "2022-04-03T11:39:45.932Z"
   },
   {
    "duration": 223,
    "start_time": "2022-04-03T11:39:46.764Z"
   },
   {
    "duration": 55,
    "start_time": "2022-04-03T11:39:46.989Z"
   },
   {
    "duration": 751,
    "start_time": "2022-04-03T11:39:47.046Z"
   },
   {
    "duration": 223,
    "start_time": "2022-04-03T11:39:47.799Z"
   },
   {
    "duration": 55,
    "start_time": "2022-04-03T11:39:48.024Z"
   },
   {
    "duration": 775,
    "start_time": "2022-04-03T11:39:48.081Z"
   },
   {
    "duration": 235,
    "start_time": "2022-04-03T11:39:48.857Z"
   },
   {
    "duration": 20,
    "start_time": "2022-04-03T11:39:49.094Z"
   },
   {
    "duration": 23,
    "start_time": "2022-04-03T11:39:49.116Z"
   },
   {
    "duration": 8,
    "start_time": "2022-04-03T11:39:49.140Z"
   },
   {
    "duration": 8,
    "start_time": "2022-04-03T11:39:49.150Z"
   },
   {
    "duration": 7,
    "start_time": "2022-04-03T11:39:49.159Z"
   },
   {
    "duration": 10,
    "start_time": "2022-04-03T11:39:49.167Z"
   },
   {
    "duration": 26,
    "start_time": "2022-04-03T11:39:49.178Z"
   },
   {
    "duration": 28,
    "start_time": "2022-04-03T11:39:49.206Z"
   },
   {
    "duration": 21,
    "start_time": "2022-04-03T11:39:49.236Z"
   },
   {
    "duration": 5,
    "start_time": "2022-04-03T11:39:49.259Z"
   },
   {
    "duration": 22,
    "start_time": "2022-04-03T11:41:40.607Z"
   },
   {
    "duration": 26,
    "start_time": "2022-04-03T11:41:55.203Z"
   },
   {
    "duration": 115,
    "start_time": "2022-04-03T12:05:29.877Z"
   },
   {
    "duration": 24,
    "start_time": "2022-04-03T12:07:48.879Z"
   },
   {
    "duration": 24,
    "start_time": "2022-04-03T12:09:00.499Z"
   },
   {
    "duration": 12,
    "start_time": "2022-04-03T12:09:38.373Z"
   },
   {
    "duration": 26,
    "start_time": "2022-04-03T12:10:05.031Z"
   },
   {
    "duration": 101,
    "start_time": "2022-04-03T12:18:06.662Z"
   },
   {
    "duration": 104,
    "start_time": "2022-04-03T12:19:38.892Z"
   },
   {
    "duration": 121,
    "start_time": "2022-04-03T12:20:31.898Z"
   },
   {
    "duration": 119,
    "start_time": "2022-04-03T12:20:49.548Z"
   },
   {
    "duration": 143,
    "start_time": "2022-04-03T12:23:13.034Z"
   },
   {
    "duration": 154,
    "start_time": "2022-04-03T12:23:31.575Z"
   },
   {
    "duration": 29,
    "start_time": "2022-04-03T12:26:49.023Z"
   },
   {
    "duration": 28,
    "start_time": "2022-04-03T12:27:25.788Z"
   },
   {
    "duration": 30,
    "start_time": "2022-04-03T12:30:27.187Z"
   },
   {
    "duration": 152,
    "start_time": "2022-04-03T12:31:12.362Z"
   },
   {
    "duration": 29,
    "start_time": "2022-04-03T12:31:24.366Z"
   },
   {
    "duration": 29,
    "start_time": "2022-04-03T12:32:12.133Z"
   },
   {
    "duration": 30,
    "start_time": "2022-04-03T12:33:28.536Z"
   },
   {
    "duration": 28,
    "start_time": "2022-04-03T12:35:47.377Z"
   },
   {
    "duration": 28,
    "start_time": "2022-04-03T12:36:14.752Z"
   },
   {
    "duration": 30,
    "start_time": "2022-04-03T12:36:26.637Z"
   },
   {
    "duration": 206,
    "start_time": "2022-04-03T12:38:52.992Z"
   },
   {
    "duration": 218,
    "start_time": "2022-04-03T12:42:06.350Z"
   },
   {
    "duration": 247,
    "start_time": "2022-04-03T12:42:37.852Z"
   },
   {
    "duration": 19,
    "start_time": "2022-04-03T12:47:50.188Z"
   },
   {
    "duration": 270,
    "start_time": "2022-04-03T12:51:28.027Z"
   },
   {
    "duration": 267,
    "start_time": "2022-04-03T12:52:11.748Z"
   },
   {
    "duration": 294,
    "start_time": "2022-04-03T12:53:14.294Z"
   },
   {
    "duration": 285,
    "start_time": "2022-04-03T12:57:39.055Z"
   },
   {
    "duration": 20,
    "start_time": "2022-04-03T12:58:10.401Z"
   },
   {
    "duration": 19,
    "start_time": "2022-04-03T12:58:17.510Z"
   },
   {
    "duration": 9,
    "start_time": "2022-04-03T12:58:36.235Z"
   },
   {
    "duration": 9,
    "start_time": "2022-04-03T12:58:37.493Z"
   },
   {
    "duration": 6,
    "start_time": "2022-04-03T12:58:48.236Z"
   },
   {
    "duration": 8,
    "start_time": "2022-04-03T12:59:00.589Z"
   },
   {
    "duration": 23,
    "start_time": "2022-04-03T13:01:04.277Z"
   },
   {
    "duration": 22,
    "start_time": "2022-04-03T13:01:09.566Z"
   },
   {
    "duration": 20,
    "start_time": "2022-04-03T13:01:13.556Z"
   },
   {
    "duration": 7,
    "start_time": "2022-04-03T13:01:27.043Z"
   },
   {
    "duration": 1285,
    "start_time": "2022-04-03T13:08:54.452Z"
   },
   {
    "duration": 50,
    "start_time": "2022-04-03T13:08:55.740Z"
   },
   {
    "duration": 13,
    "start_time": "2022-04-03T13:08:55.791Z"
   },
   {
    "duration": 12,
    "start_time": "2022-04-03T13:08:55.806Z"
   },
   {
    "duration": 7,
    "start_time": "2022-04-03T13:08:55.819Z"
   },
   {
    "duration": 7,
    "start_time": "2022-04-03T13:08:55.828Z"
   },
   {
    "duration": 10,
    "start_time": "2022-04-03T13:08:55.836Z"
   },
   {
    "duration": 172,
    "start_time": "2022-04-03T13:08:55.847Z"
   },
   {
    "duration": 31,
    "start_time": "2022-04-03T13:08:56.021Z"
   },
   {
    "duration": 129,
    "start_time": "2022-04-03T13:08:56.055Z"
   },
   {
    "duration": 59,
    "start_time": "2022-04-03T13:08:56.185Z"
   },
   {
    "duration": 29,
    "start_time": "2022-04-03T13:08:56.246Z"
   },
   {
    "duration": 11,
    "start_time": "2022-04-03T13:08:56.277Z"
   },
   {
    "duration": 114,
    "start_time": "2022-04-03T13:08:56.290Z"
   },
   {
    "duration": 31,
    "start_time": "2022-04-03T13:08:56.406Z"
   },
   {
    "duration": 52,
    "start_time": "2022-04-03T13:08:56.439Z"
   },
   {
    "duration": 64,
    "start_time": "2022-04-03T13:08:56.493Z"
   },
   {
    "duration": 145,
    "start_time": "2022-04-03T13:08:56.559Z"
   },
   {
    "duration": 29,
    "start_time": "2022-04-03T13:08:56.706Z"
   },
   {
    "duration": 71,
    "start_time": "2022-04-03T13:08:56.737Z"
   },
   {
    "duration": 67,
    "start_time": "2022-04-03T13:08:56.809Z"
   },
   {
    "duration": 24,
    "start_time": "2022-04-03T13:08:56.878Z"
   },
   {
    "duration": 34,
    "start_time": "2022-04-03T13:08:56.904Z"
   },
   {
    "duration": 32,
    "start_time": "2022-04-03T13:08:56.940Z"
   },
   {
    "duration": 9,
    "start_time": "2022-04-03T13:08:56.974Z"
   },
   {
    "duration": 51,
    "start_time": "2022-04-03T13:08:56.985Z"
   },
   {
    "duration": 15,
    "start_time": "2022-04-03T13:08:57.038Z"
   },
   {
    "duration": 9,
    "start_time": "2022-04-03T13:08:57.058Z"
   },
   {
    "duration": 21,
    "start_time": "2022-04-03T13:08:57.069Z"
   },
   {
    "duration": 46,
    "start_time": "2022-04-03T13:08:57.092Z"
   },
   {
    "duration": 20,
    "start_time": "2022-04-03T13:08:57.140Z"
   },
   {
    "duration": 23,
    "start_time": "2022-04-03T13:08:57.163Z"
   },
   {
    "duration": 20,
    "start_time": "2022-04-03T13:08:57.188Z"
   },
   {
    "duration": 305,
    "start_time": "2022-04-03T13:08:57.209Z"
   },
   {
    "duration": 52,
    "start_time": "2022-04-03T13:08:57.516Z"
   },
   {
    "duration": 753,
    "start_time": "2022-04-03T13:08:57.569Z"
   },
   {
    "duration": 223,
    "start_time": "2022-04-03T13:08:58.323Z"
   },
   {
    "duration": 48,
    "start_time": "2022-04-03T13:08:58.547Z"
   },
   {
    "duration": 721,
    "start_time": "2022-04-03T13:08:58.597Z"
   },
   {
    "duration": 230,
    "start_time": "2022-04-03T13:08:59.320Z"
   },
   {
    "duration": 48,
    "start_time": "2022-04-03T13:08:59.551Z"
   },
   {
    "duration": 776,
    "start_time": "2022-04-03T13:08:59.601Z"
   },
   {
    "duration": 233,
    "start_time": "2022-04-03T13:09:00.379Z"
   },
   {
    "duration": 26,
    "start_time": "2022-04-03T13:09:00.614Z"
   },
   {
    "duration": 20,
    "start_time": "2022-04-03T13:09:00.642Z"
   },
   {
    "duration": 14,
    "start_time": "2022-04-03T13:09:00.663Z"
   },
   {
    "duration": 10,
    "start_time": "2022-04-03T13:09:00.679Z"
   },
   {
    "duration": 9,
    "start_time": "2022-04-03T13:09:00.691Z"
   },
   {
    "duration": 33,
    "start_time": "2022-04-03T13:09:00.701Z"
   },
   {
    "duration": 29,
    "start_time": "2022-04-03T13:09:00.735Z"
   },
   {
    "duration": 21,
    "start_time": "2022-04-03T13:09:00.765Z"
   },
   {
    "duration": 51,
    "start_time": "2022-04-03T13:09:00.788Z"
   },
   {
    "duration": 10,
    "start_time": "2022-04-03T13:09:00.841Z"
   },
   {
    "duration": 178,
    "start_time": "2022-04-03T13:39:18.831Z"
   }
  ],
  "kernelspec": {
   "display_name": "Python 3 (ipykernel)",
   "language": "python",
   "name": "python3"
  },
  "language_info": {
   "codemirror_mode": {
    "name": "ipython",
    "version": 3
   },
   "file_extension": ".py",
   "mimetype": "text/x-python",
   "name": "python",
   "nbconvert_exporter": "python",
   "pygments_lexer": "ipython3",
   "version": "3.9.7"
  },
  "toc": {
   "base_numbering": 1,
   "nav_menu": {},
   "number_sections": true,
   "sideBar": true,
   "skip_h1_title": true,
   "title_cell": "Table of Contents",
   "title_sidebar": "Contents",
   "toc_cell": false,
   "toc_position": {},
   "toc_section_display": true,
   "toc_window_display": false
  }
 },
 "nbformat": 4,
 "nbformat_minor": 2
}
