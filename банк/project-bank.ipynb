{
 "cells": [
  {
   "cell_type": "markdown",
   "id": "8ce195be",
   "metadata": {},
   "source": [
    "# Исследование надежности заемщиков."
   ]
  },
  {
   "cell_type": "markdown",
   "id": "663d71c1",
   "metadata": {},
   "source": [
    "**Заказчик**\n",
    "\n",
    "Кредитный отдел банка.\n",
    "\n",
    "**Цель исследования** — проверить гипотезы и отвеить на вопрос:\n",
    "\n",
    "* Есть ли зависимость между количеством детей и возвратом кредита в срок.\n",
    "* Есть ли зависимость между семейным положением и возвратом кредита в срок.\n",
    "* Есть ли зависимость между уровнем дохода и возвратом кредита в срок.\n",
    "* Как разные цели кредита влияют на его возврат в срок?\n",
    "\n",
    "**Входные данные от банка**\n",
    "\n",
    "Статистика о платёжеспособности клиентов.\n"
   ]
  },
  {
   "cell_type": "markdown",
   "id": "dd731537",
   "metadata": {},
   "source": [
    "### Шаг 1. Обзор данных"
   ]
  },
  {
   "cell_type": "code",
   "execution_count": 1,
   "id": "bb357bf1",
   "metadata": {},
   "outputs": [],
   "source": [
    "import pandas as pd # импорт библиотеки pandas\n",
    "df = pd.read_csv('data.csv') # чтение файла с данными и сохранение в df\n"
   ]
  },
  {
   "cell_type": "markdown",
   "id": "887bb244",
   "metadata": {},
   "source": [
    "Выведем на экран первые десять строк таблицы:"
   ]
  },
  {
   "cell_type": "code",
   "execution_count": 2,
   "id": "e0939743",
   "metadata": {},
   "outputs": [
    {
     "data": {
      "text/html": [
       "<div>\n",
       "<style scoped>\n",
       "    .dataframe tbody tr th:only-of-type {\n",
       "        vertical-align: middle;\n",
       "    }\n",
       "\n",
       "    .dataframe tbody tr th {\n",
       "        vertical-align: top;\n",
       "    }\n",
       "\n",
       "    .dataframe thead th {\n",
       "        text-align: right;\n",
       "    }\n",
       "</style>\n",
       "<table border=\"1\" class=\"dataframe\">\n",
       "  <thead>\n",
       "    <tr style=\"text-align: right;\">\n",
       "      <th></th>\n",
       "      <th>children</th>\n",
       "      <th>days_employed</th>\n",
       "      <th>dob_years</th>\n",
       "      <th>education</th>\n",
       "      <th>education_id</th>\n",
       "      <th>family_status</th>\n",
       "      <th>family_status_id</th>\n",
       "      <th>gender</th>\n",
       "      <th>income_type</th>\n",
       "      <th>debt</th>\n",
       "      <th>total_income</th>\n",
       "      <th>purpose</th>\n",
       "    </tr>\n",
       "  </thead>\n",
       "  <tbody>\n",
       "    <tr>\n",
       "      <th>0</th>\n",
       "      <td>1</td>\n",
       "      <td>-8437.673028</td>\n",
       "      <td>42</td>\n",
       "      <td>высшее</td>\n",
       "      <td>0</td>\n",
       "      <td>женат / замужем</td>\n",
       "      <td>0</td>\n",
       "      <td>F</td>\n",
       "      <td>сотрудник</td>\n",
       "      <td>0</td>\n",
       "      <td>253875.639453</td>\n",
       "      <td>покупка жилья</td>\n",
       "    </tr>\n",
       "    <tr>\n",
       "      <th>1</th>\n",
       "      <td>1</td>\n",
       "      <td>-4024.803754</td>\n",
       "      <td>36</td>\n",
       "      <td>среднее</td>\n",
       "      <td>1</td>\n",
       "      <td>женат / замужем</td>\n",
       "      <td>0</td>\n",
       "      <td>F</td>\n",
       "      <td>сотрудник</td>\n",
       "      <td>0</td>\n",
       "      <td>112080.014102</td>\n",
       "      <td>приобретение автомобиля</td>\n",
       "    </tr>\n",
       "    <tr>\n",
       "      <th>2</th>\n",
       "      <td>0</td>\n",
       "      <td>-5623.422610</td>\n",
       "      <td>33</td>\n",
       "      <td>Среднее</td>\n",
       "      <td>1</td>\n",
       "      <td>женат / замужем</td>\n",
       "      <td>0</td>\n",
       "      <td>M</td>\n",
       "      <td>сотрудник</td>\n",
       "      <td>0</td>\n",
       "      <td>145885.952297</td>\n",
       "      <td>покупка жилья</td>\n",
       "    </tr>\n",
       "    <tr>\n",
       "      <th>3</th>\n",
       "      <td>3</td>\n",
       "      <td>-4124.747207</td>\n",
       "      <td>32</td>\n",
       "      <td>среднее</td>\n",
       "      <td>1</td>\n",
       "      <td>женат / замужем</td>\n",
       "      <td>0</td>\n",
       "      <td>M</td>\n",
       "      <td>сотрудник</td>\n",
       "      <td>0</td>\n",
       "      <td>267628.550329</td>\n",
       "      <td>дополнительное образование</td>\n",
       "    </tr>\n",
       "    <tr>\n",
       "      <th>4</th>\n",
       "      <td>0</td>\n",
       "      <td>340266.072047</td>\n",
       "      <td>53</td>\n",
       "      <td>среднее</td>\n",
       "      <td>1</td>\n",
       "      <td>гражданский брак</td>\n",
       "      <td>1</td>\n",
       "      <td>F</td>\n",
       "      <td>пенсионер</td>\n",
       "      <td>0</td>\n",
       "      <td>158616.077870</td>\n",
       "      <td>сыграть свадьбу</td>\n",
       "    </tr>\n",
       "    <tr>\n",
       "      <th>5</th>\n",
       "      <td>0</td>\n",
       "      <td>-926.185831</td>\n",
       "      <td>27</td>\n",
       "      <td>высшее</td>\n",
       "      <td>0</td>\n",
       "      <td>гражданский брак</td>\n",
       "      <td>1</td>\n",
       "      <td>M</td>\n",
       "      <td>компаньон</td>\n",
       "      <td>0</td>\n",
       "      <td>255763.565419</td>\n",
       "      <td>покупка жилья</td>\n",
       "    </tr>\n",
       "    <tr>\n",
       "      <th>6</th>\n",
       "      <td>0</td>\n",
       "      <td>-2879.202052</td>\n",
       "      <td>43</td>\n",
       "      <td>высшее</td>\n",
       "      <td>0</td>\n",
       "      <td>женат / замужем</td>\n",
       "      <td>0</td>\n",
       "      <td>F</td>\n",
       "      <td>компаньон</td>\n",
       "      <td>0</td>\n",
       "      <td>240525.971920</td>\n",
       "      <td>операции с жильем</td>\n",
       "    </tr>\n",
       "    <tr>\n",
       "      <th>7</th>\n",
       "      <td>0</td>\n",
       "      <td>-152.779569</td>\n",
       "      <td>50</td>\n",
       "      <td>СРЕДНЕЕ</td>\n",
       "      <td>1</td>\n",
       "      <td>женат / замужем</td>\n",
       "      <td>0</td>\n",
       "      <td>M</td>\n",
       "      <td>сотрудник</td>\n",
       "      <td>0</td>\n",
       "      <td>135823.934197</td>\n",
       "      <td>образование</td>\n",
       "    </tr>\n",
       "    <tr>\n",
       "      <th>8</th>\n",
       "      <td>2</td>\n",
       "      <td>-6929.865299</td>\n",
       "      <td>35</td>\n",
       "      <td>ВЫСШЕЕ</td>\n",
       "      <td>0</td>\n",
       "      <td>гражданский брак</td>\n",
       "      <td>1</td>\n",
       "      <td>F</td>\n",
       "      <td>сотрудник</td>\n",
       "      <td>0</td>\n",
       "      <td>95856.832424</td>\n",
       "      <td>на проведение свадьбы</td>\n",
       "    </tr>\n",
       "    <tr>\n",
       "      <th>9</th>\n",
       "      <td>0</td>\n",
       "      <td>-2188.756445</td>\n",
       "      <td>41</td>\n",
       "      <td>среднее</td>\n",
       "      <td>1</td>\n",
       "      <td>женат / замужем</td>\n",
       "      <td>0</td>\n",
       "      <td>M</td>\n",
       "      <td>сотрудник</td>\n",
       "      <td>0</td>\n",
       "      <td>144425.938277</td>\n",
       "      <td>покупка жилья для семьи</td>\n",
       "    </tr>\n",
       "  </tbody>\n",
       "</table>\n",
       "</div>"
      ],
      "text/plain": [
       "   children  days_employed  dob_years education  education_id  \\\n",
       "0         1   -8437.673028         42    высшее             0   \n",
       "1         1   -4024.803754         36   среднее             1   \n",
       "2         0   -5623.422610         33   Среднее             1   \n",
       "3         3   -4124.747207         32   среднее             1   \n",
       "4         0  340266.072047         53   среднее             1   \n",
       "5         0    -926.185831         27    высшее             0   \n",
       "6         0   -2879.202052         43    высшее             0   \n",
       "7         0    -152.779569         50   СРЕДНЕЕ             1   \n",
       "8         2   -6929.865299         35    ВЫСШЕЕ             0   \n",
       "9         0   -2188.756445         41   среднее             1   \n",
       "\n",
       "      family_status  family_status_id gender income_type  debt   total_income  \\\n",
       "0   женат / замужем                 0      F   сотрудник     0  253875.639453   \n",
       "1   женат / замужем                 0      F   сотрудник     0  112080.014102   \n",
       "2   женат / замужем                 0      M   сотрудник     0  145885.952297   \n",
       "3   женат / замужем                 0      M   сотрудник     0  267628.550329   \n",
       "4  гражданский брак                 1      F   пенсионер     0  158616.077870   \n",
       "5  гражданский брак                 1      M   компаньон     0  255763.565419   \n",
       "6   женат / замужем                 0      F   компаньон     0  240525.971920   \n",
       "7   женат / замужем                 0      M   сотрудник     0  135823.934197   \n",
       "8  гражданский брак                 1      F   сотрудник     0   95856.832424   \n",
       "9   женат / замужем                 0      M   сотрудник     0  144425.938277   \n",
       "\n",
       "                      purpose  \n",
       "0               покупка жилья  \n",
       "1     приобретение автомобиля  \n",
       "2               покупка жилья  \n",
       "3  дополнительное образование  \n",
       "4             сыграть свадьбу  \n",
       "5               покупка жилья  \n",
       "6           операции с жильем  \n",
       "7                 образование  \n",
       "8       на проведение свадьбы  \n",
       "9     покупка жилья для семьи  "
      ]
     },
     "metadata": {},
     "output_type": "display_data"
    }
   ],
   "source": [
    "display(df.head(10)) # получение первых 10 строк таблицы df"
   ]
  },
  {
   "cell_type": "code",
   "execution_count": 3,
   "id": "9112bc13",
   "metadata": {},
   "outputs": [
    {
     "name": "stdout",
     "output_type": "stream",
     "text": [
      "<class 'pandas.core.frame.DataFrame'>\n",
      "RangeIndex: 21525 entries, 0 to 21524\n",
      "Data columns (total 12 columns):\n",
      " #   Column            Non-Null Count  Dtype  \n",
      "---  ------            --------------  -----  \n",
      " 0   children          21525 non-null  int64  \n",
      " 1   days_employed     19351 non-null  float64\n",
      " 2   dob_years         21525 non-null  int64  \n",
      " 3   education         21525 non-null  object \n",
      " 4   education_id      21525 non-null  int64  \n",
      " 5   family_status     21525 non-null  object \n",
      " 6   family_status_id  21525 non-null  int64  \n",
      " 7   gender            21525 non-null  object \n",
      " 8   income_type       21525 non-null  object \n",
      " 9   debt              21525 non-null  int64  \n",
      " 10  total_income      19351 non-null  float64\n",
      " 11  purpose           21525 non-null  object \n",
      "dtypes: float64(2), int64(5), object(5)\n",
      "memory usage: 1.6+ MB\n"
     ]
    }
   ],
   "source": [
    "df.info() # получение общей информации о данных в таблице df"
   ]
  },
  {
   "cell_type": "markdown",
   "id": "264b76fa",
   "metadata": {},
   "source": [
    "Итак, в таблице 12 столбцов с разными типами данных.\n",
    "\n",
    "Описание данных:\n",
    "* children — количество детей в семье\n",
    "* days_employed — общий трудовой стаж в днях\n",
    "* dob_years — возраст клиента в годах\n",
    "* education — уровень образования клиента\n",
    "* education_id — идентификатор уровня образования\n",
    "* family_status — семейное положение\n",
    "* family_status_id — идентификатор семейного положения\n",
    "* gender — пол клиента\n",
    "* income_type — тип занятости\n",
    "* debt — имел ли задолженность по возврату кредитов\n",
    "* total_income — ежемесячный доход\n",
    "* purpose — цель получения кредита\n",
    "\n",
    "Изучая данные в таблице, мы обнаруживаем следующие нарущения:\n",
    "1. Количество значений в столбцах различается. Значит, в данных есть пропущенные значения.\n",
    "2. В данных встречаются аномалии. Отрицательное количество дней трудового стажа в столбце days_employed.\n",
    "3. Неооходимо привезти к общему стандарту написания категориальных данных  столбец education.\n",
    "4. А также необходимо проверить на наличие явных и неявных дубликатов.\n",
    "\n",
    "Перед тем как решать поставленные вопросы, необходимо устранить проблемы в данных."
   ]
  },
  {
   "cell_type": "markdown",
   "id": "c75228e2",
   "metadata": {},
   "source": [
    "### Шаг 2.1 Проверка данных на аномалии и исправления."
   ]
  },
  {
   "cell_type": "markdown",
   "id": "d834de08",
   "metadata": {},
   "source": [
    "В данных могут встречаться артефакты (аномалии) — значения, которые не отражают действительность и появились по какой-то ошибке. Например, отрицательное количество дней трудового стажа в столбце days_employed.\n",
    "Рассотрим какие данные хранятся в нашем столбце, для этого воспользуемся методом **describe()**\n"
   ]
  },
  {
   "cell_type": "code",
   "execution_count": 4,
   "id": "bf30ebc6",
   "metadata": {},
   "outputs": [
    {
     "data": {
      "text/plain": [
       "count     19351.000000\n",
       "mean      63046.497661\n",
       "std      140827.311974\n",
       "min      -18388.949901\n",
       "25%       -2747.423625\n",
       "50%       -1203.369529\n",
       "75%        -291.095954\n",
       "max      401755.400475\n",
       "Name: days_employed, dtype: float64"
      ]
     },
     "execution_count": 4,
     "metadata": {},
     "output_type": "execute_result"
    }
   ],
   "source": [
    "df['days_employed'].describe()"
   ]
  },
  {
   "cell_type": "markdown",
   "id": "8f439e2b",
   "metadata": {},
   "source": [
    "Рассмотрим полученные данные: всего строк 21525, минимальное значение -18388, а максимальное значение 401755. Отрицательным стаж никак не может быть. Возможно это человеческий фактор. "
   ]
  },
  {
   "cell_type": "markdown",
   "id": "11515064",
   "metadata": {},
   "source": [
    "Заменим отрицательные значения на абсолютные, для этого используем loc c условием:"
   ]
  },
  {
   "cell_type": "code",
   "execution_count": 5,
   "id": "ad729561",
   "metadata": {},
   "outputs": [],
   "source": [
    "df.loc[df['days_employed'] < 0, 'days_employed'] = abs(df['days_employed'])"
   ]
  },
  {
   "cell_type": "markdown",
   "id": "3d48cef7",
   "metadata": {},
   "source": [
    "Проверим, что что у нас получилось, для этого вызовем еще раз метод describe()"
   ]
  },
  {
   "cell_type": "code",
   "execution_count": 6,
   "id": "d04f5984",
   "metadata": {},
   "outputs": [
    {
     "data": {
      "text/plain": [
       "count     19351.000000\n",
       "mean      66914.728907\n",
       "std      139030.880527\n",
       "min          24.141633\n",
       "25%         927.009265\n",
       "50%        2194.220567\n",
       "75%        5537.882441\n",
       "max      401755.400475\n",
       "Name: days_employed, dtype: float64"
      ]
     },
     "execution_count": 6,
     "metadata": {},
     "output_type": "execute_result"
    }
   ],
   "source": [
    "df['days_employed'].describe()"
   ]
  },
  {
   "cell_type": "markdown",
   "id": "ecd1ba66",
   "metadata": {},
   "source": [
    "В результате мы заменили все отрицательные данные на положительные. При этом количество данных у нас не изменилось, но теперь минимальное значение 24, а максимальное не изменилось и осталось 401755.\n"
   ]
  },
  {
   "cell_type": "markdown",
   "id": "55de4d38",
   "metadata": {},
   "source": [
    "### Шаг 2.2 Заполнение пропусков"
   ]
  },
  {
   "cell_type": "markdown",
   "id": "39c574af",
   "metadata": {},
   "source": [
    "В двух столбцах есть пропущенные значения, а именно в столбцах days_employed (общий трудовой стаж в днях) и total_income(ежемесячный доход). В них хранятся количественные переменные. Пропуски в таких переменных заполняют характерными значениями. Для этого обычно используют среднее арифметическое или медиану."
   ]
  },
  {
   "cell_type": "markdown",
   "id": "1c089b21",
   "metadata": {},
   "source": [
    "Для начала рассчитаем какую долю составляют пропуски в каждом из столбцов. \n",
    "В связи с тем, что общее количество строк с данными одинаковое в обоих случаях, расчеты мы будем производить для одного из столбцов."
   ]
  },
  {
   "cell_type": "code",
   "execution_count": 7,
   "id": "4aad7c90",
   "metadata": {},
   "outputs": [
    {
     "data": {
      "text/plain": [
       "11.234561521368406"
      ]
     },
     "execution_count": 7,
     "metadata": {},
     "output_type": "execute_result"
    }
   ],
   "source": [
    "(df['days_employed'].isna().sum()/df['days_employed'].count())*100 #доля для days_employed"
   ]
  },
  {
   "cell_type": "code",
   "execution_count": 8,
   "id": "0fdc3f79",
   "metadata": {},
   "outputs": [
    {
     "data": {
      "text/plain": [
       "10.099883855981417"
      ]
     },
     "execution_count": 8,
     "metadata": {},
     "output_type": "execute_result"
    }
   ],
   "source": [
    "(df['days_employed'].isna().sum()/len(df['days_employed']))*100"
   ]
  },
  {
   "cell_type": "markdown",
   "id": "9f11c71c",
   "metadata": {},
   "source": [
    "Таким образом получаем, что доля пропущенных данный в обоих столбцах составила **10%**.\n",
    "\n",
    "Каковы же могут быть причины возникновения пропущенных данных. Предположим несколько вариантов:\n",
    "* эти поля не были обязательными для заполнения и клиент не захотел указывать эти данные\n",
    "* возможно клиент никогда не работал или уже на пенсии"
   ]
  },
  {
   "cell_type": "markdown",
   "id": "6dacb970",
   "metadata": {},
   "source": [
    "Для заполнения пропусков расчитаем медиану. Этот параметр (в отличие от среднего значения) устойчив к «выбросам»."
   ]
  },
  {
   "cell_type": "code",
   "execution_count": 9,
   "id": "b90537b2",
   "metadata": {},
   "outputs": [
    {
     "data": {
      "text/plain": [
       "2194.220566878695"
      ]
     },
     "execution_count": 9,
     "metadata": {},
     "output_type": "execute_result"
    }
   ],
   "source": [
    "df['days_employed'].median() #расчитаем медиану для days_employed"
   ]
  },
  {
   "cell_type": "code",
   "execution_count": 10,
   "id": "9e83b278",
   "metadata": {},
   "outputs": [
    {
     "data": {
      "text/plain": [
       "145017.93753253992"
      ]
     },
     "execution_count": 10,
     "metadata": {},
     "output_type": "execute_result"
    }
   ],
   "source": [
    "df['total_income'].median() #расчитаем медиану для total_income"
   ]
  },
  {
   "cell_type": "markdown",
   "id": "52f7f28d",
   "metadata": {},
   "source": [
    "Заполним пропуски полученными данными:"
   ]
  },
  {
   "cell_type": "code",
   "execution_count": 11,
   "id": "7f5bb551",
   "metadata": {},
   "outputs": [],
   "source": [
    "df['days_employed'] = df['days_employed'].fillna(df['days_employed'].median()) #заполняем пропуски медианным значением\n",
    "df['total_income'] = df['total_income'].fillna(df['total_income'].median())"
   ]
  },
  {
   "cell_type": "markdown",
   "id": "1b5011f0",
   "metadata": {},
   "source": [
    "Убедимся, что в таблице не осталось пропусков. Для этого ещё раз посчитаем пропущенные значения."
   ]
  },
  {
   "cell_type": "code",
   "execution_count": 12,
   "id": "5a1e3798",
   "metadata": {},
   "outputs": [
    {
     "data": {
      "text/plain": [
       "children            0\n",
       "days_employed       0\n",
       "dob_years           0\n",
       "education           0\n",
       "education_id        0\n",
       "family_status       0\n",
       "family_status_id    0\n",
       "gender              0\n",
       "income_type         0\n",
       "debt                0\n",
       "total_income        0\n",
       "purpose             0\n",
       "dtype: int64"
      ]
     },
     "execution_count": 12,
     "metadata": {},
     "output_type": "execute_result"
    }
   ],
   "source": [
    "df.isna().sum() # подсчёт пропусков"
   ]
  },
  {
   "cell_type": "markdown",
   "id": "91448871",
   "metadata": {},
   "source": [
    "### Шаг 2.3. Изменение типов данных."
   ]
  },
  {
   "cell_type": "markdown",
   "id": "2905eee1",
   "metadata": {},
   "source": [
    "Заменим вещественный тип данных в столбце total_income на целочисленный. Для этого воспользуемся методом astype()."
   ]
  },
  {
   "cell_type": "code",
   "execution_count": 13,
   "id": "2651659d",
   "metadata": {},
   "outputs": [],
   "source": [
    "df['total_income'] = df['total_income'].astype(int) #меняем float на int методом astype()"
   ]
  },
  {
   "cell_type": "markdown",
   "id": "8be480a9",
   "metadata": {},
   "source": [
    "Проверим, что у нас получилось. Для этого вызовем info()"
   ]
  },
  {
   "cell_type": "code",
   "execution_count": 14,
   "id": "e56c25b3",
   "metadata": {},
   "outputs": [
    {
     "name": "stdout",
     "output_type": "stream",
     "text": [
      "<class 'pandas.core.frame.DataFrame'>\n",
      "RangeIndex: 21525 entries, 0 to 21524\n",
      "Data columns (total 12 columns):\n",
      " #   Column            Non-Null Count  Dtype  \n",
      "---  ------            --------------  -----  \n",
      " 0   children          21525 non-null  int64  \n",
      " 1   days_employed     21525 non-null  float64\n",
      " 2   dob_years         21525 non-null  int64  \n",
      " 3   education         21525 non-null  object \n",
      " 4   education_id      21525 non-null  int64  \n",
      " 5   family_status     21525 non-null  object \n",
      " 6   family_status_id  21525 non-null  int64  \n",
      " 7   gender            21525 non-null  object \n",
      " 8   income_type       21525 non-null  object \n",
      " 9   debt              21525 non-null  int64  \n",
      " 10  total_income      21525 non-null  int32  \n",
      " 11  purpose           21525 non-null  object \n",
      "dtypes: float64(1), int32(1), int64(5), object(5)\n",
      "memory usage: 1.5+ MB\n"
     ]
    }
   ],
   "source": [
    "df.info()"
   ]
  },
  {
   "cell_type": "markdown",
   "id": "1f98a0b7",
   "metadata": {},
   "source": [
    "Таким образом мы заменили вещественный тип данных на целочисленный."
   ]
  },
  {
   "cell_type": "markdown",
   "id": "76d26d41",
   "metadata": {},
   "source": [
    "### Шаг 2.4. Удаление дубликатов."
   ]
  },
  {
   "cell_type": "markdown",
   "id": "11deae27",
   "metadata": {},
   "source": [
    "Сначала найдем явные дубликаты и посчитаем сколько таких строк."
   ]
  },
  {
   "cell_type": "code",
   "execution_count": 15,
   "id": "8124c1a4",
   "metadata": {},
   "outputs": [
    {
     "name": "stdout",
     "output_type": "stream",
     "text": [
      "54\n"
     ]
    }
   ],
   "source": [
    "print(df.duplicated().sum()) "
   ]
  },
  {
   "cell_type": "markdown",
   "id": "23083e86",
   "metadata": {},
   "source": [
    "Теперь с помощью специального метода удалим их:"
   ]
  },
  {
   "cell_type": "code",
   "execution_count": 16,
   "id": "174d5c10",
   "metadata": {},
   "outputs": [],
   "source": [
    "# удаление явных дубликатов (с удалением старых индексов и формированием новых)\n",
    "df = df.drop_duplicates().reset_index(drop=True)"
   ]
  },
  {
   "cell_type": "markdown",
   "id": "18fb7cc1",
   "metadata": {},
   "source": [
    "Еще раз посчитаем явные дубликаты, чтобы убедиться, что мы их удалили"
   ]
  },
  {
   "cell_type": "code",
   "execution_count": 17,
   "id": "adb948b2",
   "metadata": {},
   "outputs": [
    {
     "name": "stdout",
     "output_type": "stream",
     "text": [
      "0\n"
     ]
    }
   ],
   "source": [
    "print(df.duplicated().sum()) "
   ]
  },
  {
   "cell_type": "markdown",
   "id": "1d8c7d94",
   "metadata": {},
   "source": [
    "Теперь осталось избавиться от неявных дубликатов. Например, одна и та же информация может быть записана немного по-разному. Такие ошибки тоже повлияют на результат исследования.\n",
    "\n",
    "Для начала проверим на уникальность следующие столбцы: `education`, `family_status`, `income_type`.\n"
   ]
  },
  {
   "cell_type": "code",
   "execution_count": 18,
   "id": "0a7c0443",
   "metadata": {},
   "outputs": [
    {
     "name": "stdout",
     "output_type": "stream",
     "text": [
      "['ВЫСШЕЕ', 'Высшее', 'НАЧАЛЬНОЕ', 'НЕОКОНЧЕННОЕ ВЫСШЕЕ', 'Начальное', 'Неоконченное высшее', 'СРЕДНЕЕ', 'Среднее', 'УЧЕНАЯ СТЕПЕНЬ', 'Ученая степень', 'высшее', 'начальное', 'неоконченное высшее', 'среднее', 'ученая степень']\n"
     ]
    }
   ],
   "source": [
    "# Просмотр уникальных названий уровней образования\n",
    "print(sorted(df['education'].unique()))"
   ]
  },
  {
   "cell_type": "code",
   "execution_count": 19,
   "id": "543e7105",
   "metadata": {},
   "outputs": [
    {
     "name": "stdout",
     "output_type": "stream",
     "text": [
      "['Не женат / не замужем', 'в разводе', 'вдовец / вдова', 'гражданский брак', 'женат / замужем']\n"
     ]
    }
   ],
   "source": [
    "# Просмотр уникальных семейных статусов\n",
    "print(sorted(df['family_status'].unique()))"
   ]
  },
  {
   "cell_type": "code",
   "execution_count": 20,
   "id": "5dcd09ae",
   "metadata": {},
   "outputs": [
    {
     "name": "stdout",
     "output_type": "stream",
     "text": [
      "['безработный', 'в декрете', 'госслужащий', 'компаньон', 'пенсионер', 'предприниматель', 'сотрудник', 'студент']\n"
     ]
    }
   ],
   "source": [
    "# Просмотр уникальных типов занятости\n",
    "print(sorted(df['income_type'].unique()))"
   ]
  },
  {
   "cell_type": "markdown",
   "id": "bcac8aa3",
   "metadata": {},
   "source": [
    "Таким образом мы видим, что дубликаты есть только в столбце с уровнем образования. Одна и та же информация записана по-разному ( то строчными, то заглавными буквами). Для того, чтобы это исправить приведем все строки в нижний регистр методом str.lower()"
   ]
  },
  {
   "cell_type": "code",
   "execution_count": 21,
   "id": "e71b9c04",
   "metadata": {},
   "outputs": [],
   "source": [
    "df['education'] = df['education'].str.lower() #преобразуем все строки колонки education в нижний регистр"
   ]
  },
  {
   "cell_type": "markdown",
   "id": "1ee1bcfe",
   "metadata": {},
   "source": [
    "Проверим как теперь выглядят строки в столбце:"
   ]
  },
  {
   "cell_type": "code",
   "execution_count": 22,
   "id": "947f92de",
   "metadata": {},
   "outputs": [
    {
     "name": "stdout",
     "output_type": "stream",
     "text": [
      "['высшее', 'начальное', 'неоконченное высшее', 'среднее', 'ученая степень']\n"
     ]
    }
   ],
   "source": [
    "print(sorted(df['education'].unique())) ## Просмотр уникальных названий"
   ]
  },
  {
   "cell_type": "markdown",
   "id": "9ad280bb",
   "metadata": {},
   "source": [
    "Теперь с помощью специального метода удалим их:"
   ]
  },
  {
   "cell_type": "code",
   "execution_count": 23,
   "id": "e16a39c6",
   "metadata": {},
   "outputs": [],
   "source": [
    "# удаление явных дубликатов (с удалением старых индексов и формированием новых)\n",
    "df = df.drop_duplicates().reset_index(drop=True)"
   ]
  },
  {
   "cell_type": "markdown",
   "id": "8b832913",
   "metadata": {},
   "source": [
    "Еще раз посчитаем явные дубликаты, чтобы убедиться, что мы их удалили"
   ]
  },
  {
   "cell_type": "code",
   "execution_count": 24,
   "id": "c54d4908",
   "metadata": {},
   "outputs": [
    {
     "name": "stdout",
     "output_type": "stream",
     "text": [
      "0\n"
     ]
    }
   ],
   "source": [
    "print(df.duplicated().sum()) "
   ]
  },
  {
   "cell_type": "markdown",
   "id": "c00b0077",
   "metadata": {},
   "source": [
    "**Выводы**\n",
    "\n",
    "При изучении полученных данных были обнаружены три проблемы:\n",
    "\n",
    "- аномалии в данных,\n",
    "- пропущенные значения,\n",
    "- дубликаты — явные и неявные.\n",
    "\n",
    "Без дубликатов и аномалий исследование станет более точным.\n",
    "\n",
    "Пропуски мы заменили на `медианные значения`. \n",
    "\n",
    "Теперь можно перейти к проверке гипотез. "
   ]
  },
  {
   "cell_type": "markdown",
   "id": "cf604936",
   "metadata": {},
   "source": [
    "### Шаг 2.5. Формирование дополнительных датафреймов словарей, декомпозиция исходного датафрейма."
   ]
  },
  {
   "cell_type": "markdown",
   "id": "0106d86b",
   "metadata": {},
   "source": [
    "Для того чтобы ответить на поставленные вопросы, нам необходимо наши данные сначала преобразовать.\n",
    "\n",
    "Для начала сделаем два \"словаря\" датафрейма:\n",
    "* семейное положение\n",
    "* уровень образования"
   ]
  },
  {
   "cell_type": "code",
   "execution_count": 25,
   "id": "df83cc38",
   "metadata": {},
   "outputs": [
    {
     "data": {
      "text/html": [
       "<div>\n",
       "<style scoped>\n",
       "    .dataframe tbody tr th:only-of-type {\n",
       "        vertical-align: middle;\n",
       "    }\n",
       "\n",
       "    .dataframe tbody tr th {\n",
       "        vertical-align: top;\n",
       "    }\n",
       "\n",
       "    .dataframe thead th {\n",
       "        text-align: right;\n",
       "    }\n",
       "</style>\n",
       "<table border=\"1\" class=\"dataframe\">\n",
       "  <thead>\n",
       "    <tr style=\"text-align: right;\">\n",
       "      <th></th>\n",
       "      <th>education_id</th>\n",
       "      <th>education</th>\n",
       "    </tr>\n",
       "  </thead>\n",
       "  <tbody>\n",
       "    <tr>\n",
       "      <th>0</th>\n",
       "      <td>0</td>\n",
       "      <td>высшее</td>\n",
       "    </tr>\n",
       "    <tr>\n",
       "      <th>1</th>\n",
       "      <td>1</td>\n",
       "      <td>среднее</td>\n",
       "    </tr>\n",
       "    <tr>\n",
       "      <th>2</th>\n",
       "      <td>1</td>\n",
       "      <td>среднее</td>\n",
       "    </tr>\n",
       "    <tr>\n",
       "      <th>3</th>\n",
       "      <td>1</td>\n",
       "      <td>среднее</td>\n",
       "    </tr>\n",
       "    <tr>\n",
       "      <th>4</th>\n",
       "      <td>1</td>\n",
       "      <td>среднее</td>\n",
       "    </tr>\n",
       "    <tr>\n",
       "      <th>5</th>\n",
       "      <td>0</td>\n",
       "      <td>высшее</td>\n",
       "    </tr>\n",
       "    <tr>\n",
       "      <th>6</th>\n",
       "      <td>0</td>\n",
       "      <td>высшее</td>\n",
       "    </tr>\n",
       "    <tr>\n",
       "      <th>7</th>\n",
       "      <td>1</td>\n",
       "      <td>среднее</td>\n",
       "    </tr>\n",
       "    <tr>\n",
       "      <th>8</th>\n",
       "      <td>0</td>\n",
       "      <td>высшее</td>\n",
       "    </tr>\n",
       "    <tr>\n",
       "      <th>9</th>\n",
       "      <td>1</td>\n",
       "      <td>среднее</td>\n",
       "    </tr>\n",
       "  </tbody>\n",
       "</table>\n",
       "</div>"
      ],
      "text/plain": [
       "   education_id education\n",
       "0             0    высшее\n",
       "1             1   среднее\n",
       "2             1   среднее\n",
       "3             1   среднее\n",
       "4             1   среднее\n",
       "5             0    высшее\n",
       "6             0    высшее\n",
       "7             1   среднее\n",
       "8             0    высшее\n",
       "9             1   среднее"
      ]
     },
     "metadata": {},
     "output_type": "display_data"
    }
   ],
   "source": [
    "df_education=df[['education_id', 'education']] #созданим словарь семейного положения\n",
    "display(df_education.head(10))"
   ]
  },
  {
   "cell_type": "markdown",
   "id": "df364847",
   "metadata": {},
   "source": [
    "В «словаре» мы заметили большое количество дубликатов. Их нужно удалить. "
   ]
  },
  {
   "cell_type": "code",
   "execution_count": 26,
   "id": "9266197b",
   "metadata": {},
   "outputs": [
    {
     "data": {
      "text/html": [
       "<div>\n",
       "<style scoped>\n",
       "    .dataframe tbody tr th:only-of-type {\n",
       "        vertical-align: middle;\n",
       "    }\n",
       "\n",
       "    .dataframe tbody tr th {\n",
       "        vertical-align: top;\n",
       "    }\n",
       "\n",
       "    .dataframe thead th {\n",
       "        text-align: right;\n",
       "    }\n",
       "</style>\n",
       "<table border=\"1\" class=\"dataframe\">\n",
       "  <thead>\n",
       "    <tr style=\"text-align: right;\">\n",
       "      <th></th>\n",
       "      <th>education_id</th>\n",
       "      <th>education</th>\n",
       "    </tr>\n",
       "  </thead>\n",
       "  <tbody>\n",
       "    <tr>\n",
       "      <th>0</th>\n",
       "      <td>0</td>\n",
       "      <td>высшее</td>\n",
       "    </tr>\n",
       "    <tr>\n",
       "      <th>1</th>\n",
       "      <td>1</td>\n",
       "      <td>среднее</td>\n",
       "    </tr>\n",
       "    <tr>\n",
       "      <th>2</th>\n",
       "      <td>2</td>\n",
       "      <td>неоконченное высшее</td>\n",
       "    </tr>\n",
       "    <tr>\n",
       "      <th>3</th>\n",
       "      <td>3</td>\n",
       "      <td>начальное</td>\n",
       "    </tr>\n",
       "    <tr>\n",
       "      <th>4</th>\n",
       "      <td>4</td>\n",
       "      <td>ученая степень</td>\n",
       "    </tr>\n",
       "  </tbody>\n",
       "</table>\n",
       "</div>"
      ],
      "text/plain": [
       "   education_id            education\n",
       "0             0               высшее\n",
       "1             1              среднее\n",
       "2             2  неоконченное высшее\n",
       "3             3            начальное\n",
       "4             4       ученая степень"
      ]
     },
     "metadata": {},
     "output_type": "display_data"
    }
   ],
   "source": [
    "df_education = df_education.drop_duplicates().reset_index(drop=True) #Применим методы: drop_duplicates() и reset_index().\n",
    "display(df_education) #проверим результат"
   ]
  },
  {
   "cell_type": "markdown",
   "id": "9797cd8b",
   "metadata": {},
   "source": [
    "Аналогично создадим второй \"словарь\" семейное положение и удалим в нем дубликаты:"
   ]
  },
  {
   "cell_type": "code",
   "execution_count": 27,
   "id": "f654dcc1",
   "metadata": {},
   "outputs": [
    {
     "data": {
      "text/html": [
       "<div>\n",
       "<style scoped>\n",
       "    .dataframe tbody tr th:only-of-type {\n",
       "        vertical-align: middle;\n",
       "    }\n",
       "\n",
       "    .dataframe tbody tr th {\n",
       "        vertical-align: top;\n",
       "    }\n",
       "\n",
       "    .dataframe thead th {\n",
       "        text-align: right;\n",
       "    }\n",
       "</style>\n",
       "<table border=\"1\" class=\"dataframe\">\n",
       "  <thead>\n",
       "    <tr style=\"text-align: right;\">\n",
       "      <th></th>\n",
       "      <th>family_status_id</th>\n",
       "      <th>family_status</th>\n",
       "    </tr>\n",
       "  </thead>\n",
       "  <tbody>\n",
       "    <tr>\n",
       "      <th>0</th>\n",
       "      <td>0</td>\n",
       "      <td>женат / замужем</td>\n",
       "    </tr>\n",
       "    <tr>\n",
       "      <th>1</th>\n",
       "      <td>1</td>\n",
       "      <td>гражданский брак</td>\n",
       "    </tr>\n",
       "    <tr>\n",
       "      <th>2</th>\n",
       "      <td>2</td>\n",
       "      <td>вдовец / вдова</td>\n",
       "    </tr>\n",
       "    <tr>\n",
       "      <th>3</th>\n",
       "      <td>3</td>\n",
       "      <td>в разводе</td>\n",
       "    </tr>\n",
       "    <tr>\n",
       "      <th>4</th>\n",
       "      <td>4</td>\n",
       "      <td>Не женат / не замужем</td>\n",
       "    </tr>\n",
       "  </tbody>\n",
       "</table>\n",
       "</div>"
      ],
      "text/plain": [
       "   family_status_id          family_status\n",
       "0                 0        женат / замужем\n",
       "1                 1       гражданский брак\n",
       "2                 2         вдовец / вдова\n",
       "3                 3              в разводе\n",
       "4                 4  Не женат / не замужем"
      ]
     },
     "metadata": {},
     "output_type": "display_data"
    }
   ],
   "source": [
    "df_family = df[['family_status_id', 'family_status']] #создаем новый датафрейм\n",
    "df_family = df_family.drop_duplicates().reset_index(drop=True) #удаляем дубликаты\n",
    "display(df_family)"
   ]
  },
  {
   "cell_type": "markdown",
   "id": "34ca2445",
   "metadata": {},
   "source": [
    "Теперь удалим из исходного датафрейма столбцы education и family_status, оставив только их идентификаторы: education_id и family_status_id."
   ]
  },
  {
   "cell_type": "code",
   "execution_count": 28,
   "id": "cabc9c26",
   "metadata": {},
   "outputs": [
    {
     "data": {
      "text/html": [
       "<div>\n",
       "<style scoped>\n",
       "    .dataframe tbody tr th:only-of-type {\n",
       "        vertical-align: middle;\n",
       "    }\n",
       "\n",
       "    .dataframe tbody tr th {\n",
       "        vertical-align: top;\n",
       "    }\n",
       "\n",
       "    .dataframe thead th {\n",
       "        text-align: right;\n",
       "    }\n",
       "</style>\n",
       "<table border=\"1\" class=\"dataframe\">\n",
       "  <thead>\n",
       "    <tr style=\"text-align: right;\">\n",
       "      <th></th>\n",
       "      <th>children</th>\n",
       "      <th>days_employed</th>\n",
       "      <th>dob_years</th>\n",
       "      <th>education_id</th>\n",
       "      <th>family_status_id</th>\n",
       "      <th>gender</th>\n",
       "      <th>income_type</th>\n",
       "      <th>debt</th>\n",
       "      <th>total_income</th>\n",
       "      <th>purpose</th>\n",
       "    </tr>\n",
       "  </thead>\n",
       "  <tbody>\n",
       "    <tr>\n",
       "      <th>0</th>\n",
       "      <td>1</td>\n",
       "      <td>8437.673028</td>\n",
       "      <td>42</td>\n",
       "      <td>0</td>\n",
       "      <td>0</td>\n",
       "      <td>F</td>\n",
       "      <td>сотрудник</td>\n",
       "      <td>0</td>\n",
       "      <td>253875</td>\n",
       "      <td>покупка жилья</td>\n",
       "    </tr>\n",
       "    <tr>\n",
       "      <th>1</th>\n",
       "      <td>1</td>\n",
       "      <td>4024.803754</td>\n",
       "      <td>36</td>\n",
       "      <td>1</td>\n",
       "      <td>0</td>\n",
       "      <td>F</td>\n",
       "      <td>сотрудник</td>\n",
       "      <td>0</td>\n",
       "      <td>112080</td>\n",
       "      <td>приобретение автомобиля</td>\n",
       "    </tr>\n",
       "    <tr>\n",
       "      <th>2</th>\n",
       "      <td>0</td>\n",
       "      <td>5623.422610</td>\n",
       "      <td>33</td>\n",
       "      <td>1</td>\n",
       "      <td>0</td>\n",
       "      <td>M</td>\n",
       "      <td>сотрудник</td>\n",
       "      <td>0</td>\n",
       "      <td>145885</td>\n",
       "      <td>покупка жилья</td>\n",
       "    </tr>\n",
       "    <tr>\n",
       "      <th>3</th>\n",
       "      <td>3</td>\n",
       "      <td>4124.747207</td>\n",
       "      <td>32</td>\n",
       "      <td>1</td>\n",
       "      <td>0</td>\n",
       "      <td>M</td>\n",
       "      <td>сотрудник</td>\n",
       "      <td>0</td>\n",
       "      <td>267628</td>\n",
       "      <td>дополнительное образование</td>\n",
       "    </tr>\n",
       "    <tr>\n",
       "      <th>4</th>\n",
       "      <td>0</td>\n",
       "      <td>340266.072047</td>\n",
       "      <td>53</td>\n",
       "      <td>1</td>\n",
       "      <td>1</td>\n",
       "      <td>F</td>\n",
       "      <td>пенсионер</td>\n",
       "      <td>0</td>\n",
       "      <td>158616</td>\n",
       "      <td>сыграть свадьбу</td>\n",
       "    </tr>\n",
       "    <tr>\n",
       "      <th>5</th>\n",
       "      <td>0</td>\n",
       "      <td>926.185831</td>\n",
       "      <td>27</td>\n",
       "      <td>0</td>\n",
       "      <td>1</td>\n",
       "      <td>M</td>\n",
       "      <td>компаньон</td>\n",
       "      <td>0</td>\n",
       "      <td>255763</td>\n",
       "      <td>покупка жилья</td>\n",
       "    </tr>\n",
       "    <tr>\n",
       "      <th>6</th>\n",
       "      <td>0</td>\n",
       "      <td>2879.202052</td>\n",
       "      <td>43</td>\n",
       "      <td>0</td>\n",
       "      <td>0</td>\n",
       "      <td>F</td>\n",
       "      <td>компаньон</td>\n",
       "      <td>0</td>\n",
       "      <td>240525</td>\n",
       "      <td>операции с жильем</td>\n",
       "    </tr>\n",
       "    <tr>\n",
       "      <th>7</th>\n",
       "      <td>0</td>\n",
       "      <td>152.779569</td>\n",
       "      <td>50</td>\n",
       "      <td>1</td>\n",
       "      <td>0</td>\n",
       "      <td>M</td>\n",
       "      <td>сотрудник</td>\n",
       "      <td>0</td>\n",
       "      <td>135823</td>\n",
       "      <td>образование</td>\n",
       "    </tr>\n",
       "    <tr>\n",
       "      <th>8</th>\n",
       "      <td>2</td>\n",
       "      <td>6929.865299</td>\n",
       "      <td>35</td>\n",
       "      <td>0</td>\n",
       "      <td>1</td>\n",
       "      <td>F</td>\n",
       "      <td>сотрудник</td>\n",
       "      <td>0</td>\n",
       "      <td>95856</td>\n",
       "      <td>на проведение свадьбы</td>\n",
       "    </tr>\n",
       "    <tr>\n",
       "      <th>9</th>\n",
       "      <td>0</td>\n",
       "      <td>2188.756445</td>\n",
       "      <td>41</td>\n",
       "      <td>1</td>\n",
       "      <td>0</td>\n",
       "      <td>M</td>\n",
       "      <td>сотрудник</td>\n",
       "      <td>0</td>\n",
       "      <td>144425</td>\n",
       "      <td>покупка жилья для семьи</td>\n",
       "    </tr>\n",
       "  </tbody>\n",
       "</table>\n",
       "</div>"
      ],
      "text/plain": [
       "   children  days_employed  dob_years  education_id  family_status_id gender  \\\n",
       "0         1    8437.673028         42             0                 0      F   \n",
       "1         1    4024.803754         36             1                 0      F   \n",
       "2         0    5623.422610         33             1                 0      M   \n",
       "3         3    4124.747207         32             1                 0      M   \n",
       "4         0  340266.072047         53             1                 1      F   \n",
       "5         0     926.185831         27             0                 1      M   \n",
       "6         0    2879.202052         43             0                 0      F   \n",
       "7         0     152.779569         50             1                 0      M   \n",
       "8         2    6929.865299         35             0                 1      F   \n",
       "9         0    2188.756445         41             1                 0      M   \n",
       "\n",
       "  income_type  debt  total_income                     purpose  \n",
       "0   сотрудник     0        253875               покупка жилья  \n",
       "1   сотрудник     0        112080     приобретение автомобиля  \n",
       "2   сотрудник     0        145885               покупка жилья  \n",
       "3   сотрудник     0        267628  дополнительное образование  \n",
       "4   пенсионер     0        158616             сыграть свадьбу  \n",
       "5   компаньон     0        255763               покупка жилья  \n",
       "6   компаньон     0        240525           операции с жильем  \n",
       "7   сотрудник     0        135823                 образование  \n",
       "8   сотрудник     0         95856       на проведение свадьбы  \n",
       "9   сотрудник     0        144425     покупка жилья для семьи  "
      ]
     },
     "metadata": {},
     "output_type": "display_data"
    }
   ],
   "source": [
    "df=df.drop(['education', 'family_status'], axis=1) #удалим колонки с помощью метода drop()\n",
    "display(df.head(10))"
   ]
  },
  {
   "cell_type": "markdown",
   "id": "e7ee1795",
   "metadata": {},
   "source": [
    "### Шаг 2.6. Категоризация дохода."
   ]
  },
  {
   "cell_type": "markdown",
   "id": "977c4232",
   "metadata": {},
   "source": [
    "На основании диапазонов, указанных ниже, создадим столбец total_income_category с категориями:\n",
    "* 0–30000 — 'E';\n",
    "* 30001–50000 — 'D';\n",
    "* 50001–200000 — 'C';\n",
    "* 200001–1000000 — 'B';\n",
    "* 1000001 и выше — 'A'.\n",
    "\n",
    "Для этого создадим функцию total_income_category, которая будет делить уровень дохода по категориям указанным выше."
   ]
  },
  {
   "cell_type": "code",
   "execution_count": 29,
   "id": "9e689f27",
   "metadata": {},
   "outputs": [],
   "source": [
    "def total_income_category(total_income):\n",
    "    if total_income<=30000:\n",
    "        return 'E'\n",
    "    if total_income<=50000:\n",
    "        return 'D'\n",
    "    if total_income<=200000:\n",
    "        return 'C'\n",
    "    if total_income<=1000000:\n",
    "        return 'B'\n",
    "    if total_income>1000001:\n",
    "        return 'A'"
   ]
  },
  {
   "cell_type": "markdown",
   "id": "4bc99a62",
   "metadata": {},
   "source": [
    "Создаем отдельный столбец total_income_category, в ячейки которого будут записаны категории, которые вернет созданная функция."
   ]
  },
  {
   "cell_type": "code",
   "execution_count": 30,
   "id": "9aa27891",
   "metadata": {},
   "outputs": [
    {
     "data": {
      "text/html": [
       "<div>\n",
       "<style scoped>\n",
       "    .dataframe tbody tr th:only-of-type {\n",
       "        vertical-align: middle;\n",
       "    }\n",
       "\n",
       "    .dataframe tbody tr th {\n",
       "        vertical-align: top;\n",
       "    }\n",
       "\n",
       "    .dataframe thead th {\n",
       "        text-align: right;\n",
       "    }\n",
       "</style>\n",
       "<table border=\"1\" class=\"dataframe\">\n",
       "  <thead>\n",
       "    <tr style=\"text-align: right;\">\n",
       "      <th></th>\n",
       "      <th>children</th>\n",
       "      <th>days_employed</th>\n",
       "      <th>dob_years</th>\n",
       "      <th>education_id</th>\n",
       "      <th>family_status_id</th>\n",
       "      <th>gender</th>\n",
       "      <th>income_type</th>\n",
       "      <th>debt</th>\n",
       "      <th>total_income</th>\n",
       "      <th>purpose</th>\n",
       "      <th>total_income_category</th>\n",
       "    </tr>\n",
       "  </thead>\n",
       "  <tbody>\n",
       "    <tr>\n",
       "      <th>0</th>\n",
       "      <td>1</td>\n",
       "      <td>8437.673028</td>\n",
       "      <td>42</td>\n",
       "      <td>0</td>\n",
       "      <td>0</td>\n",
       "      <td>F</td>\n",
       "      <td>сотрудник</td>\n",
       "      <td>0</td>\n",
       "      <td>253875</td>\n",
       "      <td>покупка жилья</td>\n",
       "      <td>B</td>\n",
       "    </tr>\n",
       "    <tr>\n",
       "      <th>1</th>\n",
       "      <td>1</td>\n",
       "      <td>4024.803754</td>\n",
       "      <td>36</td>\n",
       "      <td>1</td>\n",
       "      <td>0</td>\n",
       "      <td>F</td>\n",
       "      <td>сотрудник</td>\n",
       "      <td>0</td>\n",
       "      <td>112080</td>\n",
       "      <td>приобретение автомобиля</td>\n",
       "      <td>C</td>\n",
       "    </tr>\n",
       "    <tr>\n",
       "      <th>2</th>\n",
       "      <td>0</td>\n",
       "      <td>5623.422610</td>\n",
       "      <td>33</td>\n",
       "      <td>1</td>\n",
       "      <td>0</td>\n",
       "      <td>M</td>\n",
       "      <td>сотрудник</td>\n",
       "      <td>0</td>\n",
       "      <td>145885</td>\n",
       "      <td>покупка жилья</td>\n",
       "      <td>C</td>\n",
       "    </tr>\n",
       "    <tr>\n",
       "      <th>3</th>\n",
       "      <td>3</td>\n",
       "      <td>4124.747207</td>\n",
       "      <td>32</td>\n",
       "      <td>1</td>\n",
       "      <td>0</td>\n",
       "      <td>M</td>\n",
       "      <td>сотрудник</td>\n",
       "      <td>0</td>\n",
       "      <td>267628</td>\n",
       "      <td>дополнительное образование</td>\n",
       "      <td>B</td>\n",
       "    </tr>\n",
       "    <tr>\n",
       "      <th>4</th>\n",
       "      <td>0</td>\n",
       "      <td>340266.072047</td>\n",
       "      <td>53</td>\n",
       "      <td>1</td>\n",
       "      <td>1</td>\n",
       "      <td>F</td>\n",
       "      <td>пенсионер</td>\n",
       "      <td>0</td>\n",
       "      <td>158616</td>\n",
       "      <td>сыграть свадьбу</td>\n",
       "      <td>C</td>\n",
       "    </tr>\n",
       "    <tr>\n",
       "      <th>5</th>\n",
       "      <td>0</td>\n",
       "      <td>926.185831</td>\n",
       "      <td>27</td>\n",
       "      <td>0</td>\n",
       "      <td>1</td>\n",
       "      <td>M</td>\n",
       "      <td>компаньон</td>\n",
       "      <td>0</td>\n",
       "      <td>255763</td>\n",
       "      <td>покупка жилья</td>\n",
       "      <td>B</td>\n",
       "    </tr>\n",
       "    <tr>\n",
       "      <th>6</th>\n",
       "      <td>0</td>\n",
       "      <td>2879.202052</td>\n",
       "      <td>43</td>\n",
       "      <td>0</td>\n",
       "      <td>0</td>\n",
       "      <td>F</td>\n",
       "      <td>компаньон</td>\n",
       "      <td>0</td>\n",
       "      <td>240525</td>\n",
       "      <td>операции с жильем</td>\n",
       "      <td>B</td>\n",
       "    </tr>\n",
       "    <tr>\n",
       "      <th>7</th>\n",
       "      <td>0</td>\n",
       "      <td>152.779569</td>\n",
       "      <td>50</td>\n",
       "      <td>1</td>\n",
       "      <td>0</td>\n",
       "      <td>M</td>\n",
       "      <td>сотрудник</td>\n",
       "      <td>0</td>\n",
       "      <td>135823</td>\n",
       "      <td>образование</td>\n",
       "      <td>C</td>\n",
       "    </tr>\n",
       "    <tr>\n",
       "      <th>8</th>\n",
       "      <td>2</td>\n",
       "      <td>6929.865299</td>\n",
       "      <td>35</td>\n",
       "      <td>0</td>\n",
       "      <td>1</td>\n",
       "      <td>F</td>\n",
       "      <td>сотрудник</td>\n",
       "      <td>0</td>\n",
       "      <td>95856</td>\n",
       "      <td>на проведение свадьбы</td>\n",
       "      <td>C</td>\n",
       "    </tr>\n",
       "    <tr>\n",
       "      <th>9</th>\n",
       "      <td>0</td>\n",
       "      <td>2188.756445</td>\n",
       "      <td>41</td>\n",
       "      <td>1</td>\n",
       "      <td>0</td>\n",
       "      <td>M</td>\n",
       "      <td>сотрудник</td>\n",
       "      <td>0</td>\n",
       "      <td>144425</td>\n",
       "      <td>покупка жилья для семьи</td>\n",
       "      <td>C</td>\n",
       "    </tr>\n",
       "  </tbody>\n",
       "</table>\n",
       "</div>"
      ],
      "text/plain": [
       "   children  days_employed  dob_years  education_id  family_status_id gender  \\\n",
       "0         1    8437.673028         42             0                 0      F   \n",
       "1         1    4024.803754         36             1                 0      F   \n",
       "2         0    5623.422610         33             1                 0      M   \n",
       "3         3    4124.747207         32             1                 0      M   \n",
       "4         0  340266.072047         53             1                 1      F   \n",
       "5         0     926.185831         27             0                 1      M   \n",
       "6         0    2879.202052         43             0                 0      F   \n",
       "7         0     152.779569         50             1                 0      M   \n",
       "8         2    6929.865299         35             0                 1      F   \n",
       "9         0    2188.756445         41             1                 0      M   \n",
       "\n",
       "  income_type  debt  total_income                     purpose  \\\n",
       "0   сотрудник     0        253875               покупка жилья   \n",
       "1   сотрудник     0        112080     приобретение автомобиля   \n",
       "2   сотрудник     0        145885               покупка жилья   \n",
       "3   сотрудник     0        267628  дополнительное образование   \n",
       "4   пенсионер     0        158616             сыграть свадьбу   \n",
       "5   компаньон     0        255763               покупка жилья   \n",
       "6   компаньон     0        240525           операции с жильем   \n",
       "7   сотрудник     0        135823                 образование   \n",
       "8   сотрудник     0         95856       на проведение свадьбы   \n",
       "9   сотрудник     0        144425     покупка жилья для семьи   \n",
       "\n",
       "  total_income_category  \n",
       "0                     B  \n",
       "1                     C  \n",
       "2                     C  \n",
       "3                     B  \n",
       "4                     C  \n",
       "5                     B  \n",
       "6                     B  \n",
       "7                     C  \n",
       "8                     C  \n",
       "9                     C  "
      ]
     },
     "metadata": {},
     "output_type": "display_data"
    }
   ],
   "source": [
    "#Для этого нужен метод apply(): он берёт значения столбца датафрейма и применяет к ним функцию из своего аргумента.\n",
    "df['total_income_category'] = df['total_income'].apply(total_income_category)\n",
    "display(df.head(10))"
   ]
  },
  {
   "cell_type": "markdown",
   "id": "c7471c7d",
   "metadata": {},
   "source": [
    "### Шаг 2.7. Категоризация целей кредита."
   ]
  },
  {
   "cell_type": "markdown",
   "id": "f9cb0e14",
   "metadata": {},
   "source": [
    "Cформируем новый столбец purpose_category, в который войдут следующие категории:\n",
    "* `операции с автомобилем`\n",
    "* `операции с недвижимостью`\n",
    "* `проведение сявадьбы`\n",
    "* `получение образовани`\n",
    "\n",
    "Для этого создадим новую функцию `purpose_category` и используем метод `apply()`\n",
    "\n",
    "Перед тем как создавать функцию нам необходимо изучить какие цели получения кредита есть в таблице с данными. "
   ]
  },
  {
   "cell_type": "code",
   "execution_count": 31,
   "id": "d83e8de1",
   "metadata": {},
   "outputs": [
    {
     "name": "stdout",
     "output_type": "stream",
     "text": [
      "['покупка жилья' 'приобретение автомобиля' 'дополнительное образование'\n",
      " 'сыграть свадьбу' 'операции с жильем' 'образование'\n",
      " 'на проведение свадьбы' 'покупка жилья для семьи' 'покупка недвижимости'\n",
      " 'покупка коммерческой недвижимости' 'покупка жилой недвижимости'\n",
      " 'строительство собственной недвижимости' 'недвижимость'\n",
      " 'строительство недвижимости' 'на покупку подержанного автомобиля'\n",
      " 'на покупку своего автомобиля' 'операции с коммерческой недвижимостью'\n",
      " 'строительство жилой недвижимости' 'жилье'\n",
      " 'операции со своей недвижимостью' 'автомобили' 'заняться образованием'\n",
      " 'сделка с подержанным автомобилем' 'получение образования' 'автомобиль'\n",
      " 'свадьба' 'получение дополнительного образования' 'покупка своего жилья'\n",
      " 'операции с недвижимостью' 'получение высшего образования'\n",
      " 'свой автомобиль' 'сделка с автомобилем' 'профильное образование'\n",
      " 'высшее образование' 'покупка жилья для сдачи' 'на покупку автомобиля'\n",
      " 'ремонт жилью' 'заняться высшим образованием']\n"
     ]
    }
   ],
   "source": [
    "print(df['purpose'].unique()) #проверим уникальные значения в столбце purpose"
   ]
  },
  {
   "cell_type": "markdown",
   "id": "c73cb0af",
   "metadata": {},
   "source": [
    "Мы видим, что цели можно разбить на четыре категории, причем такие цели как \"покупка жилья\" и \"операции с недвижимостью\" можно объединить в одну категорию \"операции с недвижимостью\"."
   ]
  },
  {
   "cell_type": "code",
   "execution_count": 32,
   "id": "ff6895b1",
   "metadata": {},
   "outputs": [],
   "source": [
    "# создаем функцию, которая будет на вход принимать значения purpose, а на выходе создавать категорию\n",
    "def purpose_category(purpose): \n",
    "    if 'жил'  in purpose or 'недвиж'  in purpose:\n",
    "        return 'операции с недвижимостью'\n",
    "    if 'авто' in purpose:\n",
    "        return 'операции с автомобилем'\n",
    "    if 'образов' in purpose:\n",
    "        return 'получение образования'\n",
    "    if 'свад' in purpose:\n",
    "        return 'проведение свадьбы'\n",
    "    "
   ]
  },
  {
   "cell_type": "code",
   "execution_count": 33,
   "id": "9c6636cd",
   "metadata": {},
   "outputs": [
    {
     "data": {
      "text/html": [
       "<div>\n",
       "<style scoped>\n",
       "    .dataframe tbody tr th:only-of-type {\n",
       "        vertical-align: middle;\n",
       "    }\n",
       "\n",
       "    .dataframe tbody tr th {\n",
       "        vertical-align: top;\n",
       "    }\n",
       "\n",
       "    .dataframe thead th {\n",
       "        text-align: right;\n",
       "    }\n",
       "</style>\n",
       "<table border=\"1\" class=\"dataframe\">\n",
       "  <thead>\n",
       "    <tr style=\"text-align: right;\">\n",
       "      <th></th>\n",
       "      <th>children</th>\n",
       "      <th>days_employed</th>\n",
       "      <th>dob_years</th>\n",
       "      <th>education_id</th>\n",
       "      <th>family_status_id</th>\n",
       "      <th>gender</th>\n",
       "      <th>income_type</th>\n",
       "      <th>debt</th>\n",
       "      <th>total_income</th>\n",
       "      <th>purpose</th>\n",
       "      <th>total_income_category</th>\n",
       "      <th>purpose_category</th>\n",
       "    </tr>\n",
       "  </thead>\n",
       "  <tbody>\n",
       "    <tr>\n",
       "      <th>0</th>\n",
       "      <td>1</td>\n",
       "      <td>8437.673028</td>\n",
       "      <td>42</td>\n",
       "      <td>0</td>\n",
       "      <td>0</td>\n",
       "      <td>F</td>\n",
       "      <td>сотрудник</td>\n",
       "      <td>0</td>\n",
       "      <td>253875</td>\n",
       "      <td>покупка жилья</td>\n",
       "      <td>B</td>\n",
       "      <td>операции с недвижимостью</td>\n",
       "    </tr>\n",
       "    <tr>\n",
       "      <th>1</th>\n",
       "      <td>1</td>\n",
       "      <td>4024.803754</td>\n",
       "      <td>36</td>\n",
       "      <td>1</td>\n",
       "      <td>0</td>\n",
       "      <td>F</td>\n",
       "      <td>сотрудник</td>\n",
       "      <td>0</td>\n",
       "      <td>112080</td>\n",
       "      <td>приобретение автомобиля</td>\n",
       "      <td>C</td>\n",
       "      <td>операции с автомобилем</td>\n",
       "    </tr>\n",
       "    <tr>\n",
       "      <th>2</th>\n",
       "      <td>0</td>\n",
       "      <td>5623.422610</td>\n",
       "      <td>33</td>\n",
       "      <td>1</td>\n",
       "      <td>0</td>\n",
       "      <td>M</td>\n",
       "      <td>сотрудник</td>\n",
       "      <td>0</td>\n",
       "      <td>145885</td>\n",
       "      <td>покупка жилья</td>\n",
       "      <td>C</td>\n",
       "      <td>операции с недвижимостью</td>\n",
       "    </tr>\n",
       "    <tr>\n",
       "      <th>3</th>\n",
       "      <td>3</td>\n",
       "      <td>4124.747207</td>\n",
       "      <td>32</td>\n",
       "      <td>1</td>\n",
       "      <td>0</td>\n",
       "      <td>M</td>\n",
       "      <td>сотрудник</td>\n",
       "      <td>0</td>\n",
       "      <td>267628</td>\n",
       "      <td>дополнительное образование</td>\n",
       "      <td>B</td>\n",
       "      <td>получение образования</td>\n",
       "    </tr>\n",
       "    <tr>\n",
       "      <th>4</th>\n",
       "      <td>0</td>\n",
       "      <td>340266.072047</td>\n",
       "      <td>53</td>\n",
       "      <td>1</td>\n",
       "      <td>1</td>\n",
       "      <td>F</td>\n",
       "      <td>пенсионер</td>\n",
       "      <td>0</td>\n",
       "      <td>158616</td>\n",
       "      <td>сыграть свадьбу</td>\n",
       "      <td>C</td>\n",
       "      <td>проведение свадьбы</td>\n",
       "    </tr>\n",
       "    <tr>\n",
       "      <th>5</th>\n",
       "      <td>0</td>\n",
       "      <td>926.185831</td>\n",
       "      <td>27</td>\n",
       "      <td>0</td>\n",
       "      <td>1</td>\n",
       "      <td>M</td>\n",
       "      <td>компаньон</td>\n",
       "      <td>0</td>\n",
       "      <td>255763</td>\n",
       "      <td>покупка жилья</td>\n",
       "      <td>B</td>\n",
       "      <td>операции с недвижимостью</td>\n",
       "    </tr>\n",
       "    <tr>\n",
       "      <th>6</th>\n",
       "      <td>0</td>\n",
       "      <td>2879.202052</td>\n",
       "      <td>43</td>\n",
       "      <td>0</td>\n",
       "      <td>0</td>\n",
       "      <td>F</td>\n",
       "      <td>компаньон</td>\n",
       "      <td>0</td>\n",
       "      <td>240525</td>\n",
       "      <td>операции с жильем</td>\n",
       "      <td>B</td>\n",
       "      <td>операции с недвижимостью</td>\n",
       "    </tr>\n",
       "    <tr>\n",
       "      <th>7</th>\n",
       "      <td>0</td>\n",
       "      <td>152.779569</td>\n",
       "      <td>50</td>\n",
       "      <td>1</td>\n",
       "      <td>0</td>\n",
       "      <td>M</td>\n",
       "      <td>сотрудник</td>\n",
       "      <td>0</td>\n",
       "      <td>135823</td>\n",
       "      <td>образование</td>\n",
       "      <td>C</td>\n",
       "      <td>получение образования</td>\n",
       "    </tr>\n",
       "    <tr>\n",
       "      <th>8</th>\n",
       "      <td>2</td>\n",
       "      <td>6929.865299</td>\n",
       "      <td>35</td>\n",
       "      <td>0</td>\n",
       "      <td>1</td>\n",
       "      <td>F</td>\n",
       "      <td>сотрудник</td>\n",
       "      <td>0</td>\n",
       "      <td>95856</td>\n",
       "      <td>на проведение свадьбы</td>\n",
       "      <td>C</td>\n",
       "      <td>проведение свадьбы</td>\n",
       "    </tr>\n",
       "    <tr>\n",
       "      <th>9</th>\n",
       "      <td>0</td>\n",
       "      <td>2188.756445</td>\n",
       "      <td>41</td>\n",
       "      <td>1</td>\n",
       "      <td>0</td>\n",
       "      <td>M</td>\n",
       "      <td>сотрудник</td>\n",
       "      <td>0</td>\n",
       "      <td>144425</td>\n",
       "      <td>покупка жилья для семьи</td>\n",
       "      <td>C</td>\n",
       "      <td>операции с недвижимостью</td>\n",
       "    </tr>\n",
       "  </tbody>\n",
       "</table>\n",
       "</div>"
      ],
      "text/plain": [
       "   children  days_employed  dob_years  education_id  family_status_id gender  \\\n",
       "0         1    8437.673028         42             0                 0      F   \n",
       "1         1    4024.803754         36             1                 0      F   \n",
       "2         0    5623.422610         33             1                 0      M   \n",
       "3         3    4124.747207         32             1                 0      M   \n",
       "4         0  340266.072047         53             1                 1      F   \n",
       "5         0     926.185831         27             0                 1      M   \n",
       "6         0    2879.202052         43             0                 0      F   \n",
       "7         0     152.779569         50             1                 0      M   \n",
       "8         2    6929.865299         35             0                 1      F   \n",
       "9         0    2188.756445         41             1                 0      M   \n",
       "\n",
       "  income_type  debt  total_income                     purpose  \\\n",
       "0   сотрудник     0        253875               покупка жилья   \n",
       "1   сотрудник     0        112080     приобретение автомобиля   \n",
       "2   сотрудник     0        145885               покупка жилья   \n",
       "3   сотрудник     0        267628  дополнительное образование   \n",
       "4   пенсионер     0        158616             сыграть свадьбу   \n",
       "5   компаньон     0        255763               покупка жилья   \n",
       "6   компаньон     0        240525           операции с жильем   \n",
       "7   сотрудник     0        135823                 образование   \n",
       "8   сотрудник     0         95856       на проведение свадьбы   \n",
       "9   сотрудник     0        144425     покупка жилья для семьи   \n",
       "\n",
       "  total_income_category          purpose_category  \n",
       "0                     B  операции с недвижимостью  \n",
       "1                     C    операции с автомобилем  \n",
       "2                     C  операции с недвижимостью  \n",
       "3                     B     получение образования  \n",
       "4                     C        проведение свадьбы  \n",
       "5                     B  операции с недвижимостью  \n",
       "6                     B  операции с недвижимостью  \n",
       "7                     C     получение образования  \n",
       "8                     C        проведение свадьбы  \n",
       "9                     C  операции с недвижимостью  "
      ]
     },
     "metadata": {},
     "output_type": "display_data"
    }
   ],
   "source": [
    "#используем метод apply, он берёт значения столбца purpose и применяет к ним функцию purpose_category из своего аргумента\n",
    "df['purpose_category']=df['purpose'].apply(purpose_category)\n",
    "display(df.head(10))"
   ]
  },
  {
   "cell_type": "code",
   "execution_count": 34,
   "id": "6b185984",
   "metadata": {},
   "outputs": [
    {
     "name": "stdout",
     "output_type": "stream",
     "text": [
      "['операции с недвижимостью' 'операции с автомобилем'\n",
      " 'получение образования' 'проведение свадьбы']\n"
     ]
    }
   ],
   "source": [
    "print(df['purpose_category'].unique()) #проверим какие категории у нас получились и все ли данные распределились"
   ]
  },
  {
   "cell_type": "markdown",
   "id": "e8d8efe7",
   "metadata": {},
   "source": [
    "В итоге получили дополнительный столбец `purpose_category` с разбивкой на четыре категории:\n",
    "* `операции с автомобилем`\n",
    "* `операции с недвижимостью`\n",
    "* `проведение сявадьбы`\n",
    "* `получение образовани`"
   ]
  },
  {
   "cell_type": "markdown",
   "id": "8e641336",
   "metadata": {},
   "source": [
    "### Ответы на вопросы."
   ]
  },
  {
   "cell_type": "markdown",
   "id": "844f8730",
   "metadata": {},
   "source": [
    "##### Вопрос 1:"
   ]
  },
  {
   "cell_type": "markdown",
   "id": "60fa48dd",
   "metadata": {},
   "source": [
    "#### Есть ли зависимость между количеством детей и возвратом кредита в срок?"
   ]
  },
  {
   "cell_type": "markdown",
   "id": "d8735cef",
   "metadata": {},
   "source": [
    "Для того чтобы ответить на этот вопрос создадим сводную таблицу с помощью метода pivot_table()"
   ]
  },
  {
   "cell_type": "code",
   "execution_count": 35,
   "id": "19b28c10",
   "metadata": {},
   "outputs": [
    {
     "data": {
      "text/html": [
       "<div>\n",
       "<style scoped>\n",
       "    .dataframe tbody tr th:only-of-type {\n",
       "        vertical-align: middle;\n",
       "    }\n",
       "\n",
       "    .dataframe tbody tr th {\n",
       "        vertical-align: top;\n",
       "    }\n",
       "\n",
       "    .dataframe thead th {\n",
       "        text-align: right;\n",
       "    }\n",
       "</style>\n",
       "<table border=\"1\" class=\"dataframe\">\n",
       "  <thead>\n",
       "    <tr style=\"text-align: right;\">\n",
       "      <th>debt</th>\n",
       "      <th>0</th>\n",
       "      <th>1</th>\n",
       "    </tr>\n",
       "    <tr>\n",
       "      <th>children</th>\n",
       "      <th></th>\n",
       "      <th></th>\n",
       "    </tr>\n",
       "  </thead>\n",
       "  <tbody>\n",
       "    <tr>\n",
       "      <th>-1</th>\n",
       "      <td>46.0</td>\n",
       "      <td>1.0</td>\n",
       "    </tr>\n",
       "    <tr>\n",
       "      <th>0</th>\n",
       "      <td>13028.0</td>\n",
       "      <td>1063.0</td>\n",
       "    </tr>\n",
       "    <tr>\n",
       "      <th>1</th>\n",
       "      <td>4364.0</td>\n",
       "      <td>444.0</td>\n",
       "    </tr>\n",
       "    <tr>\n",
       "      <th>2</th>\n",
       "      <td>1858.0</td>\n",
       "      <td>194.0</td>\n",
       "    </tr>\n",
       "    <tr>\n",
       "      <th>3</th>\n",
       "      <td>303.0</td>\n",
       "      <td>27.0</td>\n",
       "    </tr>\n",
       "    <tr>\n",
       "      <th>4</th>\n",
       "      <td>37.0</td>\n",
       "      <td>4.0</td>\n",
       "    </tr>\n",
       "    <tr>\n",
       "      <th>5</th>\n",
       "      <td>9.0</td>\n",
       "      <td>NaN</td>\n",
       "    </tr>\n",
       "    <tr>\n",
       "      <th>20</th>\n",
       "      <td>68.0</td>\n",
       "      <td>8.0</td>\n",
       "    </tr>\n",
       "  </tbody>\n",
       "</table>\n",
       "</div>"
      ],
      "text/plain": [
       "debt            0       1\n",
       "children                 \n",
       "-1           46.0     1.0\n",
       " 0        13028.0  1063.0\n",
       " 1         4364.0   444.0\n",
       " 2         1858.0   194.0\n",
       " 3          303.0    27.0\n",
       " 4           37.0     4.0\n",
       " 5            9.0     NaN\n",
       " 20          68.0     8.0"
      ]
     },
     "execution_count": 35,
     "metadata": {},
     "output_type": "execute_result"
    }
   ],
   "source": [
    "#сводная таблица методом pivot_table, где строки количество детей, а столбцы - была ли задолжность\n",
    "pivot_children = df.pivot_table(index='children', columns='debt', values='purpose_category', aggfunc='count')\n",
    "pivot_children"
   ]
  },
  {
   "cell_type": "markdown",
   "id": "835f7821",
   "metadata": {},
   "source": [
    "Благодаря этой сводной таблице, мы видим еще одну аномалию - отрицательное число и 20 детей. Скорей всего это человеческий фактор или сбой при выгрузке данных. Исправим этот недочет."
   ]
  },
  {
   "cell_type": "code",
   "execution_count": 36,
   "id": "4398d789",
   "metadata": {},
   "outputs": [
    {
     "data": {
      "text/plain": [
       "0.21907336627202387"
      ]
     },
     "execution_count": 36,
     "metadata": {},
     "output_type": "execute_result"
    }
   ],
   "source": [
    "#доля по отрицательным значениям\n",
    "len(df[df['children']==-1])/len(df['children'])*100"
   ]
  },
  {
   "cell_type": "code",
   "execution_count": 37,
   "id": "f0aabb09",
   "metadata": {},
   "outputs": [
    {
     "data": {
      "text/plain": [
       "0.3542462943973152"
      ]
     },
     "execution_count": 37,
     "metadata": {},
     "output_type": "execute_result"
    }
   ],
   "source": [
    "#доля по значению 20 детей\n",
    "len(df[df['children']==20])/len(df['children'])*100"
   ]
  },
  {
   "cell_type": "markdown",
   "id": "d73ec02b",
   "metadata": {},
   "source": [
    "Получаем по каждой аномалии доли меньше одного процента (которые не сможет оказать влияние на расчет) и соответственно можем смело исправить эти ошибки."
   ]
  },
  {
   "cell_type": "code",
   "execution_count": 38,
   "id": "ded6e205",
   "metadata": {},
   "outputs": [
    {
     "data": {
      "text/html": [
       "<div>\n",
       "<style scoped>\n",
       "    .dataframe tbody tr th:only-of-type {\n",
       "        vertical-align: middle;\n",
       "    }\n",
       "\n",
       "    .dataframe tbody tr th {\n",
       "        vertical-align: top;\n",
       "    }\n",
       "\n",
       "    .dataframe thead th {\n",
       "        text-align: right;\n",
       "    }\n",
       "</style>\n",
       "<table border=\"1\" class=\"dataframe\">\n",
       "  <thead>\n",
       "    <tr style=\"text-align: right;\">\n",
       "      <th>debt</th>\n",
       "      <th>0</th>\n",
       "      <th>1</th>\n",
       "    </tr>\n",
       "    <tr>\n",
       "      <th>children</th>\n",
       "      <th></th>\n",
       "      <th></th>\n",
       "    </tr>\n",
       "  </thead>\n",
       "  <tbody>\n",
       "    <tr>\n",
       "      <th>0</th>\n",
       "      <td>13028.0</td>\n",
       "      <td>1063.0</td>\n",
       "    </tr>\n",
       "    <tr>\n",
       "      <th>1</th>\n",
       "      <td>4410.0</td>\n",
       "      <td>445.0</td>\n",
       "    </tr>\n",
       "    <tr>\n",
       "      <th>2</th>\n",
       "      <td>1926.0</td>\n",
       "      <td>202.0</td>\n",
       "    </tr>\n",
       "    <tr>\n",
       "      <th>3</th>\n",
       "      <td>303.0</td>\n",
       "      <td>27.0</td>\n",
       "    </tr>\n",
       "    <tr>\n",
       "      <th>4</th>\n",
       "      <td>37.0</td>\n",
       "      <td>4.0</td>\n",
       "    </tr>\n",
       "    <tr>\n",
       "      <th>5</th>\n",
       "      <td>9.0</td>\n",
       "      <td>NaN</td>\n",
       "    </tr>\n",
       "  </tbody>\n",
       "</table>\n",
       "</div>"
      ],
      "text/plain": [
       "debt            0       1\n",
       "children                 \n",
       "0         13028.0  1063.0\n",
       "1          4410.0   445.0\n",
       "2          1926.0   202.0\n",
       "3           303.0    27.0\n",
       "4            37.0     4.0\n",
       "5             9.0     NaN"
      ]
     },
     "execution_count": 38,
     "metadata": {},
     "output_type": "execute_result"
    }
   ],
   "source": [
    "# заменим отрицательное значение на положительное и 20 детей исправим на 2 ребенка с помощью loc и повторно сформируем сводную таблицу\n",
    "df.loc[df['children'] < 0, 'children'] = abs(df['children']) #найдем и заменим отрицательное значение\n",
    "df.loc[df['children']==20, 'children'] = 2\n",
    "pivot_children = df.pivot_table(index='children', columns='debt', values='purpose_category', aggfunc='count')\n",
    "pivot_children"
   ]
  },
  {
   "cell_type": "code",
   "execution_count": 39,
   "id": "85e20af3",
   "metadata": {},
   "outputs": [
    {
     "data": {
      "text/plain": [
       "F      14174\n",
       "M       7279\n",
       "XNA        1\n",
       "Name: gender, dtype: int64"
      ]
     },
     "execution_count": 39,
     "metadata": {},
     "output_type": "execute_result"
    }
   ],
   "source": [
    "# Посчитаем уникальные значения столбца с данными пола методом value_counts()\n",
    "df['gender'].value_counts()"
   ]
  },
  {
   "cell_type": "markdown",
   "id": "ff5dd4ff",
   "metadata": {},
   "source": [
    "Мы обнаружили еще одну аномалию - это единичное значение XNA. Тк этот столбец не используется в расчетах и все таки это единичный случай, который ни на что не может повлиять, поэтому мы можем оставить эту строку без изменений."
   ]
  },
  {
   "cell_type": "markdown",
   "id": "0e73a5c5",
   "metadata": {},
   "source": [
    "Изучая полученную таблицу, мы видим зависимость задолжности от количества детей, то есть с увеличением детей уменьшается количество фактов задолжности. Но также мы видим уменьшение количества кредитов без задолжностей. Поэтому однозначно ответить на поставленный вопрос мы пока не можем. \n",
    "\n"
   ]
  },
  {
   "cell_type": "code",
   "execution_count": 40,
   "id": "3ee49754",
   "metadata": {},
   "outputs": [
    {
     "data": {
      "text/html": [
       "<div>\n",
       "<style scoped>\n",
       "    .dataframe tbody tr th:only-of-type {\n",
       "        vertical-align: middle;\n",
       "    }\n",
       "\n",
       "    .dataframe tbody tr th {\n",
       "        vertical-align: top;\n",
       "    }\n",
       "\n",
       "    .dataframe thead tr th {\n",
       "        text-align: left;\n",
       "    }\n",
       "\n",
       "    .dataframe thead tr:last-of-type th {\n",
       "        text-align: right;\n",
       "    }\n",
       "</style>\n",
       "<table border=\"1\" class=\"dataframe\">\n",
       "  <thead>\n",
       "    <tr>\n",
       "      <th></th>\n",
       "      <th>count</th>\n",
       "      <th>sum</th>\n",
       "      <th>mean</th>\n",
       "    </tr>\n",
       "    <tr>\n",
       "      <th></th>\n",
       "      <th>debt</th>\n",
       "      <th>debt</th>\n",
       "      <th>debt</th>\n",
       "    </tr>\n",
       "    <tr>\n",
       "      <th>children</th>\n",
       "      <th></th>\n",
       "      <th></th>\n",
       "      <th></th>\n",
       "    </tr>\n",
       "  </thead>\n",
       "  <tbody>\n",
       "    <tr>\n",
       "      <th>0</th>\n",
       "      <td>14091</td>\n",
       "      <td>1063</td>\n",
       "      <td>0.075438</td>\n",
       "    </tr>\n",
       "    <tr>\n",
       "      <th>1</th>\n",
       "      <td>4855</td>\n",
       "      <td>445</td>\n",
       "      <td>0.091658</td>\n",
       "    </tr>\n",
       "    <tr>\n",
       "      <th>2</th>\n",
       "      <td>2128</td>\n",
       "      <td>202</td>\n",
       "      <td>0.094925</td>\n",
       "    </tr>\n",
       "    <tr>\n",
       "      <th>3</th>\n",
       "      <td>330</td>\n",
       "      <td>27</td>\n",
       "      <td>0.081818</td>\n",
       "    </tr>\n",
       "    <tr>\n",
       "      <th>4</th>\n",
       "      <td>41</td>\n",
       "      <td>4</td>\n",
       "      <td>0.097561</td>\n",
       "    </tr>\n",
       "    <tr>\n",
       "      <th>5</th>\n",
       "      <td>9</td>\n",
       "      <td>0</td>\n",
       "      <td>0.000000</td>\n",
       "    </tr>\n",
       "  </tbody>\n",
       "</table>\n",
       "</div>"
      ],
      "text/plain": [
       "          count   sum      mean\n",
       "           debt  debt      debt\n",
       "children                       \n",
       "0         14091  1063  0.075438\n",
       "1          4855   445  0.091658\n",
       "2          2128   202  0.094925\n",
       "3           330    27  0.081818\n",
       "4            41     4  0.097561\n",
       "5             9     0  0.000000"
      ]
     },
     "execution_count": 40,
     "metadata": {},
     "output_type": "execute_result"
    }
   ],
   "source": [
    "#соберем новый сводник, где сразу сделаем аггрегацию по среднему, сумме и кол-ву  (aggfunc=['count', 'sum', 'mean']),\n",
    "# и в результате получим долю:\n",
    "df.pivot_table(index='children', values='debt', aggfunc=['count', 'sum', 'mean'])\n"
   ]
  },
  {
   "cell_type": "markdown",
   "id": "104aba76",
   "metadata": {},
   "source": [
    "В результате получаем следующие данные:\n",
    " * count- общее количество строк по каждой категории детей\n",
    " * sum - количество просрочек (благодаря тому что у нас есть два значение 0 и 1, поэтому мы сложили сколько всего 1 по категории)\n",
    " * mean - таким образом мы получили долю ( отношение количества единиц поделенное на общее количество строк по каждой категории)\n",
    "    "
   ]
  },
  {
   "cell_type": "markdown",
   "id": "f9b57be2",
   "metadata": {},
   "source": [
    "##### Вывод 1:"
   ]
  },
  {
   "cell_type": "markdown",
   "id": "946a3b17",
   "metadata": {},
   "source": [
    "Данные показвают, что:\n",
    "* когда у клиента детей нет вообще, то процент задолжностей явно ниже, чем у клиентов с детьми\n",
    "* когда дети есть, то с увеличением количества детей процент задолжностей незначительно но тоже увеличивается\n",
    "* с увеличением количества детей, количество выданных кредитов значительно сокращается.\n",
    "\n",
    "Значит, однозначно можно сказать, что зависимость между наличием/отсутствием детей и возвратов кредита в срок есть, а вот уже непосредственно от количества детей зависимость уже не такая явная.  "
   ]
  },
  {
   "cell_type": "markdown",
   "id": "0487b0ae",
   "metadata": {},
   "source": [
    "##### Вопрос 2:"
   ]
  },
  {
   "cell_type": "markdown",
   "id": "110c1281",
   "metadata": {},
   "source": [
    "#### Есть ли зависимость между семейным положением и возвратом кредита в срок?"
   ]
  },
  {
   "cell_type": "markdown",
   "id": "841e0b7a",
   "metadata": {},
   "source": [
    "Для того чтобы ответить на этот вопрос создадим сводную таблицу с помощью метода pivot_table()"
   ]
  },
  {
   "cell_type": "code",
   "execution_count": 41,
   "id": "a4043caf",
   "metadata": {},
   "outputs": [
    {
     "data": {
      "text/html": [
       "<div>\n",
       "<style scoped>\n",
       "    .dataframe tbody tr th:only-of-type {\n",
       "        vertical-align: middle;\n",
       "    }\n",
       "\n",
       "    .dataframe tbody tr th {\n",
       "        vertical-align: top;\n",
       "    }\n",
       "\n",
       "    .dataframe thead th {\n",
       "        text-align: right;\n",
       "    }\n",
       "</style>\n",
       "<table border=\"1\" class=\"dataframe\">\n",
       "  <thead>\n",
       "    <tr style=\"text-align: right;\">\n",
       "      <th>debt</th>\n",
       "      <th>0</th>\n",
       "      <th>1</th>\n",
       "    </tr>\n",
       "    <tr>\n",
       "      <th>family_status_id</th>\n",
       "      <th></th>\n",
       "      <th></th>\n",
       "    </tr>\n",
       "  </thead>\n",
       "  <tbody>\n",
       "    <tr>\n",
       "      <th>0</th>\n",
       "      <td>11408</td>\n",
       "      <td>931</td>\n",
       "    </tr>\n",
       "    <tr>\n",
       "      <th>1</th>\n",
       "      <td>3763</td>\n",
       "      <td>388</td>\n",
       "    </tr>\n",
       "    <tr>\n",
       "      <th>2</th>\n",
       "      <td>896</td>\n",
       "      <td>63</td>\n",
       "    </tr>\n",
       "    <tr>\n",
       "      <th>3</th>\n",
       "      <td>1110</td>\n",
       "      <td>85</td>\n",
       "    </tr>\n",
       "    <tr>\n",
       "      <th>4</th>\n",
       "      <td>2536</td>\n",
       "      <td>274</td>\n",
       "    </tr>\n",
       "  </tbody>\n",
       "</table>\n",
       "</div>"
      ],
      "text/plain": [
       "debt                  0    1\n",
       "family_status_id            \n",
       "0                 11408  931\n",
       "1                  3763  388\n",
       "2                   896   63\n",
       "3                  1110   85\n",
       "4                  2536  274"
      ]
     },
     "execution_count": 41,
     "metadata": {},
     "output_type": "execute_result"
    }
   ],
   "source": [
    "#сводная таблица методом pivot_table, где строки семейное положение, а столбцы - была ли задолжность\n",
    "pivot_family_status = df.pivot_table(index='family_status_id', columns='debt', values='purpose_category', aggfunc='count')\n",
    "pivot_family_status"
   ]
  },
  {
   "cell_type": "markdown",
   "id": "4b2d20f2",
   "metadata": {},
   "source": [
    "Из этой сводной таблицы не понятно где какой статус семейного положения. Для этого мы выгрузим ранее созданный словарь df_family"
   ]
  },
  {
   "cell_type": "code",
   "execution_count": 42,
   "id": "e97ba564",
   "metadata": {},
   "outputs": [
    {
     "data": {
      "text/html": [
       "<div>\n",
       "<style scoped>\n",
       "    .dataframe tbody tr th:only-of-type {\n",
       "        vertical-align: middle;\n",
       "    }\n",
       "\n",
       "    .dataframe tbody tr th {\n",
       "        vertical-align: top;\n",
       "    }\n",
       "\n",
       "    .dataframe thead th {\n",
       "        text-align: right;\n",
       "    }\n",
       "</style>\n",
       "<table border=\"1\" class=\"dataframe\">\n",
       "  <thead>\n",
       "    <tr style=\"text-align: right;\">\n",
       "      <th></th>\n",
       "      <th>family_status_id</th>\n",
       "      <th>family_status</th>\n",
       "    </tr>\n",
       "  </thead>\n",
       "  <tbody>\n",
       "    <tr>\n",
       "      <th>0</th>\n",
       "      <td>0</td>\n",
       "      <td>женат / замужем</td>\n",
       "    </tr>\n",
       "    <tr>\n",
       "      <th>1</th>\n",
       "      <td>1</td>\n",
       "      <td>гражданский брак</td>\n",
       "    </tr>\n",
       "    <tr>\n",
       "      <th>2</th>\n",
       "      <td>2</td>\n",
       "      <td>вдовец / вдова</td>\n",
       "    </tr>\n",
       "    <tr>\n",
       "      <th>3</th>\n",
       "      <td>3</td>\n",
       "      <td>в разводе</td>\n",
       "    </tr>\n",
       "    <tr>\n",
       "      <th>4</th>\n",
       "      <td>4</td>\n",
       "      <td>Не женат / не замужем</td>\n",
       "    </tr>\n",
       "  </tbody>\n",
       "</table>\n",
       "</div>"
      ],
      "text/plain": [
       "   family_status_id          family_status\n",
       "0                 0        женат / замужем\n",
       "1                 1       гражданский брак\n",
       "2                 2         вдовец / вдова\n",
       "3                 3              в разводе\n",
       "4                 4  Не женат / не замужем"
      ]
     },
     "metadata": {},
     "output_type": "display_data"
    }
   ],
   "source": [
    "display(df_family)"
   ]
  },
  {
   "cell_type": "markdown",
   "id": "10cd04eb",
   "metadata": {},
   "source": [
    "Но так смотреть не удобно, поэтому соединим две таблицы в одну"
   ]
  },
  {
   "cell_type": "code",
   "execution_count": 43,
   "id": "441ee66a",
   "metadata": {},
   "outputs": [
    {
     "data": {
      "text/html": [
       "<div>\n",
       "<style scoped>\n",
       "    .dataframe tbody tr th:only-of-type {\n",
       "        vertical-align: middle;\n",
       "    }\n",
       "\n",
       "    .dataframe tbody tr th {\n",
       "        vertical-align: top;\n",
       "    }\n",
       "\n",
       "    .dataframe thead th {\n",
       "        text-align: right;\n",
       "    }\n",
       "</style>\n",
       "<table border=\"1\" class=\"dataframe\">\n",
       "  <thead>\n",
       "    <tr style=\"text-align: right;\">\n",
       "      <th></th>\n",
       "      <th>family_status_id</th>\n",
       "      <th>family_status</th>\n",
       "      <th>0</th>\n",
       "      <th>1</th>\n",
       "    </tr>\n",
       "  </thead>\n",
       "  <tbody>\n",
       "    <tr>\n",
       "      <th>0</th>\n",
       "      <td>0</td>\n",
       "      <td>женат / замужем</td>\n",
       "      <td>11408</td>\n",
       "      <td>931</td>\n",
       "    </tr>\n",
       "    <tr>\n",
       "      <th>1</th>\n",
       "      <td>1</td>\n",
       "      <td>гражданский брак</td>\n",
       "      <td>3763</td>\n",
       "      <td>388</td>\n",
       "    </tr>\n",
       "    <tr>\n",
       "      <th>2</th>\n",
       "      <td>2</td>\n",
       "      <td>вдовец / вдова</td>\n",
       "      <td>896</td>\n",
       "      <td>63</td>\n",
       "    </tr>\n",
       "    <tr>\n",
       "      <th>3</th>\n",
       "      <td>3</td>\n",
       "      <td>в разводе</td>\n",
       "      <td>1110</td>\n",
       "      <td>85</td>\n",
       "    </tr>\n",
       "    <tr>\n",
       "      <th>4</th>\n",
       "      <td>4</td>\n",
       "      <td>Не женат / не замужем</td>\n",
       "      <td>2536</td>\n",
       "      <td>274</td>\n",
       "    </tr>\n",
       "  </tbody>\n",
       "</table>\n",
       "</div>"
      ],
      "text/plain": [
       "   family_status_id          family_status      0    1\n",
       "0                 0        женат / замужем  11408  931\n",
       "1                 1       гражданский брак   3763  388\n",
       "2                 2         вдовец / вдова    896   63\n",
       "3                 3              в разводе   1110   85\n",
       "4                 4  Не женат / не замужем   2536  274"
      ]
     },
     "execution_count": 43,
     "metadata": {},
     "output_type": "execute_result"
    }
   ],
   "source": [
    "#с помощью метода merge() соединим словарь и сводную таблицу\n",
    "df_new = df_family.merge(pivot_family_status, on='family_status_id', how='left')\n",
    "df_new"
   ]
  },
  {
   "cell_type": "code",
   "execution_count": 44,
   "id": "39e7a86c",
   "metadata": {},
   "outputs": [
    {
     "data": {
      "text/html": [
       "<div>\n",
       "<style scoped>\n",
       "    .dataframe tbody tr th:only-of-type {\n",
       "        vertical-align: middle;\n",
       "    }\n",
       "\n",
       "    .dataframe tbody tr th {\n",
       "        vertical-align: top;\n",
       "    }\n",
       "\n",
       "    .dataframe thead th {\n",
       "        text-align: right;\n",
       "    }\n",
       "</style>\n",
       "<table border=\"1\" class=\"dataframe\">\n",
       "  <thead>\n",
       "    <tr style=\"text-align: right;\">\n",
       "      <th></th>\n",
       "      <th>family_status_id</th>\n",
       "      <th>family_status</th>\n",
       "      <th>0</th>\n",
       "      <th>1</th>\n",
       "      <th>conv</th>\n",
       "    </tr>\n",
       "  </thead>\n",
       "  <tbody>\n",
       "    <tr>\n",
       "      <th>4</th>\n",
       "      <td>4</td>\n",
       "      <td>Не женат / не замужем</td>\n",
       "      <td>2536</td>\n",
       "      <td>274</td>\n",
       "      <td>9.750890</td>\n",
       "    </tr>\n",
       "    <tr>\n",
       "      <th>1</th>\n",
       "      <td>1</td>\n",
       "      <td>гражданский брак</td>\n",
       "      <td>3763</td>\n",
       "      <td>388</td>\n",
       "      <td>9.347145</td>\n",
       "    </tr>\n",
       "    <tr>\n",
       "      <th>0</th>\n",
       "      <td>0</td>\n",
       "      <td>женат / замужем</td>\n",
       "      <td>11408</td>\n",
       "      <td>931</td>\n",
       "      <td>7.545182</td>\n",
       "    </tr>\n",
       "    <tr>\n",
       "      <th>3</th>\n",
       "      <td>3</td>\n",
       "      <td>в разводе</td>\n",
       "      <td>1110</td>\n",
       "      <td>85</td>\n",
       "      <td>7.112971</td>\n",
       "    </tr>\n",
       "    <tr>\n",
       "      <th>2</th>\n",
       "      <td>2</td>\n",
       "      <td>вдовец / вдова</td>\n",
       "      <td>896</td>\n",
       "      <td>63</td>\n",
       "      <td>6.569343</td>\n",
       "    </tr>\n",
       "  </tbody>\n",
       "</table>\n",
       "</div>"
      ],
      "text/plain": [
       "   family_status_id          family_status      0    1      conv\n",
       "4                 4  Не женат / не замужем   2536  274  9.750890\n",
       "1                 1       гражданский брак   3763  388  9.347145\n",
       "0                 0        женат / замужем  11408  931  7.545182\n",
       "3                 3              в разводе   1110   85  7.112971\n",
       "2                 2         вдовец / вдова    896   63  6.569343"
      ]
     },
     "execution_count": 44,
     "metadata": {},
     "output_type": "execute_result"
    }
   ],
   "source": [
    "#добавим новый столбец с соотношением задолжности к общему числу по каждому статусу семейного положения\n",
    "df_new['conv']=(df_new[1]/(df_new[1]+df_new[0]))*100 \n",
    "df_new=df_new.sort_values(by='conv', ascending=False) #отсортируем по убыванию новый столбец 'conv'\n",
    "df_new"
   ]
  },
  {
   "cell_type": "markdown",
   "id": "6ff83bd1",
   "metadata": {},
   "source": [
    "##### Вывод 2:"
   ]
  },
  {
   "cell_type": "markdown",
   "id": "c0c28e21",
   "metadata": {},
   "source": [
    "Если сравнить полученные процентные соотношения, то мы можем сделать следующий вывод:\n",
    "* самый надежный клиент со статусом `вдовец / вдова`\n",
    "* самый не надежный со статусом `Не женат / не замужем`\n",
    "    \n",
    "Соответственно мы можем сделать вывод, что существует зависимость между семейным положением и возвратом кредита в срок."
   ]
  },
  {
   "cell_type": "markdown",
   "id": "c3e9202b",
   "metadata": {},
   "source": [
    "##### Вопрос 3:"
   ]
  },
  {
   "cell_type": "markdown",
   "id": "675d8c39",
   "metadata": {},
   "source": [
    "#### Есть ли зависимость между уровнем дохода и возвратом кредита в срок?"
   ]
  },
  {
   "cell_type": "markdown",
   "id": "6005df90",
   "metadata": {},
   "source": [
    "Ранее мы создавали категории по уровням дохода и создали следующую градацию:\n",
    "* 0–30000 — 'E';\n",
    "* 30001–50000 — 'D';\n",
    "* 50001–200000 — 'C';\n",
    "* 200001–1000000 — 'B';\n",
    "* 1000001 и выше — 'A'.\n",
    "\n",
    "Эти категории были записаны в новый столбец total_income_category.\n",
    "\n",
    "Используем эти данные для поиска зависимости возврата кредита в срок. для этого создадим сводную таблицу, где строки - уровни дохода, а столбцы - была ли задолжность "
   ]
  },
  {
   "cell_type": "code",
   "execution_count": 45,
   "id": "c4e30a8a",
   "metadata": {},
   "outputs": [
    {
     "data": {
      "text/html": [
       "<div>\n",
       "<style scoped>\n",
       "    .dataframe tbody tr th:only-of-type {\n",
       "        vertical-align: middle;\n",
       "    }\n",
       "\n",
       "    .dataframe tbody tr th {\n",
       "        vertical-align: top;\n",
       "    }\n",
       "\n",
       "    .dataframe thead tr th {\n",
       "        text-align: left;\n",
       "    }\n",
       "\n",
       "    .dataframe thead tr:last-of-type th {\n",
       "        text-align: right;\n",
       "    }\n",
       "</style>\n",
       "<table border=\"1\" class=\"dataframe\">\n",
       "  <thead>\n",
       "    <tr>\n",
       "      <th></th>\n",
       "      <th>count</th>\n",
       "      <th>sum</th>\n",
       "      <th>mean</th>\n",
       "    </tr>\n",
       "    <tr>\n",
       "      <th></th>\n",
       "      <th>debt</th>\n",
       "      <th>debt</th>\n",
       "      <th>debt</th>\n",
       "    </tr>\n",
       "    <tr>\n",
       "      <th>total_income_category</th>\n",
       "      <th></th>\n",
       "      <th></th>\n",
       "      <th></th>\n",
       "    </tr>\n",
       "  </thead>\n",
       "  <tbody>\n",
       "    <tr>\n",
       "      <th>A</th>\n",
       "      <td>25</td>\n",
       "      <td>2</td>\n",
       "      <td>0.080000</td>\n",
       "    </tr>\n",
       "    <tr>\n",
       "      <th>B</th>\n",
       "      <td>5041</td>\n",
       "      <td>356</td>\n",
       "      <td>0.070621</td>\n",
       "    </tr>\n",
       "    <tr>\n",
       "      <th>C</th>\n",
       "      <td>16016</td>\n",
       "      <td>1360</td>\n",
       "      <td>0.084915</td>\n",
       "    </tr>\n",
       "    <tr>\n",
       "      <th>D</th>\n",
       "      <td>350</td>\n",
       "      <td>21</td>\n",
       "      <td>0.060000</td>\n",
       "    </tr>\n",
       "    <tr>\n",
       "      <th>E</th>\n",
       "      <td>22</td>\n",
       "      <td>2</td>\n",
       "      <td>0.090909</td>\n",
       "    </tr>\n",
       "  </tbody>\n",
       "</table>\n",
       "</div>"
      ],
      "text/plain": [
       "                       count   sum      mean\n",
       "                        debt  debt      debt\n",
       "total_income_category                       \n",
       "A                         25     2  0.080000\n",
       "B                       5041   356  0.070621\n",
       "C                      16016  1360  0.084915\n",
       "D                        350    21  0.060000\n",
       "E                         22     2  0.090909"
      ]
     },
     "execution_count": 45,
     "metadata": {},
     "output_type": "execute_result"
    }
   ],
   "source": [
    "# создадим сводную таблицу с помощью pivot_table()\n",
    "pivot_total_incom = df.pivot_table(index='total_income_category', values='debt', aggfunc=['count', 'sum', 'mean'])\n",
    "pivot_total_incom"
   ]
  },
  {
   "cell_type": "markdown",
   "id": "9eea5db6",
   "metadata": {},
   "source": [
    "##### Вывод 3:"
   ]
  },
  {
   "cell_type": "markdown",
   "id": "d01e01a0",
   "metadata": {},
   "source": [
    "Из полученных данных мы видим, что больше всего кредитов было выдано клиентам с уровнем дохода 50001–200000 и меньше всего выдавались кредиты самым бедным и самым богатым.\n",
    "\n",
    "При уменьшении уровня дохода мы не наблюдаем равномерного изменения процентного соотношения, соответственно мы может сделать вывод, что зависимости нет между уровнем дохода и возвратом кредита в срок."
   ]
  },
  {
   "cell_type": "markdown",
   "id": "b253ce51",
   "metadata": {},
   "source": [
    "##### Вопрос 4:"
   ]
  },
  {
   "cell_type": "markdown",
   "id": "1fe8f8ae",
   "metadata": {},
   "source": [
    "#### Как разные цели кредита влияют на его возврат в срок?"
   ]
  },
  {
   "cell_type": "markdown",
   "id": "1cdfe363",
   "metadata": {},
   "source": [
    "Ранее мы разбивали цели кредита на четыре типа:\n",
    "* `операции с автомобилем`\n",
    "* `операции с недвижимостью`\n",
    "* `проведение сявадьбы`\n",
    "* `получение образовани`\n",
    "\n",
    "Рассмотрим как влияют цели на возврат кредита. Для этого создадим сводную таблицу, где в строках будут цели, а в столбцах возврат кредита."
   ]
  },
  {
   "cell_type": "code",
   "execution_count": 46,
   "id": "e2764b10",
   "metadata": {},
   "outputs": [
    {
     "data": {
      "text/html": [
       "<div>\n",
       "<style scoped>\n",
       "    .dataframe tbody tr th:only-of-type {\n",
       "        vertical-align: middle;\n",
       "    }\n",
       "\n",
       "    .dataframe tbody tr th {\n",
       "        vertical-align: top;\n",
       "    }\n",
       "\n",
       "    .dataframe thead tr th {\n",
       "        text-align: left;\n",
       "    }\n",
       "\n",
       "    .dataframe thead tr:last-of-type th {\n",
       "        text-align: right;\n",
       "    }\n",
       "</style>\n",
       "<table border=\"1\" class=\"dataframe\">\n",
       "  <thead>\n",
       "    <tr>\n",
       "      <th></th>\n",
       "      <th>count</th>\n",
       "      <th>sum</th>\n",
       "      <th>mean</th>\n",
       "    </tr>\n",
       "    <tr>\n",
       "      <th></th>\n",
       "      <th>debt</th>\n",
       "      <th>debt</th>\n",
       "      <th>debt</th>\n",
       "    </tr>\n",
       "    <tr>\n",
       "      <th>purpose_category</th>\n",
       "      <th></th>\n",
       "      <th></th>\n",
       "      <th></th>\n",
       "    </tr>\n",
       "  </thead>\n",
       "  <tbody>\n",
       "    <tr>\n",
       "      <th>операции с автомобилем</th>\n",
       "      <td>4306</td>\n",
       "      <td>403</td>\n",
       "      <td>0.093590</td>\n",
       "    </tr>\n",
       "    <tr>\n",
       "      <th>операции с недвижимостью</th>\n",
       "      <td>10811</td>\n",
       "      <td>782</td>\n",
       "      <td>0.072334</td>\n",
       "    </tr>\n",
       "    <tr>\n",
       "      <th>получение образования</th>\n",
       "      <td>4013</td>\n",
       "      <td>370</td>\n",
       "      <td>0.092200</td>\n",
       "    </tr>\n",
       "    <tr>\n",
       "      <th>проведение свадьбы</th>\n",
       "      <td>2324</td>\n",
       "      <td>186</td>\n",
       "      <td>0.080034</td>\n",
       "    </tr>\n",
       "  </tbody>\n",
       "</table>\n",
       "</div>"
      ],
      "text/plain": [
       "                          count  sum      mean\n",
       "                           debt debt      debt\n",
       "purpose_category                              \n",
       "операции с автомобилем     4306  403  0.093590\n",
       "операции с недвижимостью  10811  782  0.072334\n",
       "получение образования      4013  370  0.092200\n",
       "проведение свадьбы         2324  186  0.080034"
      ]
     },
     "execution_count": 46,
     "metadata": {},
     "output_type": "execute_result"
    }
   ],
   "source": [
    "# создадим сводную таблицу с помощью pivot_table()\n",
    "pivot_purpose_category = df.pivot_table(index='purpose_category', values='debt', aggfunc=['count', 'sum', 'mean'])\n",
    "pivot_purpose_category"
   ]
  },
  {
   "cell_type": "markdown",
   "id": "b7529f94",
   "metadata": {},
   "source": [
    "##### Вывод 4:"
   ]
  },
  {
   "cell_type": "markdown",
   "id": "cc10a857",
   "metadata": {},
   "source": [
    "Если сравнивать процентные соотношения, то мы можем разбить наши цели кредита на две группы:\n",
    "   1. операции с автомобилем и получение образования (около 9%)\n",
    "   2. операции с недвижимостью и проведение свадьбы (около 7%)\n",
    "    \n",
    "При чем вторая группа подходит более ответственно к возврату кредита, чем первая группа.\n",
    "Самая востребованная и как показало процентное соотношение самая надежная категория - это операции с недвижимостью."
   ]
  },
  {
   "cell_type": "markdown",
   "id": "eb1ff9d6",
   "metadata": {},
   "source": [
    "## Общий вывод:"
   ]
  },
  {
   "cell_type": "markdown",
   "id": "c3ec9bad",
   "metadata": {},
   "source": [
    "Мы рассмотрели четыре вопроса и пришли к следующим результатам:\n",
    "1. мы может с уверенностью сделать вывод, что существует зависимость между семейным положением и возвратом кредита в срок.\n",
    "При чем самые надежные клиенты со статусом вдовец / вдова.\n",
    "\n",
    "2. зависимость между количеством детей и возвратом кредита в срок частично подтверждается, так данные показали следующие закономерности:\n",
    "* когда у клиента детей нет вообще, то процент задолжностей явно ниже, чем у клиентов с детьми\n",
    "* когда дети есть, то с увеличением количества детей процент задолжностей незначительно, но все же увеличивается.\n",
    "\n",
    "То есть зависимость четко прослеживается между наличием/отсутствием детей и возвратом кредита, а не с увеличением количества детей.\n",
    "\n",
    "3. При уменьшении уровня дохода мы не наблюдаем равномерного изменения процентного соотношения, соответственно мы может сделать вывод, что зависимости нет между уровнем дохода и возвратом кредита в срок.\n",
    "4. В результате исследования мы выделили самую надежную категорию клиентов, которые указали цель- операции с недвижимостью."
   ]
  }
 ],
 "metadata": {
  "ExecuteTimeLog": [
   {
    "duration": 792,
    "start_time": "2022-02-14T19:22:31.148Z"
   },
   {
    "duration": 30,
    "start_time": "2022-02-14T19:24:06.963Z"
   },
   {
    "duration": 21,
    "start_time": "2022-02-14T19:25:23.075Z"
   },
   {
    "duration": 82,
    "start_time": "2022-02-14T20:32:16.412Z"
   },
   {
    "duration": 5,
    "start_time": "2022-02-14T20:54:17.965Z"
   },
   {
    "duration": 9,
    "start_time": "2022-02-14T20:55:41.752Z"
   },
   {
    "duration": 5,
    "start_time": "2022-02-14T20:58:12.626Z"
   },
   {
    "duration": 24,
    "start_time": "2022-02-14T21:02:12.083Z"
   },
   {
    "duration": 348,
    "start_time": "2022-02-14T21:04:33.072Z"
   },
   {
    "duration": 12,
    "start_time": "2022-02-14T21:04:43.180Z"
   },
   {
    "duration": 26,
    "start_time": "2022-02-14T21:06:01.529Z"
   },
   {
    "duration": 6,
    "start_time": "2022-02-14T21:15:32.583Z"
   },
   {
    "duration": 6,
    "start_time": "2022-02-14T21:15:57.479Z"
   },
   {
    "duration": 7,
    "start_time": "2022-02-14T21:21:35.525Z"
   },
   {
    "duration": 6,
    "start_time": "2022-02-14T21:22:17.804Z"
   },
   {
    "duration": 104,
    "start_time": "2022-02-14T21:35:26.438Z"
   },
   {
    "duration": 11,
    "start_time": "2022-02-14T21:58:14.699Z"
   },
   {
    "duration": 7,
    "start_time": "2022-02-14T21:58:52.497Z"
   },
   {
    "duration": 7,
    "start_time": "2022-02-14T21:59:48.383Z"
   },
   {
    "duration": 6,
    "start_time": "2022-02-14T21:59:51.955Z"
   },
   {
    "duration": 127,
    "start_time": "2022-02-28T13:06:00.432Z"
   }
  ],
  "kernelspec": {
   "display_name": "Python 3 (ipykernel)",
   "language": "python",
   "name": "python3"
  },
  "language_info": {
   "codemirror_mode": {
    "name": "ipython",
    "version": 3
   },
   "file_extension": ".py",
   "mimetype": "text/x-python",
   "name": "python",
   "nbconvert_exporter": "python",
   "pygments_lexer": "ipython3",
   "version": "3.9.7"
  },
  "toc": {
   "base_numbering": 1,
   "nav_menu": {},
   "number_sections": true,
   "sideBar": true,
   "skip_h1_title": true,
   "title_cell": "Table of Contents",
   "title_sidebar": "Contents",
   "toc_cell": false,
   "toc_position": {},
   "toc_section_display": true,
   "toc_window_display": false
  }
 },
 "nbformat": 4,
 "nbformat_minor": 5
}
